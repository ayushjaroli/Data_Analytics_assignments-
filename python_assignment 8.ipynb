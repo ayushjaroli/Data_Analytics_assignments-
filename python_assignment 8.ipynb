{
 "cells": [
  {
   "cell_type": "markdown",
   "id": "43b22224",
   "metadata": {},
   "source": [
    "#### 1.\tPython – Least Frequent Character in String."
   ]
  },
  {
   "cell_type": "code",
   "execution_count": 23,
   "id": "d1c3d51b",
   "metadata": {},
   "outputs": [
    {
     "name": "stdout",
     "output_type": "stream",
     "text": [
      "The minimum of all characters in GeeksforGeeks is : a\n"
     ]
    }
   ],
   "source": [
    "st =\"asdfgghhjjkkll\"\n",
    "dict_1 = {}\n",
    "for i in st:\n",
    "    if i in dict_1:\n",
    "        dict_1[i] += 1\n",
    "    else:\n",
    "        dict_1[i] = 1\n",
    "res = min(dict_1, key = dict_1.get) \n",
    "print (\"The minimum of all characters in GeeksforGeeks is : \" + str(res))\n"
   ]
  },
  {
   "cell_type": "markdown",
   "id": "7c75e957",
   "metadata": {},
   "source": [
    "#### 2.\tPython | Maximum frequency character in String."
   ]
  },
  {
   "cell_type": "code",
   "execution_count": 24,
   "id": "053b07cd",
   "metadata": {},
   "outputs": [
    {
     "name": "stdout",
     "output_type": "stream",
     "text": [
      "The minimum of all characters in GeeksforGeeks is : g\n"
     ]
    }
   ],
   "source": [
    "st =\"asdfgghhjjkkll\"\n",
    "dict_1 = {}\n",
    "for i in st:\n",
    "    if i in dict_1:\n",
    "        dict_1[i] += 1\n",
    "    else:\n",
    "        dict_1[i] = 1\n",
    "res = max(dict_1, key = dict_1.get) \n",
    "print (\"The minimum of all characters in GeeksforGeeks is : \" + str(res))\n"
   ]
  },
  {
   "cell_type": "markdown",
   "id": "98433d0e",
   "metadata": {},
   "source": [
    "#### 3.\tPython | Program to check if a string contains any special character."
   ]
  },
  {
   "cell_type": "code",
   "execution_count": 25,
   "id": "e57a59f2",
   "metadata": {},
   "outputs": [
    {
     "name": "stdout",
     "output_type": "stream",
     "text": [
      "Enter any string: dhxnhsnxh$%^dmfhn&*\n",
      "The string contains special characters.\n"
     ]
    }
   ],
   "source": [
    "import re\n",
    "string = input('Enter any string: ')\n",
    "special_char = re.compile('[@_!#$%^&*()<>?/\\|}{~:]')\n",
    "if(special_char.search(string) == None):\n",
    "    print('String does not contain any special characters.')\n",
    "else:\n",
    "    print('The string contains special characters.')"
   ]
  },
  {
   "cell_type": "markdown",
   "id": "4822504a",
   "metadata": {},
   "source": [
    "#### 4.\tGenerating random strings until a given string is generated."
   ]
  },
  {
   "cell_type": "code",
   "execution_count": null,
   "id": "23903cf8",
   "metadata": {},
   "outputs": [],
   "source": [
    "\n",
    "import string\n",
    "import random\n",
    "import time\n",
    "possibleChar = string.ascii_lowercase + string.digits + string.ascii_uppercase + ' ., !?;:'\n",
    "t = str(input())\n",
    "attemptThis = ''.join(random.choice(possibleChar) for i in range(len(t)))\n",
    "attemptNext = ''\n",
    "done= False\n",
    "iteration = 0\n",
    "while done == False:\n",
    "    print(attemptThis)\n",
    "      \n",
    "    attemptNext = ''\n",
    "    done = True\n",
    "\n",
    "    for i in range(len(t)):\n",
    "        if attemptThis[i] != t[i]:\n",
    "            done = False\n",
    "            attemptNext += random.choice(possibleChar)\n",
    "        else:\n",
    "            attemptNext += t[i]\n",
    "\n",
    "    iteration = iteration + 1\n",
    "    attemptThis = attemptNext\n",
    "    time.sleep(0.1)\n",
    "\n",
    "print(\"Target matched after \",iteration,\" iterations\")"
   ]
  },
  {
   "cell_type": "markdown",
   "id": "477182d0",
   "metadata": {},
   "source": [
    "#### 5.\tFind words which are greater than given length k."
   ]
  },
  {
   "cell_type": "code",
   "execution_count": 5,
   "id": "31aae04a",
   "metadata": {},
   "outputs": [
    {
     "name": "stdout",
     "output_type": "stream",
     "text": [
      "2\n",
      "['very', 'good', 'learning', 'data', 'analytics.']\n"
     ]
    }
   ],
   "source": [
    "str = \"i am very good at learning data analytics.\"\n",
    "k = int(input())\n",
    "string = []\n",
    "text = str.split(\" \")\n",
    "for x in text:\n",
    "       if len(x) > k:\n",
    "            string.append(x)\n",
    "print(string)"
   ]
  },
  {
   "cell_type": "markdown",
   "id": "89eaf438",
   "metadata": {},
   "source": [
    "#### 6.\tPython program for removing i-th character from a string."
   ]
  },
  {
   "cell_type": "code",
   "execution_count": 23,
   "id": "b61a4031",
   "metadata": {},
   "outputs": [
    {
     "name": "stdout",
     "output_type": "stream",
     "text": [
      "i=5\n",
      "i am ery good at learning data analytics.\n"
     ]
    }
   ],
   "source": [
    "st = \"i am very good at learning data analytics.\"\n",
    "i = int(input(\"i=\"))\n",
    "b=st[i]\n",
    "print(st.replace(b,\"\"))"
   ]
  },
  {
   "cell_type": "markdown",
   "id": "a22bdee8",
   "metadata": {},
   "source": [
    "#### 7.\tPython program to split and join a string."
   ]
  },
  {
   "cell_type": "code",
   "execution_count": 33,
   "id": "95a3034b",
   "metadata": {},
   "outputs": [
    {
     "name": "stdout",
     "output_type": "stream",
     "text": [
      "['i', 'am', 'very', 'good', 'at', 'learning', 'data', 'analytics.']\n",
      "i- -a-m- -v-e-r-y- -g-o-o-d- -a-t- -l-e-a-r-n-i-n-g- -d-a-t-a- -a-n-a-l-y-t-i-c-s-.\n"
     ]
    }
   ],
   "source": [
    "st = \"i am very good at learning data analytics.\"\n",
    "st_splt = st.split(' ')\n",
    "print(st_splt)\n",
    "string = '-'.join(st)\n",
    "print(string)"
   ]
  },
  {
   "cell_type": "markdown",
   "id": "c8eb0237",
   "metadata": {},
   "source": [
    "#### 8.\tPython | Check if a given string is binary string or not."
   ]
  },
  {
   "cell_type": "code",
   "execution_count": 60,
   "id": "8d8e710a",
   "metadata": {},
   "outputs": [
    {
     "name": "stdout",
     "output_type": "stream",
     "text": [
      "Yes\n"
     ]
    }
   ],
   "source": [
    "st =\"0101010010\"\n",
    "p = set(st)\n",
    "s = {'0', '1'}\n",
    "if s == p or p == {'0'} or p == {'1'}:\n",
    "    print(\"Yes\")\n",
    "else :\n",
    "    print(\"No\")"
   ]
  },
  {
   "cell_type": "markdown",
   "id": "7091b11d",
   "metadata": {},
   "source": [
    "#### 9.\tPython program to find uncommon words from two Strings."
   ]
  },
  {
   "cell_type": "code",
   "execution_count": 79,
   "id": "e34f99ed",
   "metadata": {},
   "outputs": [
    {
     "name": "stdout",
     "output_type": "stream",
     "text": [
      "{'ineuron', 'from'}\n"
     ]
    }
   ],
   "source": [
    "st_1 = \"i am very good at learning data analytics from ineuron .\"\n",
    "st_2 = \"i am very good at learning data analytics .\"\n",
    "s1=st_1.split(\" \")\n",
    "s2=st_2.split(\" \")\n",
    "ss1=set(s1)\n",
    "ss2=set(s2)\n",
    "if len(ss1)>len(ss2):\n",
    "    print(ss1-ss2)\n",
    "elif len(ss1)==len(ss2):\n",
    "    print(0)\n",
    "else:\n",
    "    print(ss2-ss1)\n",
    "       "
   ]
  },
  {
   "cell_type": "markdown",
   "id": "381a9bf6",
   "metadata": {},
   "source": [
    "#### 10.\tPython – Replace duplicate Occurrence in String."
   ]
  },
  {
   "cell_type": "code",
   "execution_count": 80,
   "id": "dd3d929f",
   "metadata": {},
   "outputs": [
    {
     "name": "stdout",
     "output_type": "stream",
     "text": [
      "The string is : \n",
      "Jane is the best . Jane loves to cook. Jane and Will cook together\n",
      "The string after replacing with values is : \n",
      "Jane is the best . She loves to cook. She and Will cook together\n"
     ]
    }
   ],
   "source": [
    "my_str = 'Jane is the best . Jane loves to cook. Jane and Will cook together'\n",
    "print(\"The string is : \")\n",
    "print(my_str)\n",
    "replace_dict = {'Jane' : 'She' }\n",
    "my_list = my_str.split(' ')\n",
    "my_result = ' '.join([replace_dict.get(val) if val in replace_dict.keys() and my_list.index(val) != idx else val for idx, val in enumerate(my_list)])\n",
    "print(\"The string after replacing with values is : \")\n",
    "print(my_result)"
   ]
  }
 ],
 "metadata": {
  "kernelspec": {
   "display_name": "Python 3 (ipykernel)",
   "language": "python",
   "name": "python3"
  },
  "language_info": {
   "codemirror_mode": {
    "name": "ipython",
    "version": 3
   },
   "file_extension": ".py",
   "mimetype": "text/x-python",
   "name": "python",
   "nbconvert_exporter": "python",
   "pygments_lexer": "ipython3",
   "version": "3.9.7"
  }
 },
 "nbformat": 4,
 "nbformat_minor": 5
}
