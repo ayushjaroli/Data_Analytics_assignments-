{
 "cells": [
  {
   "cell_type": "markdown",
   "id": "924d1ae4",
   "metadata": {},
   "source": [
    "##### 1.\tYou are going to play 2 games of chess with an opponent whom you have never played against before (for the sake of this problem). Your opponent is equally likely to be a beginner, intermediate, or a master. Depending on which, your chances of winning an individual game are 90%, 50%, or 30%, respectively\n",
    "##### (a) What is your probability of winning the first game? \n",
    "##### (b) Congratulations: you won the first game! Given this information, what is the probability that you will also win the second game \n",
    "##### (c) Explain the distinction between assuming that the outcomes of the games are independent and assuming that they are conditionally independent given the opponent’s skill level. Which of these assumptions seems more reasonable, and why?\n"
   ]
  },
  {
   "cell_type": "markdown",
   "id": "96f3e08e",
   "metadata": {},
   "source": [
    "#### Ans.(1)(a) 17/30"
   ]
  },
  {
   "cell_type": "markdown",
   "id": "ee815bc8",
   "metadata": {},
   "source": [
    "#### Ans.(1)(b) 23/34"
   ]
  },
  {
   "cell_type": "markdown",
   "id": "8bab4eff",
   "metadata": {},
   "source": [
    "#### Ans.(1)(c) Independence here means that knowing one game’s outcome gives no information about the other game’s outcome, while conditional independence is the same statement where all probabilities are conditional on the opponent’s skill level. Conditional independence given the opponent’s skill level is a more reasonable assumption here. This is because winning the first game gives information about the opponent’s skill level, which in turn gives information about the result of the second game. That is, if the opponent’s skill level is treated as fixed and known, then it may be reasonable to assume independence of games given this information; with the opponent’s skill level random, earlier games can be used to help infer the opponent’s skill level, which a↵ects the probabilities for future games."
   ]
  },
  {
   "cell_type": "code",
   "execution_count": null,
   "id": "de1ac4d8",
   "metadata": {},
   "outputs": [],
   "source": []
  }
 ],
 "metadata": {
  "kernelspec": {
   "display_name": "Python 3 (ipykernel)",
   "language": "python",
   "name": "python3"
  },
  "language_info": {
   "codemirror_mode": {
    "name": "ipython",
    "version": 3
   },
   "file_extension": ".py",
   "mimetype": "text/x-python",
   "name": "python",
   "nbconvert_exporter": "python",
   "pygments_lexer": "ipython3",
   "version": "3.9.7"
  }
 },
 "nbformat": 4,
 "nbformat_minor": 5
}
