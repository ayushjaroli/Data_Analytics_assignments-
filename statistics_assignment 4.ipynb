{
 "cells": [
  {
   "cell_type": "markdown",
   "id": "ee3f8149",
   "metadata": {},
   "source": [
    "##### 1.\tIs it possible that an event is independent of itself? If so, when?\n"
   ]
  },
  {
   "cell_type": "markdown",
   "id": "150bed86",
   "metadata": {},
   "source": [
    "#### Yes, it is possible only if P(event) = 0 or 1"
   ]
  },
  {
   "cell_type": "markdown",
   "id": "c41a48fe",
   "metadata": {},
   "source": [
    "##### 2.\tIs it always true that if A and B are independent events, then Ac and Bc are independent events? Show that it is, or give a counterexample.\n"
   ]
  },
  {
   "cell_type": "markdown",
   "id": "fb3440db",
   "metadata": {},
   "source": [
    "#### Ans.(2) If A and B are independent events, then the events A and B' are also independent. The events A and B are independent, so, P(A ∩ B) = P(A) P(B). The events A ∩ B and A ∩ B' are mutually exclusive and together they form the event A."
   ]
  }
 ],
 "metadata": {
  "kernelspec": {
   "display_name": "Python 3 (ipykernel)",
   "language": "python",
   "name": "python3"
  },
  "language_info": {
   "codemirror_mode": {
    "name": "ipython",
    "version": 3
   },
   "file_extension": ".py",
   "mimetype": "text/x-python",
   "name": "python",
   "nbconvert_exporter": "python",
   "pygments_lexer": "ipython3",
   "version": "3.9.7"
  }
 },
 "nbformat": 4,
 "nbformat_minor": 5
}
