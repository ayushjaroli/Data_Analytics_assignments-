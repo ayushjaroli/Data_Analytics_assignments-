{
 "cells": [
  {
   "cell_type": "markdown",
   "id": "7f63c89d",
   "metadata": {},
   "source": [
    "#### 1.\tPython Program for Recursive Insertion Sort."
   ]
  },
  {
   "cell_type": "code",
   "execution_count": 6,
   "id": "f3f71a47",
   "metadata": {},
   "outputs": [
    {
     "name": "stdout",
     "output_type": "stream",
     "text": [
      "Sorted array is:\n",
      "1 3 3 4 4 5 5 6 8 "
     ]
    }
   ],
   "source": [
    "arr = [1,5,3,4,8,6,3,4,5]\n",
    "n = len(arr)\n",
    "if n<=1:\n",
    "    insertionSortRecursive(arr,n-1)\n",
    "    last = arr[n-1]\n",
    "    j = n-2\n",
    "    while (j>=0 and arr[j]>last):\n",
    "      arr[j+1] = arr[j]\n",
    "      j = j-1\n",
    "      arr[j+1]=last\n",
    "insertionSortRecursive(arr, n)\n",
    "print(\"Sorted array is:\")\n",
    "for i in range(n):\n",
    "   print(arr[i],end=\" \")"
   ]
  },
  {
   "cell_type": "markdown",
   "id": "fd86027d",
   "metadata": {},
   "source": [
    "#### 2.\tPython Program for QuickSort."
   ]
  },
  {
   "cell_type": "code",
   "execution_count": 7,
   "id": "38348765",
   "metadata": {},
   "outputs": [
    {
     "name": "stdout",
     "output_type": "stream",
     "text": [
      "[1, 2, 3, 4, 5]\n",
      "[1, 2, 2, 4, 4, 5, 6, 6, 7, 8]\n"
     ]
    }
   ],
   "source": [
    "def partition(l, r, nums):\n",
    "\n",
    "    pivot, ptr = nums[r], l\n",
    "    for i in range(l, r):\n",
    "        if nums[i] <= pivot:\n",
    "\n",
    "            nums[i], nums[ptr] = nums[ptr], nums[i]\n",
    "            ptr += 1\n",
    "\n",
    "    nums[ptr], nums[r] = nums[r], nums[ptr]\n",
    "    return ptr\n",
    "\n",
    "def quicksort(l, r, nums):\n",
    "    if len(nums) == 1: \n",
    "        return nums\n",
    "    if l < r:\n",
    "        pi = partition(l, r, nums)\n",
    "        quicksort(l, pi-1, nums) \n",
    "        quicksort(pi+1, r, nums)  \n",
    "    return nums\n",
    " \n",
    " \n",
    "example = [4, 5, 1, 2, 3]\n",
    "result = [1, 2, 3, 4, 5]\n",
    "print(quicksort(0, len(example)-1, example))\n",
    " \n",
    "example = [2, 5, 6, 1, 4, 6, 2, 4, 7, 8]\n",
    "result = [1, 2, 2, 4, 4, 5, 6, 6, 7, 8]\n",
    "\n",
    "print(quicksort(0, len(example)-1, example))"
   ]
  },
  {
   "cell_type": "markdown",
   "id": "e027cf50",
   "metadata": {},
   "source": [
    "#### 3.\tPython Program for Iterative Quick Sort."
   ]
  },
  {
   "cell_type": "code",
   "execution_count": 13,
   "id": "220bf54a",
   "metadata": {},
   "outputs": [
    {
     "name": "stdout",
     "output_type": "stream",
     "text": [
      "Sorted array is:\n",
      "1\n",
      "2\n",
      "2\n",
      "3\n",
      "3\n",
      "3\n",
      "4\n",
      "5\n"
     ]
    }
   ],
   "source": [
    "def partition(arr,l,h):\n",
    "    i = ( l - 1 )\n",
    "    x = arr[h]\n",
    "  \n",
    "    for j in range(l , h):\n",
    "        if   arr[j] <= x:\n",
    "\n",
    "            i = i+1\n",
    "            arr[i],arr[j] = arr[j],arr[i]\n",
    "  \n",
    "    arr[i+1],arr[h] = arr[h],arr[i+1]\n",
    "    return (i+1)\n",
    "\n",
    "def quickSortIterative(arr,l,h):\n",
    "\n",
    "    size = h - l + 1\n",
    "    stack = [0] * (size)\n",
    "\n",
    "    top = -1\n",
    "\n",
    "    top = top + 1\n",
    "    stack[top] = l\n",
    "    top = top + 1\n",
    "    stack[top] = h\n",
    "\n",
    "    while top >= 0:\n",
    "\n",
    "        h = stack[top]\n",
    "        top = top - 1\n",
    "        l = stack[top]\n",
    "        top = top - 1\n",
    "\n",
    "        p = partition( arr, l, h )\n",
    "\n",
    "        if p-1 > l:\n",
    "            top = top + 1\n",
    "            stack[top] = l\n",
    "            top = top + 1\n",
    "            stack[top] = p - 1\n",
    "\n",
    "        if p+1 < h:\n",
    "            top = top + 1\n",
    "            stack[top] = p + 1\n",
    "            top = top + 1\n",
    "            stack[top] = h\n",
    "  \n",
    "# Driver code to test above\n",
    "arr = [4, 3, 5, 2, 1, 3, 2, 3]\n",
    "n = len(arr)\n",
    "quickSortIterative(arr, 0, n-1)\n",
    "print (\"Sorted array is:\")\n",
    "for i in range(n):\n",
    "    print (\"%d\" %arr[i])"
   ]
  },
  {
   "cell_type": "markdown",
   "id": "fe7a968a",
   "metadata": {},
   "source": [
    "#### 4.\tPython Program for Selection Sort."
   ]
  },
  {
   "cell_type": "code",
   "execution_count": 10,
   "id": "0702636c",
   "metadata": {},
   "outputs": [
    {
     "name": "stdout",
     "output_type": "stream",
     "text": [
      "Sorted array\n",
      "11\n",
      "12\n",
      "22\n",
      "25\n",
      "64\n"
     ]
    }
   ],
   "source": [
    "import sys\n",
    "A = [64, 25, 12, 22, 11]\n",
    "for i in range(len(A)):\n",
    "    min_idx = i\n",
    "    for j in range(i+1, len(A)):\n",
    "        if A[min_idx] > A[j]:\n",
    "            min_idx = j\n",
    "       \n",
    "    A[i], A[min_idx] = A[min_idx], A[i]\n",
    "print (\"Sorted array\")\n",
    "for i in range(len(A)):\n",
    "    print(\"%d\" %A[i])"
   ]
  },
  {
   "cell_type": "markdown",
   "id": "f1aa6555",
   "metadata": {},
   "source": [
    "#### 5.\tPython Program for Bubble Sort."
   ]
  },
  {
   "cell_type": "code",
   "execution_count": 14,
   "id": "1c5f0547",
   "metadata": {},
   "outputs": [
    {
     "name": "stdout",
     "output_type": "stream",
     "text": [
      "Sorted array is:\n",
      " 11  12  22  25  34  64  90 "
     ]
    }
   ],
   "source": [
    "arr = [64, 34, 25, 12, 22, 11, 90]\n",
    "n = len(arr)\n",
    "for i in range(n-1):\n",
    "    for j in range(0, n-i-1):\n",
    "        if arr[j] > arr[j + 1] :\n",
    "            arr[j], arr[j + 1] = arr[j + 1], arr[j]\n",
    "print (\"Sorted array is:\")\n",
    "for i in range(len(arr)):\n",
    "    print (\"% d\" % arr[i],end=\" \")"
   ]
  },
  {
   "cell_type": "markdown",
   "id": "64ac6407",
   "metadata": {},
   "source": [
    "#### 6.\tPython Program for Merge Sort."
   ]
  },
  {
   "cell_type": "code",
   "execution_count": 15,
   "id": "df2b8cad",
   "metadata": {},
   "outputs": [
    {
     "name": "stdout",
     "output_type": "stream",
     "text": [
      "Given array is\n",
      "12 11 13 5 6 7 \n",
      "\n",
      "Sorted array is\n",
      "5 6 7 11 12 13 "
     ]
    }
   ],
   "source": [
    "def merge(arr, l, m, r):\n",
    "    n1 = m - l + 1\n",
    "    n2 = r - m\n",
    "\n",
    "    L = [0] * (n1)\n",
    "    R = [0] * (n2)\n",
    "\n",
    "    for i in range(0, n1):\n",
    "        L[i] = arr[l + i]\n",
    " \n",
    "    for j in range(0, n2):\n",
    "        R[j] = arr[m + 1 + j]\n",
    "\n",
    "    i = 0   \n",
    "    j = 0     \n",
    "    k = l     \n",
    " \n",
    "    while i < n1 and j < n2:\n",
    "        if L[i] <= R[j]:\n",
    "            arr[k] = L[i]\n",
    "            i += 1\n",
    "        else:\n",
    "            arr[k] = R[j]\n",
    "            j += 1\n",
    "        k += 1\n",
    " \n",
    "    while i < n1:\n",
    "        arr[k] = L[i]\n",
    "        i += 1\n",
    "        k += 1\n",
    "\n",
    "    while j < n2:\n",
    "        arr[k] = R[j]\n",
    "        j += 1\n",
    "        k += 1\n",
    "\n",
    " \n",
    " \n",
    "def mergeSort(arr, l, r):\n",
    "    if l < r:\n",
    "\n",
    "        m = l+(r-l)//2\n",
    "\n",
    "        mergeSort(arr, l, m)\n",
    "        mergeSort(arr, m+1, r)\n",
    "        merge(arr, l, m, r)\n",
    "\n",
    "arr = [12, 11, 13, 5, 6, 7]\n",
    "n = len(arr)\n",
    "print(\"Given array is\")\n",
    "for i in range(n):\n",
    "    print(\"%d\" % arr[i],end=\" \")\n",
    " \n",
    "mergeSort(arr, 0, n-1)\n",
    "print(\"\\n\\nSorted array is\")\n",
    "for i in range(n):\n",
    "    print(\"%d\" % arr[i],end=\" \")"
   ]
  },
  {
   "cell_type": "markdown",
   "id": "301d1518",
   "metadata": {},
   "source": [
    "#### 7.\tPython Program for Iterative Merge Sort."
   ]
  },
  {
   "cell_type": "code",
   "execution_count": 19,
   "id": "33b8c996",
   "metadata": {},
   "outputs": [
    {
     "name": "stdout",
     "output_type": "stream",
     "text": [
      "The Original array is:  [4, 2, 3, 1, 6, 5]\n",
      "Array after sorting is:  [1, 2, 3, 4, 5, 6]\n"
     ]
    }
   ],
   "source": [
    "def merge(S, temp, From, mid, to):\n",
    " \n",
    "    a = From\n",
    "    b = From\n",
    "    c = mid + 1\n",
    " \n",
    "    while b <= mid and c <= to:\n",
    "        if S[b] < S[c]:\n",
    "            temp[a] = S[b]\n",
    "            b = b + 1\n",
    "        else:\n",
    "            temp[a] = S[c]\n",
    "            c = c + 1\n",
    "        a = a + 1\n",
    " \n",
    "    # remaining elements\n",
    "    while b < len(S) and b <= mid:\n",
    "        temp[a] = S[b]\n",
    "        a = a + 1\n",
    "        b = b + 1\n",
    " \n",
    "    # copy back \n",
    "    for b in range(From, to + 1):\n",
    "        S[b] = temp[b]\n",
    " \n",
    " \n",
    "# Iterative sort\n",
    "def Merge_Sort(S):\n",
    " \n",
    "    low = 0\n",
    "    high = len(S) - 1\n",
    " \n",
    "    # sort list\n",
    "    temp = S.copy()\n",
    " \n",
    "    d = 1\n",
    "    while d <= high - low:\n",
    " \n",
    "        for b in range(low, high, 2*d):\n",
    "            From = b\n",
    "            mid = b + d - 1\n",
    "            to = min(b + 2*d - 1, high)\n",
    "            merge(S, temp, From, mid, to)\n",
    " \n",
    "        d = 2*d\n",
    " \n",
    "# Iterative implementation\n",
    "if __name__ == '__main__':\n",
    " \n",
    "    #driver code\n",
    "    S = [4, 2, 3, 1, 6, 5]\n",
    "    print(\"The Original array is: \", S)\n",
    "    Merge_Sort(S)\n",
    "    print(\"Array after sorting is: \", S)"
   ]
  },
  {
   "cell_type": "markdown",
   "id": "e16d1021",
   "metadata": {},
   "source": [
    "#### 8.\tPython Program for Heap Sort."
   ]
  },
  {
   "cell_type": "code",
   "execution_count": 22,
   "id": "c42a53c1",
   "metadata": {},
   "outputs": [
    {
     "name": "stdout",
     "output_type": "stream",
     "text": [
      "Sorted array is\n",
      "5\n",
      "6\n",
      "7\n",
      "11\n",
      "12\n",
      "13\n"
     ]
    }
   ],
   "source": [
    "def heapify(arr, n, i):\n",
    "    largest = i  # Initialize largest as root\n",
    "    l = 2 * i + 1     # left = 2*i + 1\n",
    "    r = 2 * i + 2     # right = 2*i + 2\n",
    "\n",
    "    if l < n and arr[i] < arr[l]:\n",
    "        largest = l\n",
    "\n",
    "    if r < n and arr[largest] < arr[r]:\n",
    "        largest = r\n",
    "\n",
    "    if largest != i:\n",
    "        arr[i],arr[largest] = arr[largest],arr[i]  \n",
    "\n",
    "        heapify(arr, n, largest)\n",
    "\n",
    "def heapSort(arr):\n",
    "    n = len(arr)\n",
    "\n",
    "    for i in range(n // 2 - 1, -1, -1):\n",
    "        heapify(arr, n, i)\n",
    "\n",
    "    for i in range(n-1, 0, -1):\n",
    "        arr[i], arr[0] = arr[0], arr[i]   # swap\n",
    "        heapify(arr, i, 0)\n",
    "\n",
    "arr = [ 12, 11, 13, 5, 6, 7]\n",
    "heapSort(arr)\n",
    "n = len(arr)\n",
    "print (\"Sorted array is\")\n",
    "for i in range(n):\n",
    "    print (\"%d\" %arr[i])"
   ]
  },
  {
   "cell_type": "markdown",
   "id": "69265d8d",
   "metadata": {},
   "source": [
    "#### 9.\tPython Program for Counting Sort."
   ]
  },
  {
   "cell_type": "code",
   "execution_count": 29,
   "id": "ca3f43bd",
   "metadata": {},
   "outputs": [
    {
     "name": "stdout",
     "output_type": "stream",
     "text": [
      "Sorted character array is e , e , e , e , f , g , g , k , k , o , r , s , s\n"
     ]
    }
   ],
   "source": [
    "def countSort(arr):\n",
    "\n",
    "    output = [0 for i in range(256)]\n",
    "\n",
    "    count = [0 for i in range(256)]\n",
    "\n",
    "    ans = [\"\" for _ in arr]\n",
    "\n",
    "    for i in arr:\n",
    "        count[ord(i)] += 1\n",
    "\n",
    "    for i in range(256):\n",
    "        count[i] += count[i-1]\n",
    "\n",
    "    for i in range(len(arr)):\n",
    "        output[count[ord(arr[i])]-1] = arr[i]\n",
    "        count[ord(arr[i])] -= 1\n",
    "\n",
    "    for i in range(len(arr)):\n",
    "        ans[i] = output[i]\n",
    "    return ans\n",
    "\n",
    "arr = \"geeksforgeeks\"\n",
    "ans = countSort(arr)\n",
    "print (\"Sorted character array is %s\"  %(\" , \".join(ans)))"
   ]
  },
  {
   "cell_type": "markdown",
   "id": "b10a9567",
   "metadata": {},
   "source": [
    "#### 10.\tPython Program for ShellSort.\n"
   ]
  },
  {
   "cell_type": "code",
   "execution_count": 35,
   "id": "9c387993",
   "metadata": {},
   "outputs": [
    {
     "name": "stdout",
     "output_type": "stream",
     "text": [
      "The list before sorting is :\n",
      "[45, 31, 62, 12, 89, 5, 9, 8]\n",
      "\n",
      "The list after performing shell sorting is :\n",
      "[5, 8, 9, 12, 31, 45, 62, 89]\n"
     ]
    }
   ],
   "source": [
    "def shell_sort(my_list, list_len):\n",
    "   interval = list_len // 2\n",
    "   while interval > 0:\n",
    "      for i in range(interval, list_len):\n",
    "         temp = my_list[i]\n",
    "         j = i\n",
    "         while j >= interval and my_list[j - interval] > temp:\n",
    "            my_list[j] = my_list[j - interval]\n",
    "            j -= interval\n",
    "         my_list[j] = temp\n",
    "      interval //= 2\n",
    "\n",
    "my_list = [ 45, 31, 62, 12, 89, 5, 9, 8]\n",
    "list_len = len(my_list)\n",
    "print (\"The list before sorting is :\")\n",
    "print(my_list)\n",
    "shell_sort(my_list, list_len)\n",
    "print (\"\\nThe list after performing shell sorting is :\")\n",
    "print(my_list)"
   ]
  }
 ],
 "metadata": {
  "kernelspec": {
   "display_name": "Python 3 (ipykernel)",
   "language": "python",
   "name": "python3"
  },
  "language_info": {
   "codemirror_mode": {
    "name": "ipython",
    "version": 3
   },
   "file_extension": ".py",
   "mimetype": "text/x-python",
   "name": "python",
   "nbconvert_exporter": "python",
   "pygments_lexer": "ipython3",
   "version": "3.9.7"
  }
 },
 "nbformat": 4,
 "nbformat_minor": 5
}
