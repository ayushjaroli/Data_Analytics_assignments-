{
 "cells": [
  {
   "cell_type": "markdown",
   "id": "3301cd20",
   "metadata": {},
   "source": [
    "#### 1.\tPython | Convert a list of Tuples into Dictionary."
   ]
  },
  {
   "cell_type": "code",
   "execution_count": 6,
   "id": "a29eb6a8",
   "metadata": {},
   "outputs": [
    {
     "name": "stdout",
     "output_type": "stream",
     "text": [
      "{'Sachin': 10, 'MSD': 7, 'Kohli': 18, 'Rohit': 45}\n"
     ]
    }
   ],
   "source": [
    "li =[('Sachin', 10), ('MSD', 7), ('Kohli', 18), ('Rohit', 45)]\n",
    "print (dict( li))"
   ]
  },
  {
   "cell_type": "markdown",
   "id": "887dee40",
   "metadata": {},
   "source": [
    "#### 2.\tPython counter and dictionary intersection example (Make a string using deletion and rearrangement)."
   ]
  },
  {
   "cell_type": "code",
   "execution_count": 13,
   "id": "22b37fc2",
   "metadata": {},
   "outputs": [
    {
     "name": "stdout",
     "output_type": "stream",
     "text": [
      "Not Possible\n"
     ]
    }
   ],
   "source": [
    "\n",
    "from collections import Counter\n",
    " \n",
    "str1 = 'AYUSHjaroli'\n",
    "str2 = 'gfhfBHkooIHnfndSHEKsiAnG'\n",
    "dict1 = Counter(str1)\n",
    "dict2 = Counter(str2)\n",
    "result = dict1 & dict2\n",
    "if ((result == dict1)==True):\n",
    "        print(\"Possible\")\n",
    "else:\n",
    "        print(\"Not Possible\")"
   ]
  },
  {
   "cell_type": "markdown",
   "id": "217d9e95",
   "metadata": {},
   "source": [
    "#### 3.\tPython dictionary, set and counter to check if frequencies can become same."
   ]
  },
  {
   "cell_type": "code",
   "execution_count": 16,
   "id": "636d97c2",
   "metadata": {},
   "outputs": [
    {
     "name": "stdout",
     "output_type": "stream",
     "text": [
      "Yes\n"
     ]
    }
   ],
   "source": [
    "from collections import Counter\n",
    "input=\"aabbccdde\"\n",
    "dict=Counter(input)\n",
    "same = list(set(dict.values()))\n",
    "if len(same)>2:\n",
    "    print('No')\n",
    "elif len (same)==2 and same[1]-same[0]>1:\n",
    "    print('No')\n",
    "else:\n",
    "    print('Yes')"
   ]
  },
  {
   "cell_type": "markdown",
   "id": "80bd13af",
   "metadata": {},
   "source": [
    "#### 4.\tScraping And Finding Ordered Words In A Dictionary using Python."
   ]
  },
  {
   "cell_type": "code",
   "execution_count": 3,
   "id": "1626d39b",
   "metadata": {},
   "outputs": [],
   "source": [
    "import requests\n",
    "\n",
    "def getWords():\n",
    "\n",
    "    url = \"http://www.puzzlers.org/pub/wordlists/unixdict.txt\"\n",
    "    fetchData = requests.get(url)\n",
    "\n",
    "    wordList = fetchData.content\n",
    "\n",
    "    wordList = wordList.decode(\"utf-8\").split()\n",
    "  \n",
    "    return wordList\n",
    "\n",
    "def isOrdered():\n",
    "\n",
    "    collection = getWords()\n",
    "\n",
    "    collection = collection[16:]\n",
    "    word = ''\n",
    "  \n",
    "    for word in collection:\n",
    "        result = 'Word is ordered'\n",
    "        i = 0\n",
    "        l = len(word) - 1\n",
    "  \n",
    "        if (len(word) < 3):\n",
    "            continue\n",
    "\n",
    "        while i < l:         \n",
    "            if (ord(word[i]) > ord(word[i+1])):\n",
    "                result = 'Word is not ordered'\n",
    "                break\n",
    "            else:\n",
    "                i += 1\n",
    "\n",
    "        if (result == 'Word is ordered'):\n",
    "            print(word,': ',result)\n",
    "\n",
    "if __name__ == '__main__':\n",
    "    isOrdered()"
   ]
  },
  {
   "cell_type": "markdown",
   "id": "d6345eff",
   "metadata": {},
   "source": [
    "#### 5.\tPossible Words using given characters in Python."
   ]
  },
  {
   "cell_type": "code",
   "execution_count": 4,
   "id": "699f166a",
   "metadata": {},
   "outputs": [
    {
     "name": "stdout",
     "output_type": "stream",
     "text": [
      "me\n",
      "goal\n"
     ]
    }
   ],
   "source": [
    "def charCount(word):\n",
    "    dict = {}\n",
    "    for i in word:\n",
    "        dict[i] = dict.get(i, 0) + 1\n",
    "    return dict\n",
    "  \n",
    "  \n",
    "def possible_words(lwords, charSet):\n",
    "    for word in lwords:\n",
    "        flag = 1\n",
    "        chars = charCount(word)\n",
    "        for key in chars:\n",
    "            if key not in charSet:\n",
    "                flag = 0\n",
    "            else:\n",
    "                if charSet.count(key) != chars[key]:\n",
    "                    flag = 0\n",
    "        if flag == 1:\n",
    "            print(word)\n",
    "  \n",
    "if __name__ == \"__main__\":\n",
    "    input = ['goo', 'bat', 'me', 'eat', 'goal', 'boy', 'run']\n",
    "    charSet = ['e', 'o', 'b', 'a', 'm', 'g', 'l']\n",
    "    possible_words(input, charSet)"
   ]
  },
  {
   "cell_type": "markdown",
   "id": "48daa887",
   "metadata": {},
   "source": [
    "#### 6.\tPython – Keys associated with Values in Dictionary."
   ]
  },
  {
   "cell_type": "code",
   "execution_count": 5,
   "id": "58fadd4a",
   "metadata": {},
   "outputs": [
    {
     "name": "stdout",
     "output_type": "stream",
     "text": [
      "The original dictionary : {'gfg': [4, 5], 'is': [8], 'best': [10, 12]}\n",
      "The keys mapped to [5, 10] are : ['gfg', 'best']\n"
     ]
    }
   ],
   "source": [
    "test_dict = {'gfg' : [4, 5], 'is' : [8], 'best' : [10, 12]}\n",
    "print(\"The original dictionary : \" + str(test_dict))\n",
    "val_list = [5, 10]\n",
    "temp = {}\n",
    "for key, vals in test_dict.items():\n",
    "    for val in vals:\n",
    "        temp[val] = key\n",
    "res = [temp[ele] for ele in val_list]\n",
    "\n",
    "print(\"The keys mapped to \" + str(val_list) + \" are : \" + str(res)) "
   ]
  },
  {
   "cell_type": "markdown",
   "id": "e6b9dad4",
   "metadata": {},
   "source": [
    "#### 7.\tPython program to Find the size of a Tuple."
   ]
  },
  {
   "cell_type": "code",
   "execution_count": 9,
   "id": "ffa43269",
   "metadata": {},
   "outputs": [
    {
     "name": "stdout",
     "output_type": "stream",
     "text": [
      "Size of Tuple: 88 bytes\n"
     ]
    }
   ],
   "source": [
    "import sys\n",
    "\n",
    "Tuple = (\"A\", 1, \"B\", 2, \"C\", 3)\n",
    "\n",
    "print(\"Size of Tuple: \" + str(sys.getsizeof(Tuple)) + \" bytes\")\n"
   ]
  },
  {
   "cell_type": "markdown",
   "id": "4c0ff180",
   "metadata": {},
   "source": [
    "#### 8.\tPython – Maximum and Minimum K elements in Tuple."
   ]
  },
  {
   "cell_type": "code",
   "execution_count": 11,
   "id": "f01b485a",
   "metadata": {},
   "outputs": [
    {
     "name": "stdout",
     "output_type": "stream",
     "text": [
      "The original tuple is : (1, 2, 3, 4, 5, 6, 7, 8, 9)\n",
      "The extracted values : (1, 2, 8, 9)\n"
     ]
    }
   ],
   "source": [
    "test_tup = (1,2,3,4,5,6,7,8,9)\n",
    "print(\"The original tuple is : \" + str(test_tup))\n",
    "K = 2\n",
    "test_tup = list(test_tup)\n",
    "temp = sorted(test_tup)\n",
    "res = tuple(temp[:K] + temp[-K:])\n",
    "print(\"The extracted values : \" + str(res))"
   ]
  },
  {
   "cell_type": "markdown",
   "id": "c3fa94a9",
   "metadata": {},
   "source": [
    "#### 9.\tCreate a list of tuples from given list having number and its cube in each tuple."
   ]
  },
  {
   "cell_type": "code",
   "execution_count": 12,
   "id": "9156d685",
   "metadata": {},
   "outputs": [
    {
     "name": "stdout",
     "output_type": "stream",
     "text": [
      "[(1, 1), (2, 8), (3, 27), (4, 64), (5, 125), (6, 216), (7, 343)]\n"
     ]
    }
   ],
   "source": [
    "list = [1,2,3,4,5,6,7]\n",
    "res = [(val, pow(val, 3)) for val in list]\n",
    "print(res)"
   ]
  },
  {
   "cell_type": "markdown",
   "id": "dafdf585",
   "metadata": {},
   "source": [
    "#### 10.\tPython – Adding Tuple to List and vice – versa."
   ]
  },
  {
   "cell_type": "code",
   "execution_count": 15,
   "id": "f56103b3",
   "metadata": {},
   "outputs": [
    {
     "name": "stdout",
     "output_type": "stream",
     "text": [
      "The original list is : [1, 2, 3, 4, 5, 6, 7]\n",
      "The container after addition : [1, 2, 3, 4, 5, 6, 7, 8, 9, 10]\n"
     ]
    }
   ],
   "source": [
    "list = [1,2,3,4,5,6,7]\n",
    "print(\"The original list is : \" + str(list))\n",
    "tuple = (8,9,10)\n",
    "list += tuple\n",
    "print(\"The container after addition : \" + str(list))"
   ]
  },
  {
   "cell_type": "markdown",
   "id": "4078ec10",
   "metadata": {},
   "source": [
    "#### 11.\tPython – Closest Pair to Kth index element in Tuple."
   ]
  },
  {
   "cell_type": "code",
   "execution_count": 20,
   "id": "378347cd",
   "metadata": {},
   "outputs": [
    {
     "name": "stdout",
     "output_type": "stream",
     "text": [
      "The original list is : [(3, 4), (78, 76), (2, 3), (9, 8), (19, 23)]\n",
      "The nearest tuple to Kth index element is : (9, 8)\n"
     ]
    }
   ],
   "source": [
    "test_list = [(3, 4), (78, 76), (2, 3), (9, 8), (19, 23)]\n",
    "print(\"The original list is : \" + str(test_list))\n",
    "tup = (8, 54)\n",
    "K = 1\n",
    "res = min(range(len(test_list)), key = lambda sub: abs(test_list[sub][K - 1] - tup[K - 1]))\n",
    "print(\"The nearest tuple to Kth index element is : \" + str(test_list[res])) "
   ]
  }
 ],
 "metadata": {
  "kernelspec": {
   "display_name": "Python 3 (ipykernel)",
   "language": "python",
   "name": "python3"
  },
  "language_info": {
   "codemirror_mode": {
    "name": "ipython",
    "version": 3
   },
   "file_extension": ".py",
   "mimetype": "text/x-python",
   "name": "python",
   "nbconvert_exporter": "python",
   "pygments_lexer": "ipython3",
   "version": "3.9.7"
  }
 },
 "nbformat": 4,
 "nbformat_minor": 5
}
