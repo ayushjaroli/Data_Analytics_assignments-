{
 "cells": [
  {
   "cell_type": "markdown",
   "id": "a83280a6",
   "metadata": {},
   "source": [
    "#### 1.\tWrite a Python program to find those numbers which are divisible by 7 and multiple of 5, between 1500 and 2700 (both included)."
   ]
  },
  {
   "cell_type": "code",
   "execution_count": 35,
   "id": "5ce06c82",
   "metadata": {},
   "outputs": [
    {
     "name": "stdout",
     "output_type": "stream",
     "text": [
      "1505 1540 1575 1610 1645 1680 1715 1750 1785 1820 1855 1890 1925 1960 1995 2030 2065 2100 2135 2170 2205 2240 2275 2310 2345 2380 2415 2450 2485 2520 2555 2590 2625 2660 2695 "
     ]
    }
   ],
   "source": [
    "for i in range(1500,2701,5):\n",
    "    if i%7==0 :\n",
    "        print(i,end=\" \")"
   ]
  },
  {
   "cell_type": "markdown",
   "id": "80842f8d",
   "metadata": {},
   "source": [
    "#### 2.\tPython program to add two numbers."
   ]
  },
  {
   "cell_type": "code",
   "execution_count": 3,
   "id": "5a373e8e",
   "metadata": {},
   "outputs": [
    {
     "name": "stdout",
     "output_type": "stream",
     "text": [
      "a=1000\n",
      "b=4785\n",
      "5785\n"
     ]
    }
   ],
   "source": [
    "a=int(input(\"a=\"))\n",
    "b=int(input(\"b=\"))\n",
    "print(a+b)"
   ]
  },
  {
   "cell_type": "markdown",
   "id": "8e0b9c9c",
   "metadata": {},
   "source": [
    "#### 3.\tMaximum of two numbers in Python."
   ]
  },
  {
   "cell_type": "code",
   "execution_count": 5,
   "id": "1670c4f7",
   "metadata": {},
   "outputs": [
    {
     "name": "stdout",
     "output_type": "stream",
     "text": [
      "x=500\n",
      "y=100\n",
      "500\n"
     ]
    }
   ],
   "source": [
    "x=int(input(\"x=\"))\n",
    "y=int(input(\"y=\"))\n",
    "print(max(x,y))"
   ]
  },
  {
   "cell_type": "markdown",
   "id": "8f443775",
   "metadata": {},
   "source": [
    "#### 4.\tPython Program for factorial of a number."
   ]
  },
  {
   "cell_type": "code",
   "execution_count": 29,
   "id": "ff96b98f",
   "metadata": {},
   "outputs": [
    {
     "name": "stdout",
     "output_type": "stream",
     "text": [
      "type in the value of x=5\n",
      "factorial of x is 120\n"
     ]
    }
   ],
   "source": [
    "x=int(input(\"type in the value of x=\"))\n",
    "factorial = 1\n",
    "for i in range(1,x+1):\n",
    "    factorial = factorial*i\n",
    "print(\"factorial of x is\",factorial)"
   ]
  },
  {
   "cell_type": "markdown",
   "id": "bf5f1d05",
   "metadata": {},
   "source": [
    "#### 5.\tPython Program for simple interest."
   ]
  },
  {
   "cell_type": "code",
   "execution_count": 40,
   "id": "a02efb05",
   "metadata": {},
   "outputs": [
    {
     "name": "stdout",
     "output_type": "stream",
     "text": [
      "type in the value of time period in years=1\n",
      "type in the value of interest rate=10\n",
      "type in the value of principle amount=100\n",
      "simple interest on amount is 10.0\n"
     ]
    }
   ],
   "source": [
    "t=int(input(\"type in the value of time period in years=\"))\n",
    "r=int(input(\"type in the value of interest rate=\"))\n",
    "p=int(input(\"type in the value of principle amount=\"))\n",
    "s = (p*r*t)/100\n",
    "print(\"simple interest on amount is\",s)"
   ]
  },
  {
   "cell_type": "markdown",
   "id": "71342b19",
   "metadata": {},
   "source": [
    "#### 6.\tPython Program for compound interest."
   ]
  },
  {
   "cell_type": "code",
   "execution_count": 45,
   "id": "7101a53c",
   "metadata": {},
   "outputs": [
    {
     "name": "stdout",
     "output_type": "stream",
     "text": [
      "type in the value of time period in years=2\n",
      "type in the value of interest rate=10\n",
      "type in the value of principle amount=100\n",
      "compound interest on amount is 21\n"
     ]
    }
   ],
   "source": [
    "t=int(input(\"type in the value of time period in years=\"))\n",
    "r=float(input(\"type in the value of interest rate=\"))\n",
    "p=int(input(\"type in the value of principle amount=\"))\n",
    "c = int((p*(1+(r/100))**t)-p)\n",
    "print(\"compound interest on amount is\",c)"
   ]
  },
  {
   "cell_type": "markdown",
   "id": "d864b7bf",
   "metadata": {},
   "source": [
    "#### 7.\tPython Program to check Armstrong Number."
   ]
  },
  {
   "cell_type": "code",
   "execution_count": 107,
   "id": "e8d20915",
   "metadata": {},
   "outputs": [
    {
     "name": "stdout",
     "output_type": "stream",
     "text": [
      "Enter a number: 4\n",
      "4 is not an Armstrong number\n"
     ]
    }
   ],
   "source": [
    "\n",
    "num = int(input(\"Enter a number: \"))\n",
    "\n",
    "sum = 0\n",
    "\n",
    "temp = num\n",
    "while temp > 0:\n",
    "   digit = temp % 10\n",
    "   sum += digit ** 3\n",
    "   temp //= 10\n",
    "\n",
    "if num == sum:\n",
    "   print(num,\"is an Armstrong number\")\n",
    "else:\n",
    "   print(num,\"is not an Armstrong number\")"
   ]
  },
  {
   "cell_type": "markdown",
   "id": "6b34b9e6",
   "metadata": {},
   "source": [
    "#### 8.\tPython Program for Program to find area of a circle."
   ]
  },
  {
   "cell_type": "code",
   "execution_count": 103,
   "id": "2000fcaf",
   "metadata": {},
   "outputs": [
    {
     "name": "stdout",
     "output_type": "stream",
     "text": [
      "type in the value of radius=2\n",
      "area of cirlce is 12\n"
     ]
    }
   ],
   "source": [
    "r=int(input(\"type in the value of radius=\"))\n",
    "area = (22/7)*(r**2)\n",
    "print(\"area of cirlce is\",int(area))"
   ]
  },
  {
   "cell_type": "markdown",
   "id": "ff9a0cb2",
   "metadata": {},
   "source": [
    "#### 9.\tPython program to print all Prime numbers in an Interval."
   ]
  },
  {
   "cell_type": "code",
   "execution_count": 3,
   "id": "faee21f3",
   "metadata": {},
   "outputs": [
    {
     "name": "stdout",
     "output_type": "stream",
     "text": [
      "type in the value of lower no. of interval=900\n",
      "type in the value of upper no. of interval=1000\n",
      "907\n",
      "911\n",
      "919\n",
      "929\n",
      "937\n",
      "941\n",
      "947\n",
      "953\n",
      "967\n",
      "971\n",
      "977\n",
      "983\n",
      "991\n",
      "997\n"
     ]
    }
   ],
   "source": [
    "a=int(input(\"type in the value of lower no. of interval=\"))\n",
    "b=int(input(\"type in the value of upper no. of interval=\"))\n",
    "for i in range(a,b+1):\n",
    "    if i>0:\n",
    "        for j in range(2,i):\n",
    "            if (i%j)==0:\n",
    "                break\n",
    "        else :\n",
    "                print(i)"
   ]
  },
  {
   "cell_type": "markdown",
   "id": "141294a6",
   "metadata": {},
   "source": [
    "#### 10.\t Python program to check whether a number is Prime or not."
   ]
  },
  {
   "cell_type": "code",
   "execution_count": 64,
   "id": "f0025b9d",
   "metadata": {},
   "outputs": [
    {
     "name": "stdout",
     "output_type": "stream",
     "text": [
      "enter the number=43\n",
      "43 is a prime number\n"
     ]
    }
   ],
   "source": [
    "x = int(input(\"enter the number=\"))\n",
    "if x==1 : \n",
    "    print(x,\"is not a prime number\")\n",
    "if x==2:\n",
    "    print(x,\"is a prime number\")\n",
    "if x>2:\n",
    "    for i in range(2,x):\n",
    "        if (x%i)==0:\n",
    "            print(x,\"is not a prime number\")\n",
    "            break\n",
    "        else:\n",
    "            print(x,\"is a prime number\")\n",
    "            break"
   ]
  },
  {
   "cell_type": "code",
   "execution_count": 69,
   "id": "30e0ea8b",
   "metadata": {},
   "outputs": [
    {
     "data": {
      "text/plain": [
       "'4'"
      ]
     },
     "execution_count": 69,
     "metadata": {},
     "output_type": "execute_result"
    }
   ],
   "source": [
    "x=str(407)\n",
    "x[0]"
   ]
  }
 ],
 "metadata": {
  "kernelspec": {
   "display_name": "Python 3 (ipykernel)",
   "language": "python",
   "name": "python3"
  },
  "language_info": {
   "codemirror_mode": {
    "name": "ipython",
    "version": 3
   },
   "file_extension": ".py",
   "mimetype": "text/x-python",
   "name": "python",
   "nbconvert_exporter": "python",
   "pygments_lexer": "ipython3",
   "version": "3.9.7"
  }
 },
 "nbformat": 4,
 "nbformat_minor": 5
}
