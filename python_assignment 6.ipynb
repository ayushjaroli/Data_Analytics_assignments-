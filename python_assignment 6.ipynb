{
 "cells": [
  {
   "cell_type": "markdown",
   "id": "70374951",
   "metadata": {},
   "source": [
    "#### 1.\tPython program to add two Matrices."
   ]
  },
  {
   "cell_type": "code",
   "execution_count": 4,
   "id": "9d3f0ae1",
   "metadata": {},
   "outputs": [
    {
     "name": "stdout",
     "output_type": "stream",
     "text": [
      "[52, 16, 11]\n",
      "[12, 13, 13]\n",
      "[9, 12, 50]\n"
     ]
    }
   ],
   "source": [
    "X = [[47,8,4],\n",
    "    [5 ,5,9],\n",
    "    [5 ,8,41]]\n",
    "Y = [[5,8,7],\n",
    "    [7,8,4],\n",
    "    [4,4,9]]\n",
    "result = [[0,0,0],\n",
    "         [0,0,0],\n",
    "         [0,0,0]]\n",
    "for i in range(len(X)):\n",
    "   \n",
    "   for j in range(len(X[0])):\n",
    "       result[i][j] = X[i][j] + Y[i][j]\n",
    "\n",
    "for r in result:\n",
    "   print(r)"
   ]
  },
  {
   "cell_type": "markdown",
   "id": "0e9cd793",
   "metadata": {},
   "source": [
    "#### 2.\tPython program to multiply two matrices."
   ]
  },
  {
   "cell_type": "code",
   "execution_count": 5,
   "id": "c07b17d5",
   "metadata": {},
   "outputs": [
    {
     "name": "stdout",
     "output_type": "stream",
     "text": [
      "[235, 64, 28]\n",
      "[35, 40, 36]\n",
      "[20, 32, 369]\n"
     ]
    }
   ],
   "source": [
    "X = [[47,8,4],\n",
    "    [5 ,5,9],\n",
    "    [5 ,8,41]]\n",
    "Y = [[5,8,7],\n",
    "    [7,8,4],\n",
    "    [4,4,9]]\n",
    "result = [[0,0,0],\n",
    "         [0,0,0],\n",
    "         [0,0,0]]\n",
    "for i in range(len(X)):\n",
    "   \n",
    "   for j in range(len(X[0])):\n",
    "       result[i][j] = X[i][j] * Y[i][j]\n",
    "\n",
    "for r in result:\n",
    "   print(r)"
   ]
  },
  {
   "cell_type": "markdown",
   "id": "809acce6",
   "metadata": {},
   "source": [
    "#### 3.\tPython program for Matrix Product."
   ]
  },
  {
   "cell_type": "code",
   "execution_count": 8,
   "id": "f29ab37b",
   "metadata": {},
   "outputs": [
    {
     "name": "stdout",
     "output_type": "stream",
     "text": [
      "Result: \n",
      "[26, 29, 40]\n",
      "[48, 88, 89]\n",
      "[105, 144, 173]\n"
     ]
    },
    {
     "data": {
      "text/plain": [
       "0"
      ]
     },
     "execution_count": 8,
     "metadata": {},
     "output_type": "execute_result"
    }
   ],
   "source": [
    "def Multiply(A,B):\n",
    "    result=[ [0,0,0],[0,0,0],[0,0,0] ]\n",
    "    \n",
    "    for i in range(len(A)):\n",
    "        \n",
    "        for j in range(len(B[0])):\n",
    "            \n",
    "            for k in range(len(B)):\n",
    "                result[i][j] += A[i][k] * B[k][j]\n",
    "\n",
    "    for p in result:\n",
    "        print(p)\n",
    "    return 0\n",
    "\n",
    "A = [ [1, 2, 3],[6, 7, 4], [8, 10, 11] ]\n",
    "B = [[1, 5, 3],[2, 6, 5], [7, 4, 9] ]\n",
    "\n",
    "print(\"Result: \")\n",
    "Multiply(A,B)"
   ]
  },
  {
   "cell_type": "markdown",
   "id": "dbb64e50",
   "metadata": {},
   "source": [
    "#### 4.\tAdding and Subtracting Matrices in Python."
   ]
  },
  {
   "cell_type": "code",
   "execution_count": 6,
   "id": "03210aff",
   "metadata": {},
   "outputs": [
    {
     "name": "stdout",
     "output_type": "stream",
     "text": [
      "[42, 0, -3]\n",
      "[-2, -3, 5]\n",
      "[1, 4, 32]\n"
     ]
    }
   ],
   "source": [
    "# Subtracting\n",
    "X = [[47,8,4],\n",
    "    [5 ,5,9],\n",
    "    [5 ,8,41]]\n",
    "Y = [[5,8,7],\n",
    "    [7,8,4],\n",
    "    [4,4,9]]\n",
    "result = [[0,0,0],\n",
    "         [0,0,0],\n",
    "         [0,0,0]]\n",
    "for i in range(len(X)):\n",
    "   \n",
    "   for j in range(len(X[0])):\n",
    "       result[i][j] = X[i][j] - Y[i][j]\n",
    "\n",
    "for r in result:\n",
    "   print(r)"
   ]
  },
  {
   "cell_type": "code",
   "execution_count": 7,
   "id": "fd88bfde",
   "metadata": {},
   "outputs": [
    {
     "name": "stdout",
     "output_type": "stream",
     "text": [
      "[52, 16, 11]\n",
      "[12, 13, 13]\n",
      "[9, 12, 50]\n"
     ]
    }
   ],
   "source": [
    "# Adding\n",
    "X = [[47,8,4],\n",
    "    [5 ,5,9],\n",
    "    [5 ,8,41]]\n",
    "Y = [[5,8,7],\n",
    "    [7,8,4],\n",
    "    [4,4,9]]\n",
    "result = [[0,0,0],\n",
    "         [0,0,0],\n",
    "         [0,0,0]]\n",
    "for i in range(len(X)):\n",
    "   \n",
    "   for j in range(len(X[0])):\n",
    "       result[i][j] = X[i][j] + Y[i][j]\n",
    "\n",
    "for r in result:\n",
    "   print(r)"
   ]
  },
  {
   "cell_type": "markdown",
   "id": "bd520b9a",
   "metadata": {},
   "source": [
    "#### 5.\tTranspose a matrix in Single line in Python."
   ]
  },
  {
   "cell_type": "code",
   "execution_count": 11,
   "id": "b12b8c1c",
   "metadata": {},
   "outputs": [
    {
     "name": "stdout",
     "output_type": "stream",
     "text": [
      "[[1 4]\n",
      " [2 5]\n",
      " [3 6]]\n"
     ]
    }
   ],
   "source": [
    "import numpy as np \n",
    "matrix=[[1,2,3],[4,5,6]]\n",
    "print(np.transpose(matrix))"
   ]
  },
  {
   "cell_type": "markdown",
   "id": "22be79b3",
   "metadata": {},
   "source": [
    "#### 6.\tPython | Matrix creation of n*n."
   ]
  },
  {
   "cell_type": "code",
   "execution_count": 13,
   "id": "e8fe7532",
   "metadata": {},
   "outputs": [
    {
     "name": "stdout",
     "output_type": "stream",
     "text": [
      "5\n",
      "[1, 2, 3, 4, 5]\n",
      "[6, 7, 8, 9, 10]\n",
      "[11, 12, 13, 14, 15]\n",
      "[16, 17, 18, 19, 20]\n",
      "[21, 22, 23, 24, 25]\n"
     ]
    }
   ],
   "source": [
    "n = int(input())\n",
    "matrix = [list(range(1 + n * i, 1 + n * (i + 1))) for i in range(n)]\n",
    "for m in matrix:\n",
    "    print(m)"
   ]
  },
  {
   "cell_type": "markdown",
   "id": "5b841f86",
   "metadata": {},
   "source": [
    "#### 7.\tPython | Get Kth Column of Matrix."
   ]
  },
  {
   "cell_type": "code",
   "execution_count": 21,
   "id": "bfe8ca73",
   "metadata": {},
   "outputs": [
    {
     "name": "stdout",
     "output_type": "stream",
     "text": [
      "2\n",
      "[6, 10, 5]\n"
     ]
    }
   ],
   "source": [
    "matrix = [[4, 5, 6], [8, 1, 10], [7, 12, 5]]\n",
    "K = int(input())\n",
    "res = [i[K] for i in matrix]\n",
    "print(res)"
   ]
  },
  {
   "cell_type": "markdown",
   "id": "d68ef039",
   "metadata": {},
   "source": [
    "#### 8.\tPython – Vertical Concatenation in Matrix."
   ]
  },
  {
   "cell_type": "code",
   "execution_count": 26,
   "id": "74fbf354",
   "metadata": {},
   "outputs": [
    {
     "name": "stdout",
     "output_type": "stream",
     "text": [
      "The original list : [['Gfg', 'good'], ['is', 'for'], ['Best']]\n",
      "\n",
      "List after column Concatenation : ['GfgisBest', 'goodfor']\n"
     ]
    }
   ],
   "source": [
    "test_list = [[\"Gfg\", \"good\"], [\"is\", \"for\"], [\"Best\"]]\n",
    "print(\"The original list : \" + str(test_list))\n",
    "print(\"\")\n",
    "res = []\n",
    "N = 0\n",
    "while N != len(test_list):\n",
    "    temp = ''\n",
    "    for idx in test_list:\n",
    "        try: temp = temp + idx[N]\n",
    "        except IndexError: pass\n",
    "    res.append(temp)\n",
    "    N = N + 1\n",
    "res = [ele for ele in res if ele]\n",
    "print(\"List after column Concatenation : \" + str(res))"
   ]
  },
  {
   "cell_type": "markdown",
   "id": "21252bb9",
   "metadata": {},
   "source": [
    "#### 9.\tPython program to check if a string is palindrome or not."
   ]
  },
  {
   "cell_type": "code",
   "execution_count": 58,
   "id": "05fedb5e",
   "metadata": {},
   "outputs": [
    {
     "name": "stdout",
     "output_type": "stream",
     "text": [
      "it is not palindrome\n"
     ]
    }
   ],
   "source": [
    "a = str(input())\n",
    "if a==a[::-1]:\n",
    "    print(\"it is palindrome\")\n",
    "else:\n",
    "    print(\"it is not palindrome\")"
   ]
  },
  {
   "cell_type": "markdown",
   "id": "32eba4fd",
   "metadata": {},
   "source": [
    "#### 10.\tPython program to check whether the string is Symmetrical or Palindrome."
   ]
  },
  {
   "cell_type": "code",
   "execution_count": 12,
   "id": "d33c3f8c",
   "metadata": {},
   "outputs": [
    {
     "name": "stdout",
     "output_type": "stream",
     "text": [
      "khokho\n",
      "it is not palindrome\n",
      "it is symmetrical\n"
     ]
    }
   ],
   "source": [
    "a = str(input())\n",
    "if a==a[::-1]:\n",
    "    print(\"it is palindrome\")\n",
    "else:\n",
    "    print(\"it is not palindrome\")\n",
    "\n",
    "n = len(a)\n",
    "b = n/2\n",
    "if n%2==0:\n",
    "    for i in range(0,int(b)):\n",
    "        if a[i] == a[-(i+1)]:\n",
    "            print(\"it is symmetrical\")\n",
    "            \n",
    "elif a[i] != a[-(i+1)]:\n",
    "        print(\"it is not symmetrical\")\n",
    "            \n",
    "        \n",
    "else:\n",
    "    print(\"it is not symmetric\")\n",
    "    \n",
    "    \n"
   ]
  }
 ],
 "metadata": {
  "kernelspec": {
   "display_name": "Python 3 (ipykernel)",
   "language": "python",
   "name": "python3"
  },
  "language_info": {
   "codemirror_mode": {
    "name": "ipython",
    "version": 3
   },
   "file_extension": ".py",
   "mimetype": "text/x-python",
   "name": "python",
   "nbconvert_exporter": "python",
   "pygments_lexer": "ipython3",
   "version": "3.9.7"
  }
 },
 "nbformat": 4,
 "nbformat_minor": 5
}
