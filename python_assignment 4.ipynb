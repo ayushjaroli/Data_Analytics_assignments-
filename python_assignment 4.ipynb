{
 "cells": [
  {
   "cell_type": "markdown",
   "id": "7d6be9ca",
   "metadata": {},
   "source": [
    "#### 1.\tPython program to find smallest number in a list."
   ]
  },
  {
   "cell_type": "code",
   "execution_count": 1,
   "id": "b67fb05a",
   "metadata": {},
   "outputs": [
    {
     "data": {
      "text/plain": [
       "1"
      ]
     },
     "execution_count": 1,
     "metadata": {},
     "output_type": "execute_result"
    }
   ],
   "source": [
    "list_1 = [1,4,5,8,7,9,6,3,2,5,8,784,321,5,651,4,3,4,3,4]\n",
    "min(list_1)"
   ]
  },
  {
   "cell_type": "markdown",
   "id": "4ece2a21",
   "metadata": {},
   "source": [
    "#### 2.\tPython program to find largest number in a list."
   ]
  },
  {
   "cell_type": "code",
   "execution_count": 2,
   "id": "9c0ffd95",
   "metadata": {},
   "outputs": [
    {
     "data": {
      "text/plain": [
       "784"
      ]
     },
     "execution_count": 2,
     "metadata": {},
     "output_type": "execute_result"
    }
   ],
   "source": [
    "list_1 = [1,4,5,8,7,9,6,3,2,5,8,784,321,5,651,4,3,4,3,4]\n",
    "max(list_1)"
   ]
  },
  {
   "cell_type": "markdown",
   "id": "faa247bc",
   "metadata": {},
   "source": [
    "#### 3.\tPython program to find second largest number in a list."
   ]
  },
  {
   "cell_type": "code",
   "execution_count": 14,
   "id": "6251b26d",
   "metadata": {},
   "outputs": [
    {
     "data": {
      "text/plain": [
       "651"
      ]
     },
     "execution_count": 14,
     "metadata": {},
     "output_type": "execute_result"
    }
   ],
   "source": [
    "list_1 = [1,4,5,8,7,9,6,3,2,5,8,784,321,5,651,4,3,4,3,4]\n",
    "list_1.sort()\n",
    "list_1[-2]"
   ]
  },
  {
   "cell_type": "markdown",
   "id": "2cfc7b02",
   "metadata": {},
   "source": [
    "#### 4.\tPython program to find N largest elements from a list."
   ]
  },
  {
   "cell_type": "code",
   "execution_count": 31,
   "id": "363e2259",
   "metadata": {},
   "outputs": [
    {
     "name": "stdout",
     "output_type": "stream",
     "text": [
      "3\n",
      "784\n",
      "651\n",
      "321\n"
     ]
    }
   ],
   "source": [
    "n = int(input())\n",
    "list_1 = [1,4,5,8,7,9,6,3,2,5,8,784,321,5,651,4,3,4,3,4]\n",
    "list_1.sort()\n",
    "for i in range(1,n+1):\n",
    "     print(list_1[-i])"
   ]
  },
  {
   "cell_type": "markdown",
   "id": "57c02e28",
   "metadata": {},
   "source": [
    "#### 5.\tPython program to print even numbers in a list."
   ]
  },
  {
   "cell_type": "code",
   "execution_count": 16,
   "id": "4a13bc6f",
   "metadata": {},
   "outputs": [
    {
     "name": "stdout",
     "output_type": "stream",
     "text": [
      "4\n",
      "8\n",
      "6\n",
      "2\n",
      "8\n",
      "784\n",
      "4\n",
      "4\n",
      "4\n"
     ]
    }
   ],
   "source": [
    "list_1 = [1,4,5,8,7,9,6,3,2,5,8,784,321,5,651,4,3,4,3,4]\n",
    "for i in list_1 :\n",
    "    if i%2==0:\n",
    "        print(i)"
   ]
  },
  {
   "cell_type": "markdown",
   "id": "9621cace",
   "metadata": {},
   "source": [
    "#### 6.\tPython program to print odd numbers in a List."
   ]
  },
  {
   "cell_type": "code",
   "execution_count": 17,
   "id": "e4117985",
   "metadata": {},
   "outputs": [
    {
     "name": "stdout",
     "output_type": "stream",
     "text": [
      "1\n",
      "5\n",
      "7\n",
      "9\n",
      "3\n",
      "5\n",
      "321\n",
      "5\n",
      "651\n",
      "3\n",
      "3\n"
     ]
    }
   ],
   "source": [
    "list_1 = [1,4,5,8,7,9,6,3,2,5,8,784,321,5,651,4,3,4,3,4]\n",
    "for i in list_1 :\n",
    "    if i%2!=0:\n",
    "        print(i)"
   ]
  },
  {
   "cell_type": "markdown",
   "id": "f722ade7",
   "metadata": {},
   "source": [
    "#### 7.\tPython program to print all even numbers in a range."
   ]
  },
  {
   "cell_type": "code",
   "execution_count": 20,
   "id": "280f4935",
   "metadata": {},
   "outputs": [
    {
     "name": "stdout",
     "output_type": "stream",
     "text": [
      "start of range1\n",
      "end of range10\n",
      "2\n",
      "4\n",
      "6\n",
      "8\n",
      "10\n"
     ]
    }
   ],
   "source": [
    "a=int(input(\"start of range\"))\n",
    "b=int(input(\"end of range\"))\n",
    "for i in range(a,b+1):\n",
    "    if i%2==0:\n",
    "        print(i)"
   ]
  },
  {
   "cell_type": "markdown",
   "id": "e71d2e33",
   "metadata": {},
   "source": [
    "#### 8.\tPython program to print all odd numbers in a range."
   ]
  },
  {
   "cell_type": "code",
   "execution_count": 21,
   "id": "00a0786d",
   "metadata": {},
   "outputs": [
    {
     "name": "stdout",
     "output_type": "stream",
     "text": [
      "start of range1\n",
      "end of range10\n",
      "1\n",
      "3\n",
      "5\n",
      "7\n",
      "9\n"
     ]
    }
   ],
   "source": [
    "a=int(input(\"start of range\"))\n",
    "b=int(input(\"end of range\"))\n",
    "for i in range(a,b+1):\n",
    "    if i%2!=0:\n",
    "        print(i)"
   ]
  },
  {
   "cell_type": "markdown",
   "id": "5a7defba",
   "metadata": {},
   "source": [
    "#### 9.\tPython program to print positive numbers in a list."
   ]
  },
  {
   "cell_type": "code",
   "execution_count": 22,
   "id": "40eebe9e",
   "metadata": {},
   "outputs": [
    {
     "name": "stdout",
     "output_type": "stream",
     "text": [
      "1\n",
      "4\n",
      "8\n",
      "7\n",
      "6\n",
      "2\n",
      "8\n",
      "651\n",
      "4\n",
      "3\n",
      "4\n"
     ]
    }
   ],
   "source": [
    "list_2 = [1,4,-5,8,7,-9,6,-3,2,-5,8,-784,-321,-5,651,4,3,-4,-3,4]\n",
    "for i in list_2:\n",
    "    if i>=0:\n",
    "        print(i)"
   ]
  },
  {
   "cell_type": "markdown",
   "id": "c8700196",
   "metadata": {},
   "source": [
    "#### 10.\tPython program to print negative numbers in a list."
   ]
  },
  {
   "cell_type": "code",
   "execution_count": 23,
   "id": "d346d0f3",
   "metadata": {},
   "outputs": [
    {
     "name": "stdout",
     "output_type": "stream",
     "text": [
      "-5\n",
      "-9\n",
      "-3\n",
      "-5\n",
      "-784\n",
      "-321\n",
      "-5\n",
      "-4\n",
      "-3\n"
     ]
    }
   ],
   "source": [
    "list_2 = [1,4,-5,8,7,-9,6,-3,2,-5,8,-784,-321,-5,651,4,3,-4,-3,4]\n",
    "for i in list_2:\n",
    "    if i<0:\n",
    "        print(i)"
   ]
  },
  {
   "cell_type": "markdown",
   "id": "c3c36c42",
   "metadata": {},
   "source": [
    "#### 11.\tPython program to print all positive numbers in a range."
   ]
  },
  {
   "cell_type": "code",
   "execution_count": 32,
   "id": "286064de",
   "metadata": {},
   "outputs": [
    {
     "name": "stdout",
     "output_type": "stream",
     "text": [
      "start of range-10\n",
      "end of range11\n",
      "0\n",
      "1\n",
      "2\n",
      "3\n",
      "4\n",
      "5\n",
      "6\n",
      "7\n",
      "8\n",
      "9\n",
      "10\n",
      "11\n"
     ]
    }
   ],
   "source": [
    "a=int(input(\"start of range\"))\n",
    "b=int(input(\"end of range\"))\n",
    "for i in range(a,b+1):\n",
    "    if i>=0:\n",
    "        print(i)"
   ]
  },
  {
   "cell_type": "code",
   "execution_count": null,
   "id": "793e4d86",
   "metadata": {},
   "outputs": [],
   "source": []
  }
 ],
 "metadata": {
  "kernelspec": {
   "display_name": "Python 3 (ipykernel)",
   "language": "python",
   "name": "python3"
  },
  "language_info": {
   "codemirror_mode": {
    "name": "ipython",
    "version": 3
   },
   "file_extension": ".py",
   "mimetype": "text/x-python",
   "name": "python",
   "nbconvert_exporter": "python",
   "pygments_lexer": "ipython3",
   "version": "3.9.7"
  }
 },
 "nbformat": 4,
 "nbformat_minor": 5
}
