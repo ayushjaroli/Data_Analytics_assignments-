{
 "cells": [
  {
   "cell_type": "markdown",
   "id": "a99e24ab",
   "metadata": {},
   "source": [
    "#### 1.\tPython Program for Find reminder of array multiplication divided by n."
   ]
  },
  {
   "cell_type": "code",
   "execution_count": null,
   "id": "561f4501",
   "metadata": {},
   "outputs": [],
   "source": [
    "n = int(input(\"type in the value of n :\"))\n",
    "a = [1,2,3,4,5,6,7]\n",
    "b=1\n",
    "for i in a:\n",
    "    b = i*b \n",
    "print(b%n)"
   ]
  },
  {
   "cell_type": "markdown",
   "id": "871f83b0",
   "metadata": {},
   "source": [
    "#### 2.\tPython Program to check if given array is Monotonic."
   ]
  },
  {
   "cell_type": "code",
   "execution_count": 38,
   "id": "b1927192",
   "metadata": {},
   "outputs": [
    {
     "name": "stdout",
     "output_type": "stream",
     "text": [
      "it is decreasing monotonic\n"
     ]
    }
   ],
   "source": [
    "a = [6,5,4,3,2,1]\n",
    "n = len(a)\n",
    "if n==1:\n",
    "    print(\"it is monotonic\")\n",
    "\n",
    "elif all(a[i]>=a[i+1] for i in range(0,n-1)) :\n",
    "     print(\"it is decreasing monotonic\")\n",
    "elif all(a[i]<=a[i+1] for i in range(0,n-1)) :\n",
    "     print(\"it is increasing monotonic\")   \n",
    "else:\n",
    "    print(\"it is not monotonic\")  "
   ]
  },
  {
   "cell_type": "markdown",
   "id": "ead9ffe0",
   "metadata": {},
   "source": [
    "#### 3.\tPython program to interchange first and last elements in a list."
   ]
  },
  {
   "cell_type": "code",
   "execution_count": 37,
   "id": "89544df6",
   "metadata": {},
   "outputs": [
    {
     "data": {
      "text/plain": [
       "[651641, 69, 584, 4, 41826, 44516, 5]"
      ]
     },
     "execution_count": 37,
     "metadata": {},
     "output_type": "execute_result"
    }
   ],
   "source": [
    "list =[5,69,584,4,41826,44516,651641]\n",
    "list[0], list[-1] = list[-1], list[0]\n",
    "list"
   ]
  },
  {
   "cell_type": "markdown",
   "id": "cd614052",
   "metadata": {},
   "source": [
    "#### 4.\tPython program to swap two elements in a list."
   ]
  },
  {
   "cell_type": "code",
   "execution_count": null,
   "id": "d5f299a1",
   "metadata": {},
   "outputs": [],
   "source": [
    "a = int(input('type in the first element:'))\n",
    "b = int(input('type in the second element:'))\n",
    "list =[5,69,584,4,41826,44516,651641]\n",
    "list[a], list[b] = list[b], list[a]\n",
    "list"
   ]
  },
  {
   "cell_type": "markdown",
   "id": "5f68b416",
   "metadata": {},
   "source": [
    "#### 5.\twrite a program to find length of list."
   ]
  },
  {
   "cell_type": "code",
   "execution_count": 1,
   "id": "22980bfa",
   "metadata": {},
   "outputs": [
    {
     "data": {
      "text/plain": [
       "39"
      ]
     },
     "execution_count": 1,
     "metadata": {},
     "output_type": "execute_result"
    }
   ],
   "source": [
    "list_1 = [51,4,6518,51,565,35,325,3651,5,3,3,5,2,3,6,4,2,3,5,42,3,5,42,6,5,4,23,6,5,2,3,6,5,2,3,6,522,6,5]\n",
    "len(list_1)"
   ]
  },
  {
   "cell_type": "markdown",
   "id": "58a59f27",
   "metadata": {},
   "source": [
    "#### 6.\twrite a program to check if element exists in list."
   ]
  },
  {
   "cell_type": "code",
   "execution_count": null,
   "id": "79205938",
   "metadata": {},
   "outputs": [],
   "source": [
    "list_2 = [51,4,6518,51,565,35,325,3651,5,3,3,5,2,3,6,4,2,3,\"g\",\"gh\",\"d\",\"gfgh\",5,42,3,5,42,6,5,4,23,6,5,2,3,6,5,2,3,6,522,6,5]\n",
    "a = input()\n",
    "if a in str(list_2):\n",
    "    print(\"yes\")\n",
    "else :\n",
    "    print(\"no\")"
   ]
  },
  {
   "cell_type": "markdown",
   "id": "f340a883",
   "metadata": {},
   "source": [
    "#### 7.\twrite a program to clear a list in Python."
   ]
  },
  {
   "cell_type": "code",
   "execution_count": 1,
   "id": "104e768e",
   "metadata": {},
   "outputs": [
    {
     "name": "stdout",
     "output_type": "stream",
     "text": [
      "[]\n"
     ]
    }
   ],
   "source": [
    "list_3 = [8,5,8,5,2,47,5,2,1,52,0,4,5,6,4,65,3,5]\n",
    "list_3.clear()\n",
    "print(list_3)"
   ]
  },
  {
   "cell_type": "markdown",
   "id": "84b54cb7",
   "metadata": {},
   "source": [
    "#### 8.\twrite a program to Reversing a List."
   ]
  },
  {
   "cell_type": "code",
   "execution_count": 3,
   "id": "79b86fe2",
   "metadata": {},
   "outputs": [
    {
     "name": "stdout",
     "output_type": "stream",
     "text": [
      "[5, 3, 65, 4, 6, 5, 1, 2, 5, 47, 2, 5, 8, 5, 8]\n"
     ]
    }
   ],
   "source": [
    "list_4 = [8,5,8,5,2,47,5,2,1,5,6,4,65,3,5]\n",
    "list_4.reverse()\n",
    "print(list_4)"
   ]
  },
  {
   "cell_type": "markdown",
   "id": "11cb9d1f",
   "metadata": {},
   "source": [
    "#### 9.\twrite a program to find sum of elements in list."
   ]
  },
  {
   "cell_type": "code",
   "execution_count": 4,
   "id": "8c988625",
   "metadata": {},
   "outputs": [
    {
     "data": {
      "text/plain": [
       "163"
      ]
     },
     "execution_count": 4,
     "metadata": {},
     "output_type": "execute_result"
    }
   ],
   "source": [
    "list_5 = [8,5,8,5,2,47,5,6,4,65,3,5]\n",
    "sum(list_5)"
   ]
  },
  {
   "cell_type": "markdown",
   "id": "92f29260",
   "metadata": {},
   "source": [
    "#### 10.\twrite a program to Multiply all numbers in the list.\n"
   ]
  },
  {
   "cell_type": "code",
   "execution_count": 6,
   "id": "6af6dd69",
   "metadata": {},
   "outputs": [
    {
     "name": "stdout",
     "output_type": "stream",
     "text": [
      "480\n"
     ]
    }
   ],
   "source": [
    "list_6 = [8,4,3,5]\n",
    "a=1\n",
    "for i in list_6:\n",
    "    a=i*a\n",
    "print(a)"
   ]
  }
 ],
 "metadata": {
  "kernelspec": {
   "display_name": "Python 3 (ipykernel)",
   "language": "python",
   "name": "python3"
  },
  "language_info": {
   "codemirror_mode": {
    "name": "ipython",
    "version": 3
   },
   "file_extension": ".py",
   "mimetype": "text/x-python",
   "name": "python",
   "nbconvert_exporter": "python",
   "pygments_lexer": "ipython3",
   "version": "3.9.7"
  }
 },
 "nbformat": 4,
 "nbformat_minor": 5
}
