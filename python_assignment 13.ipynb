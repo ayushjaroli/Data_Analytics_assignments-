{
 "cells": [
  {
   "cell_type": "markdown",
   "id": "54fefd7f",
   "metadata": {},
   "source": [
    "#### 1.\tPython – Join Tuples if similar initial element."
   ]
  },
  {
   "cell_type": "code",
   "execution_count": 1,
   "id": "22c3e7ed",
   "metadata": {},
   "outputs": [
    {
     "name": "stdout",
     "output_type": "stream",
     "text": [
      "The original list is : [(5, 6), (5, 7), (6, 8), (6, 10), (7, 13)]\n",
      "The extracted elements : [(5, 6, 7), (6, 8, 10), (7, 13)]\n"
     ]
    }
   ],
   "source": [
    "test_list = [(5, 6), (5, 7), (6, 8), (6, 10), (7, 13)]\n",
    "print(\"The original list is : \" + str(test_list))\n",
    "res = []\n",
    "for sub in test_list:                                           \n",
    "    if res and res[-1][0] == sub[0]:              \n",
    "        res[-1].extend(sub[1:])                        \n",
    "    else:\n",
    "        res.append([ele for ele in sub])     \n",
    "res = list(map(tuple, res))\n",
    "print(\"The extracted elements : \" + str(res)) "
   ]
  },
  {
   "cell_type": "markdown",
   "id": "24202037",
   "metadata": {},
   "source": [
    "#### 2.\tPython – Extract digits from Tuple list."
   ]
  },
  {
   "cell_type": "code",
   "execution_count": 2,
   "id": "8aa4cf63",
   "metadata": {},
   "outputs": [
    {
     "name": "stdout",
     "output_type": "stream",
     "text": [
      "The original list is : [(15, 3), (3, 9), (1, 10), (99, 2)]\n",
      "The extracted digits : [1, 2, 5, 3, 0, 9]\n"
     ]
    }
   ],
   "source": [
    "import re\n",
    "\n",
    "test_list = [(15, 3), (3, 9), (1, 10), (99, 2)]\n",
    "\n",
    "print(\"The original list is : \" + str(test_list))\n",
    "\n",
    "temp = re.sub(r'[\\[\\]\\(\\), ]', '', str(test_list))\n",
    "res = [int(ele) for ele in set(temp)]\n",
    "\n",
    "print(\"The extracted digits : \" + str(res))"
   ]
  },
  {
   "cell_type": "markdown",
   "id": "0705d255",
   "metadata": {},
   "source": [
    "#### 3.\tPython – All pair combinations of 2 tuples."
   ]
  },
  {
   "cell_type": "code",
   "execution_count": 3,
   "id": "91ca2621",
   "metadata": {},
   "outputs": [
    {
     "name": "stdout",
     "output_type": "stream",
     "text": [
      "The original tuple 1 : (4, 5)\n",
      "The original tuple 2 : (7, 8)\n",
      "The filtered tuple : [(4, 7), (4, 8), (5, 7), (5, 8), (7, 4), (7, 5), (8, 4), (8, 5)]\n"
     ]
    }
   ],
   "source": [
    "test_tuple1 = (4, 5)\n",
    "test_tuple2 = (7, 8)\n",
    "\n",
    "print(\"The original tuple 1 : \" + str(test_tuple1))\n",
    "print(\"The original tuple 2 : \" + str(test_tuple2))\n",
    "\n",
    "res =  [(a, b) for a in test_tuple1 for b in test_tuple2]\n",
    "res = res +  [(a, b) for a in test_tuple2 for b in test_tuple1]\n",
    "\n",
    "print(\"The filtered tuple : \" + str(res))"
   ]
  },
  {
   "cell_type": "markdown",
   "id": "56aef0b3",
   "metadata": {},
   "source": [
    "#### 4.\tPython – Remove Tuples of Length K."
   ]
  },
  {
   "cell_type": "code",
   "execution_count": 4,
   "id": "875d754f",
   "metadata": {},
   "outputs": [
    {
     "name": "stdout",
     "output_type": "stream",
     "text": [
      "The original list : [(4, 5), (4,), (8, 6, 7), (1,), (3, 4, 6, 7)]\n",
      "Filtered list : [(4, 5), (8, 6, 7), (3, 4, 6, 7)]\n"
     ]
    }
   ],
   "source": [
    "test_list = [(4, 5), (4, ), (8, 6, 7), (1, ), (3, 4, 6, 7)]\n",
    "print(\"The original list : \" + str(test_list))\n",
    "K = 1\n",
    "res = [ele for ele in test_list if len(ele) != K]\n",
    "print(\"Filtered list : \" + str(res))"
   ]
  },
  {
   "cell_type": "markdown",
   "id": "8f33f86e",
   "metadata": {},
   "source": [
    "#### 5.\tSort a list of tuples by second Item."
   ]
  },
  {
   "cell_type": "code",
   "execution_count": 5,
   "id": "3ad6394c",
   "metadata": {},
   "outputs": [
    {
     "name": "stdout",
     "output_type": "stream",
     "text": [
      "[('akash', 5), ('rishav', 10), ('gaurav', 15), ('ram', 20)]\n"
     ]
    }
   ],
   "source": [
    "tup=[('rishav', 10), ('akash', 5), ('ram', 20), ('gaurav', 15)]\n",
    "tup.sort(key = lambda x: x[1])\n",
    "print(tup)"
   ]
  },
  {
   "cell_type": "markdown",
   "id": "b3f8ce4a",
   "metadata": {},
   "source": [
    "#### 6.\tPython program to Order Tuples using external List."
   ]
  },
  {
   "cell_type": "code",
   "execution_count": 7,
   "id": "dd871c0a",
   "metadata": {},
   "outputs": [
    {
     "name": "stdout",
     "output_type": "stream",
     "text": [
      "The list of tuple is : \n",
      "[('Mark', 34), ('Will', 91), ('Rob', 23)]\n",
      "The ordered list is :\n",
      "['Will', 'Mark', 'Rob']\n",
      "The ordered tuple list is : \n",
      "[('Will', 91), ('Mark', 34), ('Rob', 23)]\n"
     ]
    }
   ],
   "source": [
    "my_list = [('Mark', 34), ('Will', 91), ('Rob', 23)]\n",
    "print(\"The list of tuple is : \")\n",
    "print(my_list)\n",
    "ordered_list = ['Will', 'Mark', 'Rob']\n",
    "print(\"The ordered list is :\")\n",
    "print(ordered_list)\n",
    "temp = dict(my_list)\n",
    "my_result = [(key, temp[key]) for key in ordered_list]\n",
    "print(\"The ordered tuple list is : \")\n",
    "print(my_result)\n"
   ]
  },
  {
   "cell_type": "markdown",
   "id": "65402558",
   "metadata": {},
   "source": [
    "#### 7.\tPython – Flatten tuple of List to tuple."
   ]
  },
  {
   "cell_type": "code",
   "execution_count": 8,
   "id": "311ec4f6",
   "metadata": {},
   "outputs": [
    {
     "name": "stdout",
     "output_type": "stream",
     "text": [
      "The original tuple : ([5, 6], [6, 7, 8, 9], [3])\n",
      "The flattened tuple : (5, 6, 6, 7, 8, 9, 3)\n"
     ]
    }
   ],
   "source": [
    "test_tuple = ([5, 6], [6, 7, 8, 9], [3])\n",
    "print(\"The original tuple : \" + str(test_tuple))\n",
    "res = tuple(sum(test_tuple, []))\n",
    "print(\"The flattened tuple : \" + str(res))"
   ]
  },
  {
   "cell_type": "markdown",
   "id": "a55feeaf",
   "metadata": {},
   "source": [
    "#### 8.\tPython – Convert Nested Tuple to Custom Key Dictionary."
   ]
  },
  {
   "cell_type": "code",
   "execution_count": 9,
   "id": "5faf5697",
   "metadata": {},
   "outputs": [
    {
     "name": "stdout",
     "output_type": "stream",
     "text": [
      "The original tuple : ((4, 'Gfg', 10), (3, 'is', 8), (6, 'Best', 10))\n",
      "The converted dictionary : [{'key': 4, 'value': 'Gfg', 'id': 10}, {'key': 3, 'value': 'is', 'id': 8}, {'key': 6, 'value': 'Best', 'id': 10}]\n"
     ]
    }
   ],
   "source": [
    "test_tuple = ((4, 'Gfg', 10), (3, 'is', 8), (6, 'Best', 10))\n",
    "print(\"The original tuple : \" + str(test_tuple))\n",
    "res = [{'key': sub[0], 'value': sub[1], 'id': sub[2]} for sub in test_tuple]\n",
    "print(\"The converted dictionary : \" + str(res))"
   ]
  },
  {
   "cell_type": "markdown",
   "id": "6a73fc04",
   "metadata": {},
   "source": [
    "#### 9.\tPython Program for Binary Search (Recursive and Iterative)."
   ]
  },
  {
   "cell_type": "markdown",
   "id": "c47a9958",
   "metadata": {},
   "source": [
    "#### Recursive :"
   ]
  },
  {
   "cell_type": "code",
   "execution_count": 10,
   "id": "6a81323e",
   "metadata": {},
   "outputs": [
    {
     "name": "stdout",
     "output_type": "stream",
     "text": [
      "Element is present at index 3\n"
     ]
    }
   ],
   "source": [
    "def binary_search(arr, low, high, x):\n",
    "\n",
    "    if high >= low:\n",
    " \n",
    "        mid = (high + low) // 2\n",
    "\n",
    "        if arr[mid] == x:\n",
    "            return mid\n",
    "\n",
    "        elif arr[mid] > x:\n",
    "            return binary_search(arr, low, mid - 1, x)\n",
    "\n",
    "        else:\n",
    "            return binary_search(arr, mid + 1, high, x)\n",
    " \n",
    "    else:\n",
    "        return -1\n",
    " \n",
    "\n",
    "arr = [ 2, 3, 4, 10, 40 ]\n",
    "x = 10\n",
    "\n",
    "result = binary_search(arr, 0, len(arr)-1, x)\n",
    " \n",
    "if result != -1:\n",
    "    print(\"Element is present at index\", str(result))\n",
    "else:\n",
    "    print(\"Element is not present in array\")"
   ]
  },
  {
   "cell_type": "markdown",
   "id": "e0547285",
   "metadata": {},
   "source": [
    "#### Iterative:"
   ]
  },
  {
   "cell_type": "code",
   "execution_count": 11,
   "id": "1924a333",
   "metadata": {},
   "outputs": [
    {
     "name": "stdout",
     "output_type": "stream",
     "text": [
      "Element is present at index 3\n"
     ]
    }
   ],
   "source": [
    "def binary_search(arr, x):\n",
    "    low = 0\n",
    "    high = len(arr) - 1\n",
    "    mid = 0\n",
    " \n",
    "    while low <= high:\n",
    " \n",
    "        mid = (high + low) // 2\n",
    "\n",
    "        if arr[mid] < x:\n",
    "            low = mid + 1\n",
    "\n",
    "        elif arr[mid] > x:\n",
    "            high = mid - 1\n",
    "\n",
    "        else:\n",
    "            return mid\n",
    "\n",
    "    return -1\n",
    " \n",
    " \n",
    "# Test array\n",
    "arr = [ 2, 3, 4, 10, 40 ]\n",
    "x = 10\n",
    "\n",
    "result = binary_search(arr, x)\n",
    " \n",
    "if result != -1:\n",
    "    print(\"Element is present at index\", str(result))\n",
    "else:\n",
    "    print(\"Element is not present in array\")"
   ]
  },
  {
   "cell_type": "markdown",
   "id": "11069130",
   "metadata": {},
   "source": [
    "#### 10.\tPython Program for Linear Search."
   ]
  },
  {
   "cell_type": "code",
   "execution_count": 13,
   "id": "1ba80ab6",
   "metadata": {},
   "outputs": [
    {
     "name": "stdout",
     "output_type": "stream",
     "text": [
      "6\n"
     ]
    }
   ],
   "source": [
    "arr=[10, 20, 80, 30, 60, 50, 110, 100, 130, 170]\n",
    "x=110\n",
    "for i in range(len(arr)):\n",
    "    if arr[i] == x:\n",
    "        print(i)\n"
   ]
  },
  {
   "cell_type": "markdown",
   "id": "9fcaa833",
   "metadata": {},
   "source": [
    "#### 11.\tPython Program for Insertion Sort."
   ]
  },
  {
   "cell_type": "code",
   "execution_count": 14,
   "id": "56df7a11",
   "metadata": {},
   "outputs": [
    {
     "name": "stdout",
     "output_type": "stream",
     "text": [
      "Sorted array is:\n",
      "5\n",
      "6\n",
      "11\n",
      "12\n",
      "13\n"
     ]
    }
   ],
   "source": [
    "arr = [12, 11, 13, 5, 6]\n",
    "for i in range(1, len(arr)):\n",
    "    key = arr[i]\n",
    "    j = i-1\n",
    "    while j >=0 and key < arr[j] :\n",
    "                arr[j+1] = arr[j]\n",
    "                j -= 1\n",
    "                arr[j+1] = key\n",
    "\n",
    "print (\"Sorted array is:\")\n",
    "for i in range(len(arr)):\n",
    "    print (\"%d\" %arr[i])"
   ]
  }
 ],
 "metadata": {
  "kernelspec": {
   "display_name": "Python 3 (ipykernel)",
   "language": "python",
   "name": "python3"
  },
  "language_info": {
   "codemirror_mode": {
    "name": "ipython",
    "version": 3
   },
   "file_extension": ".py",
   "mimetype": "text/x-python",
   "name": "python",
   "nbconvert_exporter": "python",
   "pygments_lexer": "ipython3",
   "version": "3.9.7"
  }
 },
 "nbformat": 4,
 "nbformat_minor": 5
}
