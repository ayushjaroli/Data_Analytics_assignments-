{
 "cells": [
  {
   "cell_type": "markdown",
   "id": "eefbe355",
   "metadata": {},
   "source": [
    "#### 1.\tPython | Ways to remove a key from dictionary."
   ]
  },
  {
   "cell_type": "markdown",
   "id": "034af907",
   "metadata": {},
   "source": [
    "##### first method"
   ]
  },
  {
   "cell_type": "code",
   "execution_count": 6,
   "id": "9de3bf91",
   "metadata": {},
   "outputs": [
    {
     "data": {
      "text/plain": [
       "{'a': 1, 's': 2, 'l': 5, 'd': 6, 'c': 8}"
      ]
     },
     "execution_count": 6,
     "metadata": {},
     "output_type": "execute_result"
    }
   ],
   "source": [
    "dict_1={\"a\":1,\"s\":2,\"l\":5,\"d\":6,\"g\":9,\"c\":8}\n",
    "del dict_1[\"g\"]\n",
    "dict_1"
   ]
  },
  {
   "cell_type": "markdown",
   "id": "f9057c44",
   "metadata": {},
   "source": [
    "##### second method"
   ]
  },
  {
   "cell_type": "code",
   "execution_count": 7,
   "id": "cdc6647a",
   "metadata": {},
   "outputs": [
    {
     "data": {
      "text/plain": [
       "{'a': 1, 's': 2, 'l': 5, 'd': 6, 'c': 8}"
      ]
     },
     "execution_count": 7,
     "metadata": {},
     "output_type": "execute_result"
    }
   ],
   "source": [
    "dict_1={\"a\":1,\"s\":2,\"l\":5,\"d\":6,\"g\":9,\"c\":8}\n",
    "dict_1.pop(\"g\")\n",
    "dict_1"
   ]
  },
  {
   "cell_type": "markdown",
   "id": "a598a93a",
   "metadata": {},
   "source": [
    "#### 2.\tWays to sort list of dictionaries by values in Python – Using itemgetter."
   ]
  },
  {
   "cell_type": "code",
   "execution_count": 15,
   "id": "e2bd5f8c",
   "metadata": {},
   "outputs": [
    {
     "name": "stdout",
     "output_type": "stream",
     "text": [
      "The list printed sorting by age:\n",
      "[{'name': 'Manjeet', 'age': 12}, {'name': 'Nikhil', 'age': 19}, {'name': 'Nandini', 'age': 20}]\n",
      "\r\n",
      "The list printed sorting by age and name: \n",
      "[{'name': 'Manjeet', 'age': 12}, {'name': 'Nandini', 'age': 20}, {'name': 'Nikhil', 'age': 19}]\n",
      "\r\n",
      "The list printed sorting by age in descending order: \n",
      "[{'name': 'Nandini', 'age': 20}, {'name': 'Nikhil', 'age': 19}, {'name': 'Manjeet', 'age': 12}]\n"
     ]
    }
   ],
   "source": [
    "from operator import itemgetter\n",
    "lis = [{ \"name\" : \"Nandini\", \"age\" : 20}, \n",
    "{ \"name\" : \"Manjeet\", \"age\" : 12 },\n",
    "{ \"name\" : \"Nikhil\" , \"age\" : 19 }]\n",
    "\n",
    "print (\"The list printed sorting by age:\" )\n",
    "print (sorted(lis, key=itemgetter('age')))\n",
    "  \n",
    "print (\"\\r\")\n",
    "\n",
    "print (\"The list printed sorting by age and name: \")\n",
    "print (sorted(lis, key=itemgetter('name')))\n",
    "  \n",
    "print (\"\\r\")\n",
    "\n",
    "print (\"The list printed sorting by age in descending order: \")\n",
    "print (sorted(lis, key=itemgetter('age'),reverse = True))"
   ]
  },
  {
   "cell_type": "markdown",
   "id": "f4a24b5b",
   "metadata": {},
   "source": [
    "#### 3.\tWays to sort list of dictionaries by values in Python – Using lambda function."
   ]
  },
  {
   "cell_type": "code",
   "execution_count": 18,
   "id": "d0376ff7",
   "metadata": {},
   "outputs": [
    {
     "name": "stdout",
     "output_type": "stream",
     "text": [
      "The list printed sorting by age: \n",
      "[{'name': 'Manjeet', 'age': 12}, {'name': 'Nikhil', 'age': 19}, {'name': 'Nandini', 'age': 20}]\n",
      "\r\n",
      "The list printed sorting by age and name: \n",
      "[{'name': 'Manjeet', 'age': 12}, {'name': 'Nandini', 'age': 20}, {'name': 'Nikhil', 'age': 19}]\n",
      "\r\n",
      "The list printed sorting by age in descending order: \n",
      "[{'name': 'Nandini', 'age': 20}, {'name': 'Nikhil', 'age': 19}, {'name': 'Manjeet', 'age': 12}]\n"
     ]
    }
   ],
   "source": [
    "lis = [{ \"name\" : \"Nandini\", \"age\" : 20},\n",
    "{ \"name\" : \"Manjeet\", \"age\" : 12 },\n",
    "{ \"name\" : \"Nikhil\" , \"age\" : 19 }]\n",
    "\n",
    "print (\"The list printed sorting by age: \")\n",
    "print (sorted(lis, key = lambda i: i['age']))\n",
    " \n",
    "print (\"\\r\")\n",
    "\n",
    "print (\"The list printed sorting by age and name: \")\n",
    "print (sorted(lis, key = lambda i: (i['name'])))\n",
    " \n",
    "print (\"\\r\")\n",
    "\n",
    "print (\"The list printed sorting by age in descending order: \")\n",
    "print (sorted(lis, key = lambda i: i['age'],reverse=True))"
   ]
  },
  {
   "cell_type": "markdown",
   "id": "01a8770c",
   "metadata": {},
   "source": [
    "#### 4.\tPython | Merging two Dictionaries."
   ]
  },
  {
   "cell_type": "markdown",
   "id": "b7b20585",
   "metadata": {},
   "source": [
    "#####  first method"
   ]
  },
  {
   "cell_type": "code",
   "execution_count": 20,
   "id": "983daa76",
   "metadata": {},
   "outputs": [
    {
     "data": {
      "text/plain": [
       "{'a': 'Nandini', 'b': 20, 'd': 'Manjeet', 'c': 12}"
      ]
     },
     "execution_count": 20,
     "metadata": {},
     "output_type": "execute_result"
    }
   ],
   "source": [
    "dict_1 = { \"a\" : \"Nandini\", \"b\" : 20}\n",
    "dict_2 = { \"d\" : \"Manjeet\", \"c\" : 12 }\n",
    "dict_1.update(dict_2)\n",
    "dict_1"
   ]
  },
  {
   "cell_type": "markdown",
   "id": "1c347302",
   "metadata": {},
   "source": [
    "##### second method"
   ]
  },
  {
   "cell_type": "code",
   "execution_count": 21,
   "id": "3d2bfc7e",
   "metadata": {},
   "outputs": [
    {
     "data": {
      "text/plain": [
       "{'a': 'Nandini', 'b': 20, 'd': 'Manjeet', 'c': 12}"
      ]
     },
     "execution_count": 21,
     "metadata": {},
     "output_type": "execute_result"
    }
   ],
   "source": [
    "dict_1 = { \"a\" : \"Nandini\", \"b\" : 20}\n",
    "dict_2 = { \"d\" : \"Manjeet\", \"c\" : 12 }\n",
    "new = {**dict_1,**dict_2}\n",
    "new"
   ]
  },
  {
   "cell_type": "markdown",
   "id": "b34281c9",
   "metadata": {},
   "source": [
    "#### 5.\tPython – Convert key-values list to flat dictionary."
   ]
  },
  {
   "cell_type": "code",
   "execution_count": 25,
   "id": "f88dae6c",
   "metadata": {},
   "outputs": [
    {
     "name": "stdout",
     "output_type": "stream",
     "text": [
      "{1: 'Jan', 2: 'Feb', 3: 'March'}\n"
     ]
    }
   ],
   "source": [
    "from itertools import product\n",
    "\n",
    "test_dict = {'a' : [1, 2, 3],\n",
    "             'b' : ['Jan', 'Feb', 'March']}\n",
    "\n",
    "res = dict(zip(test_dict['a'], test_dict['b']))\n",
    "print(str(res)) "
   ]
  },
  {
   "cell_type": "markdown",
   "id": "f644f68d",
   "metadata": {},
   "source": [
    "#### 6.\tPython – Insertion at the beginning in OrderedDict."
   ]
  },
  {
   "cell_type": "code",
   "execution_count": 31,
   "id": "3b6987bc",
   "metadata": {},
   "outputs": [
    {
     "name": "stdout",
     "output_type": "stream",
     "text": [
      "OrderedDict([('manjeet', '4'), ('akash', '4'), ('akshat', '1'), ('nikhil', '2')])\n"
     ]
    }
   ],
   "source": [
    "from collections import OrderedDict\n",
    "\n",
    "dict1 =  OrderedDict([('akshat', '1'), ('nikhil', '2')])\n",
    "dict2 =  OrderedDict([(\"manjeet\", '4'), (\"akash\", '4')])\n",
    "\n",
    "both =  OrderedDict(list(dict2.items()) + list(dict1.items()))\n",
    "\n",
    "print (str(both))"
   ]
  },
  {
   "cell_type": "markdown",
   "id": "d8e4baca",
   "metadata": {},
   "source": [
    "#### 7.\tPython | Check order of character in string using OrderedDict( )."
   ]
  },
  {
   "cell_type": "code",
   "execution_count": 35,
   "id": "4b48bacd",
   "metadata": {},
   "outputs": [
    {
     "name": "stdout",
     "output_type": "stream",
     "text": [
      "true\n"
     ]
    }
   ],
   "source": [
    "from collections import OrderedDict \n",
    "  \n",
    "def checkOrder(input, pattern): \n",
    "\n",
    "    dict = OrderedDict.fromkeys(input) \n",
    "\n",
    "    ptrlen = 0\n",
    "    for key,value in dict.items(): \n",
    "        if (key == pattern[ptrlen]): \n",
    "            ptrlen = ptrlen + 1\n",
    "\n",
    "        if (ptrlen == (len(pattern))): \n",
    "            return 'true'\n",
    "\n",
    "    return 'false'\n",
    "\n",
    "if __name__ == \"__main__\": \n",
    "    input = 'abcdefghfdbfgthfb'\n",
    "    pattern = 'fgt'\n",
    "    print (checkOrder(input,pattern)) "
   ]
  },
  {
   "cell_type": "markdown",
   "id": "92cd8238",
   "metadata": {},
   "source": [
    "#### 8.\tDictionary and counter in Python to find winner of election."
   ]
  },
  {
   "cell_type": "code",
   "execution_count": 46,
   "id": "b0ae801b",
   "metadata": {},
   "outputs": [
    {
     "name": "stdout",
     "output_type": "stream",
     "text": [
      "tie\n"
     ]
    }
   ],
   "source": [
    "from collections import Counter\n",
    " \n",
    "votes =['john','johnny','jackie','johnny','john','jackie','jamie','jamie','john','johnny','jamie','johnny','john']\n",
    "vote_count=Counter(votes)\n",
    "max_votes=max(vote_count.values())\n",
    "\n",
    "win=[i for i in vote_count.keys() if vote_count[i]==max_votes]\n",
    "if len(win) == 1:\n",
    "    print(win)\n",
    "else:\n",
    "    print(\"tie\")"
   ]
  },
  {
   "cell_type": "markdown",
   "id": "2301c3cc",
   "metadata": {},
   "source": [
    "#### 9.\tPython – Append Dictionary Keys and Values ( In order ) in dictionary."
   ]
  },
  {
   "cell_type": "code",
   "execution_count": 45,
   "id": "89953c13",
   "metadata": {},
   "outputs": [
    {
     "name": "stdout",
     "output_type": "stream",
     "text": [
      "['a', 'b', 'c', 'd', 1, 3, 2, 3]\n"
     ]
    }
   ],
   "source": [
    "dict = {\"a\" : 1, \"b\" :  3, \"c\" : 2, \"d\" : 3}\n",
    "new = list(dict.keys()) + list(dict.values())\n",
    "print(str(new)) "
   ]
  },
  {
   "cell_type": "markdown",
   "id": "8f0e43f3",
   "metadata": {},
   "source": [
    "#### 10.\tPython | Sort Python Dictionaries by Key or Value."
   ]
  },
  {
   "cell_type": "code",
   "execution_count": 52,
   "id": "67b99046",
   "metadata": {},
   "outputs": [
    {
     "name": "stdout",
     "output_type": "stream",
     "text": [
      "OrderedDict([('a', 2), ('b', 4), ('c', 3), ('d', 5)])\n"
     ]
    }
   ],
   "source": [
    "from collections import OrderedDict\n",
    " \n",
    "dict_1 = {\"c\" : 3, \"b\" :  4, \"a\" : 2, \"d\" : 5}\n",
    "dict_new = OrderedDict(sorted(dict_1.items()))\n",
    "print(dict_new)"
   ]
  },
  {
   "cell_type": "code",
   "execution_count": 59,
   "id": "149278f8",
   "metadata": {},
   "outputs": [
    {
     "name": "stdout",
     "output_type": "stream",
     "text": [
      "[('Kane', 43), ('Tina', 54), ('Tom', 67), ('Divya', 73), ('Akbar', 87)]\n"
     ]
    }
   ],
   "source": [
    "dict = {\"Tom\":67, \"Tina\": 54, \"Akbar\": 87, \"Kane\": 43, \"Divya\":73}\n",
    "list = sorted(dict.items(), key=lambda x:x[1])\n",
    "sortdict = list\n",
    "print(sortdict)"
   ]
  }
 ],
 "metadata": {
  "kernelspec": {
   "display_name": "Python 3 (ipykernel)",
   "language": "python",
   "name": "python3"
  },
  "language_info": {
   "codemirror_mode": {
    "name": "ipython",
    "version": 3
   },
   "file_extension": ".py",
   "mimetype": "text/x-python",
   "name": "python",
   "nbconvert_exporter": "python",
   "pygments_lexer": "ipython3",
   "version": "3.9.7"
  }
 },
 "nbformat": 4,
 "nbformat_minor": 5
}
