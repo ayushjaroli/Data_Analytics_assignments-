{
 "cells": [
  {
   "cell_type": "markdown",
   "id": "e3c4d2fb",
   "metadata": {},
   "source": [
    "##### 1.\tRaindrops are falling at an average rate of 20 drops per square inch per minute. What would be a reasonable distribution to use for the number of raindrops hitting a particular region measuring 5 inches2 in t minutes? Why? Using your chosen distribution, compute the probability that the region has no rain drops in a given 3 second time interval. A reasonable choice of distribution is P."
   ]
  },
  {
   "cell_type": "markdown",
   "id": "3916ef8d",
   "metadata": {},
   "source": [
    "#### Ans.(1) Poisson distribution = λt\n",
    "#### where λ = 20*5 = 100\n",
    "#### P(no raindrops in 1/20 of a minute) = e100/20(100/20)^0/0! = e^-5"
   ]
  },
  {
   "cell_type": "markdown",
   "id": "3b032811",
   "metadata": {},
   "source": [
    "##### 2.\tLet X be a random day of the week, coded so that Monday is 1, Tuesday is 2, etc. (so X takes values 1, 2,..., 7, with equal probabilities). Let Y be the next day after X (again represented as an integer between 1 and 7). Do X and Y have the same distribution? What is P(X)?\n"
   ]
  },
  {
   "cell_type": "markdown",
   "id": "ac677762",
   "metadata": {},
   "source": [
    "#### Ans.(2) They have the same distribution since Y is also equally likely to represent any day of the week, but P(X<Y ) = P(X 6!= 7) = 6/7"
   ]
  }
 ],
 "metadata": {
  "kernelspec": {
   "display_name": "Python 3 (ipykernel)",
   "language": "python",
   "name": "python3"
  },
  "language_info": {
   "codemirror_mode": {
    "name": "ipython",
    "version": 3
   },
   "file_extension": ".py",
   "mimetype": "text/x-python",
   "name": "python",
   "nbconvert_exporter": "python",
   "pygments_lexer": "ipython3",
   "version": "3.9.7"
  }
 },
 "nbformat": 4,
 "nbformat_minor": 5
}
