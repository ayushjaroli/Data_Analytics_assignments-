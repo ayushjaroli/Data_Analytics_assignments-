{
 "cells": [
  {
   "cell_type": "markdown",
   "id": "cb8c7f06",
   "metadata": {},
   "source": [
    "#### 1.\tReverse words in a given String in Python."
   ]
  },
  {
   "cell_type": "code",
   "execution_count": 10,
   "id": "9c0facca",
   "metadata": {},
   "outputs": [
    {
     "name": "stdout",
     "output_type": "stream",
     "text": [
      "python at good very am i\n"
     ]
    }
   ],
   "source": [
    "sentence = \"i am very good at python\"\n",
    "words = sentence.split(' ') \n",
    "reverse_sentence = ' '.join(reversed(words)) \n",
    "print (reverse_sentence) "
   ]
  },
  {
   "cell_type": "markdown",
   "id": "861d63ee",
   "metadata": {},
   "source": [
    "#### 2.\tWays to remove i’th character from string in Python."
   ]
  },
  {
   "cell_type": "code",
   "execution_count": 20,
   "id": "10535447",
   "metadata": {},
   "outputs": [
    {
     "name": "stdout",
     "output_type": "stream",
     "text": [
      "type string 0123456789\n",
      "2\n",
      "The original string is : 0123456789\n",
      "The string after removal of i'th character : 013456789\n"
     ]
    }
   ],
   "source": [
    "test_str = str(input(\"type string \"))\n",
    "i = int(input())\n",
    "  \n",
    "\n",
    "print (\"The original string is : \" + test_str)\n",
    "b=i+1  \n",
    "\n",
    "new_str = test_str[:i] +  test_str[b:]\n",
    "  \n",
    "\n",
    "print (\"The string after removal of i'th character : \" + new_str)"
   ]
  },
  {
   "cell_type": "markdown",
   "id": "a47ac23d",
   "metadata": {},
   "source": [
    "#### 3.\tPython | Check if a Substring is Present in a Given String."
   ]
  },
  {
   "cell_type": "code",
   "execution_count": 32,
   "id": "8fb26e59",
   "metadata": {},
   "outputs": [
    {
     "name": "stdout",
     "output_type": "stream",
     "text": [
      "YES\n"
     ]
    }
   ],
   "source": [
    "string = \"geeks for geeks\"\n",
    "sub_str = \"geek\"\n",
    "if (string.find(sub_str) == -1):\n",
    "        print(\"NO\")\n",
    "else:\n",
    "        print(\"YES\")\n"
   ]
  },
  {
   "cell_type": "markdown",
   "id": "f5ae014a",
   "metadata": {},
   "source": [
    "#### 4.\tPython – Words Frequency in String Shorthands."
   ]
  },
  {
   "cell_type": "code",
   "execution_count": 36,
   "id": "400c3571",
   "metadata": {},
   "outputs": [
    {
     "name": "stdout",
     "output_type": "stream",
     "text": [
      "The words frequency : {'ineuron': 2, 'is': 1, 'best': 3, 'as': 1, 'provides': 1, 'couses': 1, 'in': 3, 'price': 1}\n"
     ]
    }
   ],
   "source": [
    "string = 'ineuron is best as ineuron provides best couses in best price'\n",
    "a = {key: string.count(key) for key in string.split(\" \")}\n",
    "print(\"The words frequency : \" + str(a)) "
   ]
  },
  {
   "cell_type": "markdown",
   "id": "1793208e",
   "metadata": {},
   "source": [
    "#### 5.\tPython – Convert Snake case to Pascal case."
   ]
  },
  {
   "cell_type": "code",
   "execution_count": 38,
   "id": "d4a1f7dd",
   "metadata": {},
   "outputs": [
    {
     "name": "stdout",
     "output_type": "stream",
     "text": [
      "IAmStudyingAtIneuron\n"
     ]
    }
   ],
   "source": [
    "string = 'i_am studying_at ineuron'\n",
    "a = string.replace(\"_\", \" \").title().replace(\" \", \"\")\n",
    "print(str(a)) "
   ]
  },
  {
   "cell_type": "markdown",
   "id": "d59ef6a9",
   "metadata": {},
   "source": [
    "#### 6.\tFind length of a string in python (4 ways)."
   ]
  },
  {
   "cell_type": "code",
   "execution_count": 54,
   "id": "b671a8f8",
   "metadata": {},
   "outputs": [
    {
     "name": "stdout",
     "output_type": "stream",
     "text": [
      "7\n",
      "7\n",
      "7\n",
      "7\n"
     ]
    }
   ],
   "source": [
    "a = \"ineuron\"\n",
    "#first\n",
    "print(len(a))\n",
    "#second\n",
    "b = 0    \n",
    "for i in a:\n",
    "    b += 1\n",
    "print (b)\n",
    "#third\n",
    "c = 0\n",
    "while a[c:]:\n",
    "    c += 1\n",
    "print(c)\n",
    "#fourth\n",
    "if not a:\n",
    "    print (0)\n",
    "else:\n",
    "    d= 'py'\n",
    "    print(((d).join(a)).count(d) + 1)\n",
    "\n",
    "  \n",
    "\n",
    "  \n",
    "\n",
    "  "
   ]
  },
  {
   "cell_type": "markdown",
   "id": "7c32dae6",
   "metadata": {},
   "source": [
    "#### 7.\tPython program to print even length words in a string."
   ]
  },
  {
   "cell_type": "code",
   "execution_count": 55,
   "id": "372d982f",
   "metadata": {},
   "outputs": [
    {
     "name": "stdout",
     "output_type": "stream",
     "text": [
      "am\n"
     ]
    }
   ],
   "source": [
    "string = \"i am great\"\n",
    "string = string.split(' ') \n",
    "for i in string:\n",
    "    if len(i)%2==0:\n",
    "            print(i) \n",
    "  "
   ]
  },
  {
   "cell_type": "markdown",
   "id": "a718b466",
   "metadata": {},
   "source": [
    "#### 8.\tPython program to accept the strings which contains all vowels."
   ]
  },
  {
   "cell_type": "code",
   "execution_count": 60,
   "id": "f8d66f32",
   "metadata": {},
   "outputs": [
    {
     "name": "stdout",
     "output_type": "stream",
     "text": [
      "accepted\n"
     ]
    }
   ],
   "source": [
    "string=\"this is all vowels aeiou\"\n",
    "string = string.replace(' ', '')\n",
    "string = string.lower()\n",
    "vowel = [string.count('a'), string.count('e'), string.count('i'), string.count('o'), string.count('u')]\n",
    " \n",
    "if vowel.count(0) > 0:\n",
    "        print('not accepted')\n",
    "else:\n",
    "        print('accepted')\n",
    " "
   ]
  },
  {
   "cell_type": "markdown",
   "id": "f34fff85",
   "metadata": {},
   "source": [
    "#### 9.\tPython | Count the Number of matching characters in a pair of string."
   ]
  },
  {
   "cell_type": "code",
   "execution_count": 70,
   "id": "8f5b8711",
   "metadata": {},
   "outputs": [
    {
     "name": "stdout",
     "output_type": "stream",
     "text": [
      "7\n"
     ]
    }
   ],
   "source": [
    "s1=\"abdcpqref\"\n",
    "s2= \"abcdefgphi\"\n",
    "f=0\n",
    "for i in s1 :\n",
    "    if i in s2:\n",
    "        f+=1\n",
    "print(f)\n",
    "        "
   ]
  },
  {
   "cell_type": "markdown",
   "id": "86ca017b",
   "metadata": {},
   "source": [
    "#### 10.\tRemove all duplicates from a given string in Python."
   ]
  },
  {
   "cell_type": "code",
   "execution_count": 121,
   "id": "7ace0a78",
   "metadata": {},
   "outputs": [
    {
     "name": "stdout",
     "output_type": "stream",
     "text": [
      "bdcpqdffref\n",
      "abcpqaffref\n",
      "bdcpqdffref\n",
      "abcpqaffref\n",
      "abdcpqadre\n",
      "abdcpqadre\n",
      "abdcpqadre\n"
     ]
    }
   ],
   "source": [
    "s3=\"abdcpqadffref\"\n",
    "s3.split()\n",
    "for i in s3:\n",
    "    if s3.count(i)>1:\n",
    "        print(s3.replace(i,\"\"))        "
   ]
  },
  {
   "cell_type": "code",
   "execution_count": 125,
   "id": "f114588d",
   "metadata": {},
   "outputs": [
    {
     "name": "stdout",
     "output_type": "stream",
     "text": [
      "abdcpqfre\n"
     ]
    }
   ],
   "source": [
    "str = \"abdcpqadffref\"\n",
    "s=set(str)\n",
    "s=\"\".join(s)\n",
    "t=\"\"\n",
    "for i in str:\n",
    "    if(i in t):\n",
    "        pass\n",
    "    else:\n",
    "        t=t+i\n",
    "print(t)\n",
    "      \n"
   ]
  }
 ],
 "metadata": {
  "kernelspec": {
   "display_name": "Python 3 (ipykernel)",
   "language": "python",
   "name": "python3"
  },
  "language_info": {
   "codemirror_mode": {
    "name": "ipython",
    "version": 3
   },
   "file_extension": ".py",
   "mimetype": "text/x-python",
   "name": "python",
   "nbconvert_exporter": "python",
   "pygments_lexer": "ipython3",
   "version": "3.9.7"
  }
 },
 "nbformat": 4,
 "nbformat_minor": 5
}
