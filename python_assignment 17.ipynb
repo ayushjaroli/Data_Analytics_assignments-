{
 "cells": [
  {
   "cell_type": "markdown",
   "id": "25bd5a4e",
   "metadata": {},
   "source": [
    "#### 1.\tPython program to find difference between current time and given time."
   ]
  },
  {
   "cell_type": "code",
   "execution_count": 1,
   "id": "1d6f74fd",
   "metadata": {},
   "outputs": [
    {
     "name": "stdout",
     "output_type": "stream",
     "text": [
      "The current times:  4 : 5\n",
      "The given times: 6 : 7\n",
      "The difference:  2 : 2 \n",
      "\n",
      "The current times:  1 : 1\n",
      "The given times: 1 : 1\n",
      "The difference: Both are Same !\n"
     ]
    }
   ],
   "source": [
    "def time_difference(h1, m1, h2, m2):\n",
    "    print(\"The current times: \", h1, \":\", m1)\n",
    "    t1 = h1 * 60 + m1\n",
    "    print(\"The given times:\", h2, \":\", m2)\n",
    "    t2 = h2 * 60 + m2\n",
    "    if(t1 == t2):\n",
    "        print(\"The difference: Both are Same !\")\n",
    "        return\n",
    "    else:\n",
    "        difference = t2 - t1\n",
    "    h = (int(difference/60)) % 24\n",
    "    m = difference % 60\n",
    "    print(\"The difference: \", h, \":\", m, \"\\n\")\n",
    "time_difference(4, 5, 6, 7)\n",
    "time_difference(1, 1, 1, 1)"
   ]
  },
  {
   "cell_type": "markdown",
   "id": "a5be885f",
   "metadata": {},
   "source": [
    "#### 2.\tPython Program to Create a Lap Timer."
   ]
  },
  {
   "cell_type": "code",
   "execution_count": null,
   "id": "2804bb46",
   "metadata": {},
   "outputs": [
    {
     "name": "stdout",
     "output_type": "stream",
     "text": [
      "Click on ENTER to count laps.\n",
      "Press CTRL+C to stop\n",
      "2\n",
      "Lap No. 1\n",
      "Total Time: 33.15\n",
      "Lap Time: 33.15\n",
      "********************\n",
      "1\n",
      "Lap No. 2\n",
      "Total Time: 37.25\n",
      "Lap Time: 4.09\n",
      "********************\n",
      "4\n",
      "Lap No. 3\n",
      "Total Time: 39.66\n",
      "Lap Time: 2.41\n",
      "********************\n"
     ]
    }
   ],
   "source": [
    "import time\n",
    "\n",
    "start_time=time.time()\n",
    "end_time=start_time\n",
    "lap_num=1\n",
    "\n",
    "print(\"Click on ENTER to count laps.\\nPress CTRL+C to stop\")\n",
    "\n",
    "try:\n",
    "   while True:\n",
    "\n",
    "      input()\n",
    "      time_laps=round((time.time() - end_time), 2)\n",
    "\n",
    "      tot_time=round((time.time() - start_time), 2)\n",
    "\n",
    "      print(\"Lap No. \"+str(lap_num))\n",
    "      print(\"Total Time: \"+str(tot_time))\n",
    "      print(\"Lap Time: \"+str(time_laps))\n",
    "\n",
    "      print(\"*\"*20)\n",
    "\n",
    "      end_time=time.time()\n",
    "      lap_num+=1\n",
    "\n",
    "except KeyboardInterrupt:\n",
    "   print(\"Exit!\")"
   ]
  },
  {
   "cell_type": "markdown",
   "id": "bbe959f0",
   "metadata": {},
   "source": [
    "#### 3.\tConvert date string to timestamp in Python."
   ]
  },
  {
   "cell_type": "code",
   "execution_count": 1,
   "id": "0cce1dec",
   "metadata": {},
   "outputs": [
    {
     "name": "stdout",
     "output_type": "stream",
     "text": [
      "The date string is :\n",
      "24/03/2021\n",
      "The timestamp is :\n",
      "1616524200.0\n"
     ]
    }
   ],
   "source": [
    "import time\n",
    "import datetime\n",
    "\n",
    "my_string = \"24/03/2021\"\n",
    "print(\"The date string is :\")\n",
    "print(my_string)\n",
    "print(\"The timestamp is :\")\n",
    "print(time.mktime(datetime.datetime.strptime(my_string, \"%d/%m/%Y\").timetuple()))"
   ]
  },
  {
   "cell_type": "markdown",
   "id": "f76b597c",
   "metadata": {},
   "source": [
    "#### 4.\tHow to convert timestamp string to datetime object in Python?"
   ]
  },
  {
   "cell_type": "code",
   "execution_count": 2,
   "id": "bed0c93e",
   "metadata": {},
   "outputs": [
    {
     "name": "stdout",
     "output_type": "stream",
     "text": [
      "2017-07-14 08:10:00\n"
     ]
    }
   ],
   "source": [
    "import datetime\n",
    "timestamp = datetime.datetime.fromtimestamp(1500000000)\n",
    "print(timestamp.strftime('%Y-%m-%d %H:%M:%S'))"
   ]
  },
  {
   "cell_type": "markdown",
   "id": "a825b4e2",
   "metadata": {},
   "source": [
    "#### 5.\tFind number of times every day occurs in a Year."
   ]
  },
  {
   "cell_type": "code",
   "execution_count": 3,
   "id": "417488a1",
   "metadata": {},
   "outputs": [
    {
     "name": "stdout",
     "output_type": "stream",
     "text": [
      "Monday   4\n",
      "Tuesday   4\n",
      "Wednesday   4\n",
      "Thursday   5\n",
      "Friday   5\n",
      "Saturday   5\n",
      "Sunday   4\n"
     ]
    }
   ],
   "source": [
    "import math\n",
    "def num_of_occurrence( n, firstday):\n",
    "\n",
    "   my_days = [ \"Monday\", \"Tuesday\", \"Wednesday\", \"Thursday\", \"Friday\", \"Saturday\",\"Sunday\" ]\n",
    "\n",
    "   my_count= [4 for i in range(0,7)]\n",
    "\n",
    "   my_position = -1\n",
    "   for i in range(0,7):\n",
    "      if (first_day == my_days[i]):\n",
    "         my_position = i\n",
    "         break\n",
    "\n",
    "   inc = n - 28\n",
    "\n",
    "   for i in range( my_position, my_position + inc):\n",
    "      if (i > 6):\n",
    "         my_count[i % 7] = 5\n",
    "      else:\n",
    "         my_count[i] = 5\n",
    "\n",
    "   for i in range(0,7):\n",
    "      print (my_days[i] , \" \" , my_count[i])\n",
    "\n",
    "num = 31\n",
    "first_day = \"Thursday\"\n",
    "num_of_occurrence(num, first_day)"
   ]
  },
  {
   "cell_type": "markdown",
   "id": "f9cf5648",
   "metadata": {},
   "source": [
    "#### 6.\tPython Program to Check if String Contain Only Defined Characters using Regex."
   ]
  },
  {
   "cell_type": "code",
   "execution_count": 4,
   "id": "7fa75b7e",
   "metadata": {},
   "outputs": [
    {
     "name": "stdout",
     "output_type": "stream",
     "text": [
      "The string is :\n",
      "Python\n",
      "The string contains the defined characters only\n",
      "\n",
      "The string is :\n",
      "PythonInterpreter\n",
      "The doesnot string contain the defined characters\n"
     ]
    }
   ],
   "source": [
    "import re\n",
    "def check_string(my_string, regex_pattern):\n",
    "\n",
    "   if re.search(regex_pattern, my_string):\n",
    "      print(\"The string contains the defined characters only\")\n",
    "   else:\n",
    "      print(\"The doesnot string contain the defined characters\")\n",
    "\n",
    "regex_pattern = re.compile('^[Python]+$')\n",
    "\n",
    "my_string_1 = 'Python'\n",
    "print(\"The string is :\")\n",
    "print(my_string_1)\n",
    "check_string(my_string_1 , regex_pattern)\n",
    "\n",
    "my_string_2 = 'PythonInterpreter'\n",
    "print(\"\\nThe string is :\")\n",
    "print(my_string_2)\n",
    "check_string(my_string_2, regex_pattern)"
   ]
  },
  {
   "cell_type": "markdown",
   "id": "157e21c9",
   "metadata": {},
   "source": [
    "#### 7.\tPython program to Count Uppercase, Lowercase, special character and numeric values using Regex."
   ]
  },
  {
   "cell_type": "code",
   "execution_count": 5,
   "id": "56d16a51",
   "metadata": {},
   "outputs": [
    {
     "name": "stdout",
     "output_type": "stream",
     "text": [
      "The no. of uppercase characters is 7\n",
      "The no. of lowercase characters is 15\n",
      "The no. of numerical characters is 8\n",
      "The no. of special characters is 6\n"
     ]
    }
   ],
   "source": [
    "import re\n",
    " \n",
    " \n",
    "string = \"I am Learning DATA Science 12346678!@#$\"\n",
    "\n",
    "uppercase_characters = re.findall(r\"[A-Z]\", string)\n",
    "lowercase_characters = re.findall(r\"[a-z]\", string)\n",
    "numerical_characters = re.findall(r\"[0-9]\", string)\n",
    "special_characters = re.findall(r\"[, .!?]\", string)\n",
    " \n",
    "print(\"The no. of uppercase characters is\", len(uppercase_characters))\n",
    "print(\"The no. of lowercase characters is\", len(lowercase_characters))\n",
    "print(\"The no. of numerical characters is\", len(numerical_characters))\n",
    "print(\"The no. of special characters is\", len(special_characters))"
   ]
  },
  {
   "cell_type": "markdown",
   "id": "f34fa637",
   "metadata": {},
   "source": [
    "#### 8.\tPython Program to find the most occurring number in a string using Regex."
   ]
  },
  {
   "cell_type": "code",
   "execution_count": 5,
   "id": "7330ca6f",
   "metadata": {},
   "outputs": [
    {
     "name": "stdout",
     "output_type": "stream",
     "text": [
      "max_value 4\n"
     ]
    }
   ],
   "source": [
    "# import module for regular expression and collections\n",
    "import re\n",
    "import collections\n",
    "\n",
    "string='11122223333344444444'\n",
    "\n",
    "number = re.findall(r\"[0-9]\", string)\n",
    "\n",
    "counter = collections.Counter(number)\n",
    "max_count = 0\n",
    "max_value = None\n",
    "for key in list(counter.keys()):\n",
    "  if(counter[key]>max_count):\n",
    "    max_count = counter[key]\n",
    "    max_value = int(key)\n",
    "print(\"max_value\",max_value)"
   ]
  },
  {
   "cell_type": "markdown",
   "id": "0f8ac119",
   "metadata": {},
   "source": [
    "#### 9.\tPython Regex to extract maximum numeric value from a string."
   ]
  },
  {
   "cell_type": "code",
   "execution_count": 9,
   "id": "dc10b9a9",
   "metadata": {},
   "outputs": [
    {
     "name": "stdout",
     "output_type": "stream",
     "text": [
      "Max_value: 57\n"
     ]
    }
   ],
   "source": [
    "import re\n",
    "string='1dffghf3fghjg25fghf57'\n",
    "number = re.findall('\\d+', string)\n",
    "number = map(int, number)\n",
    "print(\"Max_value:\",max(number))"
   ]
  },
  {
   "cell_type": "markdown",
   "id": "51e16e94",
   "metadata": {},
   "source": [
    "#### 10.\tPython Program to put spaces between words starting with capital letters using Regex."
   ]
  },
  {
   "cell_type": "code",
   "execution_count": 10,
   "id": "1916a66a",
   "metadata": {},
   "outputs": [
    {
     "name": "stdout",
     "output_type": "stream",
     "text": [
      "I Am Learning Python\n"
     ]
    }
   ],
   "source": [
    "import re\n",
    "string='IAmLearningPython'\n",
    "words = re.findall('[A-Z][a-z]*', string)\n",
    "print(' '.join((words)))"
   ]
  }
 ],
 "metadata": {
  "kernelspec": {
   "display_name": "Python 3 (ipykernel)",
   "language": "python",
   "name": "python3"
  },
  "language_info": {
   "codemirror_mode": {
    "name": "ipython",
    "version": 3
   },
   "file_extension": ".py",
   "mimetype": "text/x-python",
   "name": "python",
   "nbconvert_exporter": "python",
   "pygments_lexer": "ipython3",
   "version": "3.9.7"
  }
 },
 "nbformat": 4,
 "nbformat_minor": 5
}
