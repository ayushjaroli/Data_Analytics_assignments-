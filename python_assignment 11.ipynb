{
 "cells": [
  {
   "cell_type": "markdown",
   "id": "82a4dfb4",
   "metadata": {},
   "source": [
    "#### 1.\tPython – Sort Dictionary key and values List."
   ]
  },
  {
   "cell_type": "code",
   "execution_count": 2,
   "id": "3af51d80",
   "metadata": {},
   "outputs": [
    {
     "name": "stdout",
     "output_type": "stream",
     "text": [
      "{'am': [2, 3, 10], 'best': [4, 19], 'i': [3, 6, 7]}\n"
     ]
    }
   ],
   "source": [
    "dict = {'i': [7, 6, 3], 'am': [2, 10, 3], 'best': [19, 4]}\n",
    "newdict = {key : sorted(dict[key]) for key in sorted(dict)}\n",
    "print(str(newdict)) "
   ]
  },
  {
   "cell_type": "markdown",
   "id": "d8dff0dd",
   "metadata": {},
   "source": [
    "#### 2.\tHandling missing keys in Python dictionaries."
   ]
  },
  {
   "cell_type": "code",
   "execution_count": 4,
   "id": "72607328",
   "metadata": {},
   "outputs": [
    {
     "name": "stdout",
     "output_type": "stream",
     "text": [
      "1\n",
      "Not Present\n"
     ]
    }
   ],
   "source": [
    "country_code = {'a' : '1','b' : '2' , 'c' : '3' , 'd' : '4'}\n",
    "country_code.setdefault('e', 'Not Present')\n",
    "print(country_code['a'])\n",
    "print(country_code['e'])"
   ]
  },
  {
   "cell_type": "markdown",
   "id": "e07c22bf",
   "metadata": {},
   "source": [
    "#### 3.\tPython dictionary with keys having multiple inputs."
   ]
  },
  {
   "cell_type": "code",
   "execution_count": 5,
   "id": "e8850fb8",
   "metadata": {},
   "outputs": [
    {
     "name": "stdout",
     "output_type": "stream",
     "text": [
      "{(10, 20, 30): 0, (5, 2, 4): 3}\n"
     ]
    }
   ],
   "source": [
    "import random as rn\n",
    "# creating an empty dictionary\n",
    "dict = {}\n",
    "# Insert first triplet in dictionary\n",
    "x, y, z = 10, 20, 30\n",
    "dict[x, y, z] = x + y - z;\n",
    "# Insert second triplet in dictionary\n",
    "x, y, z = 5, 2, 4\n",
    "dict[x, y, z] = x + y - z;\n",
    "# print the dictionary\n",
    "print(dict)"
   ]
  },
  {
   "cell_type": "markdown",
   "id": "ccb7fb40",
   "metadata": {},
   "source": [
    "#### 4.\tPrint anagrams together in Python using List and Dictionary."
   ]
  },
  {
   "cell_type": "code",
   "execution_count": 15,
   "id": "5737e2e8",
   "metadata": {},
   "outputs": [
    {
     "name": "stdout",
     "output_type": "stream",
     "text": [
      "cat tac act dog god \n"
     ]
    }
   ],
   "source": [
    "def allAnagram(input):\n",
    "\n",
    "    dict = {}\n",
    "\n",
    "    for strVal in input:\n",
    "\n",
    "        key = ''.join(sorted(strVal))\n",
    "\n",
    "        if key in dict.keys():\n",
    "            dict[key].append(strVal)\n",
    "        else:\n",
    "            dict[key] = []\n",
    "            dict[key].append(strVal)\n",
    "\n",
    "    output = \"\"\n",
    "    for key,value in dict.items():\n",
    "        output = output + ' '.join(value) + ' '\n",
    " \n",
    "    return output\n",
    "\n",
    "if __name__ == \"__main__\":\n",
    "    input=['cat', 'dog', 'tac', 'god', 'act']\n",
    "    print (allAnagram(input))\n",
    "    "
   ]
  },
  {
   "cell_type": "markdown",
   "id": "6221c53b",
   "metadata": {},
   "source": [
    "#### 5.\tK’th Non-repeating Character in Python using List Comprehension and OrderedDict."
   ]
  },
  {
   "cell_type": "code",
   "execution_count": 25,
   "id": "2d2fd8f3",
   "metadata": {},
   "outputs": [
    {
     "name": "stdout",
     "output_type": "stream",
     "text": [
      "h\n"
     ]
    }
   ],
   "source": [
    "from collections import OrderedDict \n",
    "  \n",
    "input = \"ahgjaapgufrtgfgjftu\"\n",
    "k = 1\n",
    " \n",
    "dict=OrderedDict.fromkeys(input,0) \n",
    " \n",
    "for ch in input: \n",
    "        dict[ch]+=1\n",
    "\n",
    "nonRepeatDict = [key for (key,value) in dict.items() if value==1] \n",
    "\n",
    "if len(nonRepeatDict) < k: \n",
    "        print('Less than k non-repeating characters in input.') \n",
    "else: \n",
    "        print(nonRepeatDict[k-1]) \n"
   ]
  },
  {
   "cell_type": "markdown",
   "id": "0376de74",
   "metadata": {},
   "source": [
    "#### 6.\tCheck if binary representations of two numbers are anagram."
   ]
  },
  {
   "cell_type": "code",
   "execution_count": 30,
   "id": "62b80831",
   "metadata": {},
   "outputs": [
    {
     "name": "stdout",
     "output_type": "stream",
     "text": [
      "No\n"
     ]
    }
   ],
   "source": [
    "from collections import Counter\n",
    "  \n",
    "num1 = 5\n",
    "num2 = 4\n",
    "\n",
    "bin1 = bin(num1)[2:]\n",
    "bin2 = bin(num2)[2:]\n",
    "\n",
    "zeros = abs(len(bin1)-len(bin2))\n",
    "if (len(bin1)>len(bin2)):\n",
    "    bin2 = zeros * '0' + bin2\n",
    "else:\n",
    "    bin1 = zeros * '0' + bin1\n",
    "\n",
    "dict1 = Counter(bin1)\n",
    "dict2 = Counter(bin2)\n",
    "\n",
    "if dict1 == dict2:\n",
    "         print('Yes')\n",
    "else:\n",
    "         print('No')\n",
    "\n",
    "\n",
    "  "
   ]
  },
  {
   "cell_type": "markdown",
   "id": "941f0e49",
   "metadata": {},
   "source": [
    "#### 7.\tPython Counter to find the size of largest subset of anagram words."
   ]
  },
  {
   "cell_type": "code",
   "execution_count": 32,
   "id": "f9af4bd9",
   "metadata": {},
   "outputs": [
    {
     "name": "stdout",
     "output_type": "stream",
     "text": [
      "3\n"
     ]
    }
   ],
   "source": [
    "from collections import Counter\n",
    "input = 'ant magenta magnate tan gnamate'\n",
    "input = input.split(\" \")\n",
    "for i in range(0,len(input)):\n",
    "    input[i]=''.join(sorted(input[i]))\n",
    "freqDict = Counter(input)\n",
    "print (max(freqDict.values())) "
   ]
  },
  {
   "cell_type": "markdown",
   "id": "07acf064",
   "metadata": {},
   "source": [
    "#### 8.\tPython | Remove all duplicates words from a given sentence."
   ]
  },
  {
   "cell_type": "code",
   "execution_count": 38,
   "id": "daeb8feb",
   "metadata": {},
   "outputs": [
    {
     "name": "stdout",
     "output_type": "stream",
     "text": [
      "i am good and hard working.\n"
     ]
    }
   ],
   "source": [
    "s = \"i am good i am and hard working.\"\n",
    "l = s.split()\n",
    "k = []\n",
    "for i in l:\n",
    "    if (s.count(i)>=1 and (i not in k)):\n",
    "        k.append(i)\n",
    "\n",
    "print(' '.join(k))"
   ]
  },
  {
   "cell_type": "markdown",
   "id": "7c2148da",
   "metadata": {},
   "source": [
    "#### 9.\tPython Dictionary to find mirror characters in a string."
   ]
  },
  {
   "cell_type": "code",
   "execution_count": 59,
   "id": "b73b1141",
   "metadata": {},
   "outputs": [
    {
     "name": "stdout",
     "output_type": "stream",
     "text": [
      "ayuhsqzilor\n"
     ]
    }
   ],
   "source": [
    "str1 = \"ayushjaroli\"\n",
    "n = 3\n",
    "alphaset = \"zyxwvutsrqponmlkjihgfedcba\"\n",
    "l = len(str1)\n",
    "result = \"\"\n",
    "for i in range(0, n):\n",
    "    result = result + str1[i];\n",
    "for i in range(n, l):\n",
    "    result = (result + alphaset[ord(str1[i]) - ord('a')]);\n",
    "print(result)\n",
    " \n"
   ]
  },
  {
   "cell_type": "markdown",
   "id": "d3a45f3a",
   "metadata": {},
   "source": [
    "#### 10.\tCounting the frequencies in a list using dictionary in Python."
   ]
  },
  {
   "cell_type": "code",
   "execution_count": 52,
   "id": "caf16cf4",
   "metadata": {},
   "outputs": [
    {
     "name": "stdout",
     "output_type": "stream",
     "text": [
      " 1 :  5\n",
      " 5 :  2\n",
      " 3 :  3\n",
      " 4 :  3\n",
      " 2 :  4\n"
     ]
    }
   ],
   "source": [
    "list =[1, 1, 1, 5, 5, 3, 1, 3, 3, 1, 4, 4, 4, 2, 2, 2, 2]\n",
    "freq = {}\n",
    "for items in list:\n",
    "        freq[items] = list.count(items)\n",
    "for key, value in freq.items():\n",
    "    print (\"% d : % d\"%(key, value))        \n",
    "\n"
   ]
  }
 ],
 "metadata": {
  "kernelspec": {
   "display_name": "Python 3 (ipykernel)",
   "language": "python",
   "name": "python3"
  },
  "language_info": {
   "codemirror_mode": {
    "name": "ipython",
    "version": 3
   },
   "file_extension": ".py",
   "mimetype": "text/x-python",
   "name": "python",
   "nbconvert_exporter": "python",
   "pygments_lexer": "ipython3",
   "version": "3.9.7"
  }
 },
 "nbformat": 4,
 "nbformat_minor": 5
}
