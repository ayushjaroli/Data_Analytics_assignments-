{
 "cells": [
  {
   "cell_type": "markdown",
   "id": "0fb36801",
   "metadata": {},
   "source": [
    "#### 1. Python program to print all negative numbers in a range."
   ]
  },
  {
   "cell_type": "code",
   "execution_count": 1,
   "id": "ab64afd6",
   "metadata": {},
   "outputs": [
    {
     "name": "stdout",
     "output_type": "stream",
     "text": [
      "start of range-10\n",
      "end of range10\n",
      "-10\n",
      "-9\n",
      "-8\n",
      "-7\n",
      "-6\n",
      "-5\n",
      "-4\n",
      "-3\n",
      "-2\n",
      "-1\n"
     ]
    }
   ],
   "source": [
    "a=int(input(\"start of range\"))\n",
    "b=int(input(\"end of range\"))\n",
    "for i in range(a,b+1):\n",
    "    if i<0:\n",
    "        print(i)"
   ]
  },
  {
   "cell_type": "markdown",
   "id": "7b458374",
   "metadata": {},
   "source": [
    "#### 2.\tRemove multiple elements from a list in Python."
   ]
  },
  {
   "cell_type": "code",
   "execution_count": 13,
   "id": "2f02f8c7",
   "metadata": {},
   "outputs": [
    {
     "name": "stdout",
     "output_type": "stream",
     "text": [
      "enter the number whose multiples should be removed 2\n",
      "[1, 3, 5, 7, 9, 11, 13, 14, 15, 17, 19]\n"
     ]
    }
   ],
   "source": [
    "n = int(input(\"enter the number whose multiples should be removed \" ))\n",
    "list_1 = [1,2,3,4,5,6,7,8,9,10,11,12,13,54,14,15,16,17,18,19,2]\n",
    "for i in list_1:\n",
    "    if i%n==0 :\n",
    "        list_1.remove(i)\n",
    "print(list_1)\n",
    "    \n",
    "        \n",
    "           "
   ]
  },
  {
   "cell_type": "markdown",
   "id": "0f56e977",
   "metadata": {},
   "source": [
    "#### 3.\twrite a Python program to Remove empty List from List."
   ]
  },
  {
   "cell_type": "code",
   "execution_count": 31,
   "id": "122d680e",
   "metadata": {},
   "outputs": [
    {
     "name": "stdout",
     "output_type": "stream",
     "text": [
      "[1, 2, 3, 4, 5, 6, 7, 8, 9, 10, 11, 12, 13, 14, 15, 16, 17, 18, 19, 2]\n"
     ]
    }
   ],
   "source": [
    "list_2 = [1,2,[],3,4,5,6,7,8,9,10,11,12,[],13,[],14,15,16,17,18,19,2]\n",
    "for i in list_2:\n",
    "    if i==[]:\n",
    "        list_2.remove(i)\n",
    "print(list_2)"
   ]
  },
  {
   "cell_type": "markdown",
   "id": "6e13d57b",
   "metadata": {},
   "source": [
    "#### 4.\twrite a Python program to Cloning or Copying a list."
   ]
  },
  {
   "cell_type": "code",
   "execution_count": 20,
   "id": "03de5e13",
   "metadata": {},
   "outputs": [
    {
     "name": "stdout",
     "output_type": "stream",
     "text": [
      "[1, 3, 5, 7, 9]\n"
     ]
    }
   ],
   "source": [
    "def Cloning(list):\n",
    "    copy = []\n",
    "    copy.extend(list)\n",
    "    return copy\n",
    "\n",
    "\n",
    "b=[1,3,5,7,9]\n",
    "a = Cloning(list)\n",
    "print(a)"
   ]
  },
  {
   "cell_type": "markdown",
   "id": "894c0999",
   "metadata": {},
   "source": [
    "#### 5.\twrite a Python program to Count occurrences of an element in a list."
   ]
  },
  {
   "cell_type": "code",
   "execution_count": 21,
   "id": "a804a7aa",
   "metadata": {},
   "outputs": [
    {
     "data": {
      "text/plain": [
       "3"
      ]
     },
     "execution_count": 21,
     "metadata": {},
     "output_type": "execute_result"
    }
   ],
   "source": [
    "l2 = [1,2,2,3,6,5,4,7,8,9,9,9,5]\n",
    "l2.count(9)"
   ]
  },
  {
   "cell_type": "markdown",
   "id": "14a5c85d",
   "metadata": {},
   "source": [
    "#### 6.\twrite a Python program to Remove empty tuples from a list."
   ]
  },
  {
   "cell_type": "code",
   "execution_count": 31,
   "id": "512f2fed",
   "metadata": {},
   "outputs": [
    {
     "data": {
      "text/plain": [
       "[1, 2, 3, 4, 5, 6, 7, 8, 9, 10, 11, 12, 13, 14, 15, 16, 17, 18, 19, 2]"
      ]
     },
     "execution_count": 31,
     "metadata": {},
     "output_type": "execute_result"
    }
   ],
   "source": [
    "list_2 = [1,2,(),3,4,5,6,7,8,9,10,11,12,(),13,(),14,15,16,17,(),18,19,2]\n",
    "for i in list_2:\n",
    "    if i==():\n",
    "        list_2.remove(i)\n",
    "list_2"
   ]
  },
  {
   "cell_type": "markdown",
   "id": "5a24ca3e",
   "metadata": {},
   "source": [
    "#### 7.\twrite a Python program to Program to print duplicates from a list of integers."
   ]
  },
  {
   "cell_type": "code",
   "execution_count": 48,
   "id": "06717b37",
   "metadata": {},
   "outputs": [
    {
     "name": "stdout",
     "output_type": "stream",
     "text": [
      "[3, 6, 9]\n"
     ]
    }
   ],
   "source": [
    "list = [1,2,3,3,4,5,6,6,7,8,9,9,9]\n",
    "dup = []  \n",
    "for a in list:\n",
    "    n = list.count(a)\n",
    "    if n > 1:\n",
    "        if dup.count(a) == 0:  \n",
    "            dup.append(a)\n",
    "print(dup)"
   ]
  },
  {
   "cell_type": "markdown",
   "id": "9a4455a9",
   "metadata": {},
   "source": [
    "#### 8.\twrite a Python program to find Cumulative sum of a list."
   ]
  },
  {
   "cell_type": "code",
   "execution_count": 50,
   "id": "a6f643a6",
   "metadata": {},
   "outputs": [
    {
     "name": "stdout",
     "output_type": "stream",
     "text": [
      "[1, 3, 6, 9, 13, 18, 24, 30, 37, 45, 54, 63, 72]\n"
     ]
    }
   ],
   "source": [
    "list = [1,2,3,3,4,5,6,6,7,8,9,9,9]\n",
    "cum_list=[]\n",
    "a=0\n",
    "for i in list:\n",
    "    a=a+i\n",
    "    cum_list.append(a)\n",
    "print(cum_list)"
   ]
  },
  {
   "cell_type": "markdown",
   "id": "cde482f9",
   "metadata": {},
   "source": [
    "#### 9.\twrite a Python program to Sum of number digits in List."
   ]
  },
  {
   "cell_type": "code",
   "execution_count": 63,
   "id": "dc5fbf29",
   "metadata": {},
   "outputs": [
    {
     "name": "stdout",
     "output_type": "stream",
     "text": [
      "[3, 5, 6, 7, 7, 9, 9, 11, 15]\n"
     ]
    }
   ],
   "source": [
    "list_disum=[12,14,15,16,25,36,54,65,87]\n",
    "new_list = []\n",
    "for i in list_disum:\n",
    "    a=0\n",
    "    for j in str(i):\n",
    "        a=a+int(j)\n",
    "    new_list.append(a)\n",
    "print(new_list)   "
   ]
  },
  {
   "cell_type": "markdown",
   "id": "1ddc5739",
   "metadata": {},
   "source": [
    "#### 10.\twrite a Python program to Break a list into chunks of size N."
   ]
  },
  {
   "cell_type": "code",
   "execution_count": 69,
   "id": "bae34ce3",
   "metadata": {},
   "outputs": [
    {
     "name": "stdout",
     "output_type": "stream",
     "text": [
      "[[9, 8, 7], [4, 5, 6], [3, 2, 1]]\n"
     ]
    }
   ],
   "source": [
    "l = [9,8,7,4,5,6,3,2,1] \n",
    "n = 3\n",
    "x = [l[i:i + n] for i in range(0, len(l), n)] \n",
    "print(x)"
   ]
  },
  {
   "cell_type": "markdown",
   "id": "896436c1",
   "metadata": {},
   "source": [
    "#### 11.\twrite a Python program to Sort the values of first list using second list."
   ]
  },
  {
   "cell_type": "code",
   "execution_count": 81,
   "id": "74453fc2",
   "metadata": {},
   "outputs": [
    {
     "name": "stdout",
     "output_type": "stream",
     "text": [
      "dict_keys(['a', 'd', 'h', 'c', 'e', 'i', 'f', 'b', 'g'])\n"
     ]
    }
   ],
   "source": [
    "list1 = [\"a\", \"b\", \"c\", \"d\", \"e\", \"f\", \"g\", \"h\", \"i\"]\n",
    "list2 = [ 0,   5,   1,    0,   1,   3,   7,   0,   1]\n",
    "dict_1 = {list1[i]: list2[i] for i in range(len(list2))}\n",
    "dict_1_sorted=dict(sorted(dict_1.items(), key=lambda item: item[1]))\n",
    "new_list=dict_1_sorted.keys()\n",
    "print(new_list)"
   ]
  }
 ],
 "metadata": {
  "kernelspec": {
   "display_name": "Python 3 (ipykernel)",
   "language": "python",
   "name": "python3"
  },
  "language_info": {
   "codemirror_mode": {
    "name": "ipython",
    "version": 3
   },
   "file_extension": ".py",
   "mimetype": "text/x-python",
   "name": "python",
   "nbconvert_exporter": "python",
   "pygments_lexer": "ipython3",
   "version": "3.9.7"
  }
 },
 "nbformat": 4,
 "nbformat_minor": 5
}
