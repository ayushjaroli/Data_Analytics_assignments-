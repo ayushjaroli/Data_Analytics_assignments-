{
 "cells": [
  {
   "cell_type": "markdown",
   "id": "5ba4d4af",
   "metadata": {},
   "source": [
    "##### 1.\tGive an example of 3 events A, B, C which are pairwise independent but not independent. Hint: find an example where whether C occurs is completely determined if we know whether A occurred and whether B occurred, but completely undetermined if we know only one of these things.\n",
    "\n"
   ]
  },
  {
   "cell_type": "markdown",
   "id": "d924b871",
   "metadata": {},
   "source": [
    "#### Ans.(1) Consider two fair, independent coin tosses, and let A be the event that the first toss is Heads, B be the event that the                                second toss is Heads, and C be the event that the two tosses have the same result. Then A, B, C are dependent since                              P(A\\B \\ C) = P(A\\B) = P(A)P(B)=1/4 6= 1/8 = P(A)P(B)P(C), but they are pairwise independent: A and B are independent by                          definition; A and C are independent since P(A \\ C) = P(A \\ B)=1/4 = P(A)P(C), and similarly B and C are independent.\n"
   ]
  },
  {
   "cell_type": "markdown",
   "id": "2e47f64d",
   "metadata": {},
   "source": [
    "##### 2.\tA bag contains one marble which is either green or blue, with equal probabilities. A green marble is put in the bag (so there are 2 marbles now), and then a random marble is taken out. The marble taken out is green. What is the probability that the remaining marble is also green?\n"
   ]
  },
  {
   "cell_type": "markdown",
   "id": "42cf48bf",
   "metadata": {},
   "source": [
    "#### Ans.(2)case1: both marble green = green remaining\n",
    "####             case 2: one is green and other blue and blue is picked = green remaining\n",
    "####             case 3 :one is green and other blue and green is picked = blue remainng\n",
    "####             p(green remaining)= 2/3"
   ]
  }
 ],
 "metadata": {
  "kernelspec": {
   "display_name": "Python 3 (ipykernel)",
   "language": "python",
   "name": "python3"
  },
  "language_info": {
   "codemirror_mode": {
    "name": "ipython",
    "version": 3
   },
   "file_extension": ".py",
   "mimetype": "text/x-python",
   "name": "python",
   "nbconvert_exporter": "python",
   "pygments_lexer": "ipython3",
   "version": "3.9.7"
  }
 },
 "nbformat": 4,
 "nbformat_minor": 5
}
