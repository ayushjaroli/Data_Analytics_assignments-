{
 "cells": [
  {
   "cell_type": "markdown",
   "id": "441de122",
   "metadata": {},
   "source": [
    "#### 1.\tPython Program for Topological Sorting."
   ]
  },
  {
   "cell_type": "code",
   "execution_count": 1,
   "id": "e24152f6",
   "metadata": {},
   "outputs": [
    {
     "name": "stdout",
     "output_type": "stream",
     "text": [
      "Following is a Topological Sort of the given graph\n",
      "[5, 4, 2, 3, 1, 0]\n"
     ]
    }
   ],
   "source": [
    "#Python program to print topological sorting of a DAG\n",
    "from collections import defaultdict\n",
    " \n",
    "#Class to represent a graph\n",
    "class Graph:\n",
    "    def __init__(self,vertices):\n",
    "        self.graph = defaultdict(list) #dictionary containing adjacency List\n",
    "        self.V = vertices #No. of vertices\n",
    " \n",
    "    # function to add an edge to graph\n",
    "    def addEdge(self,u,v):\n",
    "        self.graph[u].append(v)\n",
    " \n",
    "    # A recursive function used by topologicalSort\n",
    "    def topologicalSortUtil(self,v,visited,stack):\n",
    " \n",
    "        # Mark the current node as visited.\n",
    "        visited[v] = True\n",
    " \n",
    "        # Recur for all the vertices adjacent to this vertex\n",
    "        for i in self.graph[v]:\n",
    "            if visited[i] == False:\n",
    "                self.topologicalSortUtil(i,visited,stack)\n",
    " \n",
    "        # Push current vertex to stack which stores result\n",
    "        stack.insert(0,v)\n",
    " \n",
    "    # The function to do Topological Sort. It uses recursive\n",
    "    # topologicalSortUtil()\n",
    "    def topologicalSort(self):\n",
    "        # Mark all the vertices as not visited\n",
    "        visited = [False]*self.V\n",
    "        stack =[]\n",
    " \n",
    "        # Call the recursive helper function to store Topological\n",
    "        # Sort starting from all vertices one by one\n",
    "        for i in range(self.V):\n",
    "            if visited[i] == False:\n",
    "                self.topologicalSortUtil(i,visited,stack)\n",
    " \n",
    "        # Print contents of stack\n",
    "        print (stack)\n",
    " \n",
    "g= Graph(6)\n",
    "g.addEdge(5, 2);\n",
    "g.addEdge(5, 0);\n",
    "g.addEdge(4, 0);\n",
    "g.addEdge(4, 1);\n",
    "g.addEdge(2, 3);\n",
    "g.addEdge(3, 1);\n",
    " \n",
    "print (\"Following is a Topological Sort of the given graph\")\n",
    "g.topologicalSort()"
   ]
  },
  {
   "cell_type": "markdown",
   "id": "b328c78b",
   "metadata": {},
   "source": [
    "#### 2.\tPython Program for Radix Sort."
   ]
  },
  {
   "cell_type": "code",
   "execution_count": 2,
   "id": "b4b40bd8",
   "metadata": {},
   "outputs": [
    {
     "name": "stdout",
     "output_type": "stream",
     "text": [
      "2 24 45 66 75 90 170 802 "
     ]
    }
   ],
   "source": [
    "# Python program for implementation of Radix Sort\n",
    "   \n",
    "# A function to do counting sort of arr[] according to\n",
    "# the digit represented by exp.\n",
    "def countingSort(arr, exp1):\n",
    "   \n",
    "    n = len(arr)\n",
    "   \n",
    "    # The output array elements that will have sorted arr\n",
    "    output = [0] * (n)\n",
    "   \n",
    "    # initialize count array as 0\n",
    "    count = [0] * (10)\n",
    "   \n",
    "    # Store count of occurrences in count[]\n",
    "    for i in range(0, n):\n",
    "        index = (arr[i]/exp1)\n",
    "        count[int((index)%10)] += 1\n",
    "   \n",
    "    # Change count[i] so that count[i] now contains actual\n",
    "    #  position of this digit in output array\n",
    "    for i in range(1,10):\n",
    "        count[i] += count[i-1]\n",
    "   \n",
    "    # Build the output array\n",
    "    i = n-1\n",
    "    while i>=0:\n",
    "        index = (arr[i]/exp1)\n",
    "        output[ count[ int((index)%10) ] - 1] = arr[i]\n",
    "        count[int((index)%10)] -= 1\n",
    "        i -= 1\n",
    "   \n",
    "    # Copying the output array to arr[],\n",
    "    # so that arr now contains sorted numbers\n",
    "    i = 0\n",
    "    for i in range(0,len(arr)):\n",
    "        arr[i] = output[i]\n",
    " \n",
    "# Method to do Radix Sort\n",
    "def radixSort(arr):\n",
    " \n",
    "    # Find the maximum number to know number of digits\n",
    "    max1 = max(arr)\n",
    " \n",
    "    # Do counting sort for every digit. Note that instead\n",
    "    # of passing digit number, exp is passed. exp is 10^i\n",
    "    # where i is current digit number\n",
    "    exp = 1\n",
    "    while max1/exp > 0:\n",
    "        countingSort(arr,exp)\n",
    "        exp *= 10\n",
    " \n",
    "# Driver code to test above\n",
    "arr = [ 170, 45, 75, 90, 802, 24, 2, 66]\n",
    "radixSort(arr)\n",
    " \n",
    "for i in range(len(arr)):\n",
    "    print(arr[i],end=\" \")"
   ]
  },
  {
   "cell_type": "markdown",
   "id": "b2e5207d",
   "metadata": {},
   "source": [
    "#### 3.\tPython Program for Binary Insertion Sort."
   ]
  },
  {
   "cell_type": "code",
   "execution_count": 10,
   "id": "f6311dd7",
   "metadata": {},
   "outputs": [
    {
     "name": "stdout",
     "output_type": "stream",
     "text": [
      "Sorted array is:\n",
      "1 3 3 4 4 5 6 8 "
     ]
    }
   ],
   "source": [
    "def insertion_sort(arr):\n",
    "   for i in range(1, len(arr)):\n",
    "      temp = arr[i]\n",
    "      pos = binary_search(arr, temp, 0, i) + 1\n",
    "      for k in range(i, pos, -1):\n",
    "         arr[k] = arr[k - 1]\n",
    "      arr[pos] = temp\n",
    "def binary_search(arr, key, start, end):\n",
    "   #key\n",
    "   if end - start <= 1:\n",
    "      if key < arr[start]:\n",
    "         return start - 1\n",
    "      else:\n",
    "         return start\n",
    "   mid = (start + end)//2\n",
    "   if arr[mid] < key:\n",
    "      return binary_search(arr, key, mid, end)\n",
    "   elif arr[mid] > key:\n",
    "      return binary_search(arr, key, start, mid)\n",
    "   else:\n",
    "      return mid\n",
    "# main\n",
    "arr = [1,5,3,4,8,6,3,4]\n",
    "n = len(arr)\n",
    "insertion_sort(arr)\n",
    "print(\"Sorted array is:\")\n",
    "for i in range(n):\n",
    "   print(arr[i],end=\" \")"
   ]
  },
  {
   "cell_type": "markdown",
   "id": "d234f017",
   "metadata": {},
   "source": [
    "#### 4.\tPython Program for Bitonic Sort."
   ]
  },
  {
   "cell_type": "code",
   "execution_count": 11,
   "id": "e05b5bcc",
   "metadata": {},
   "outputs": [
    {
     "name": "stdout",
     "output_type": "stream",
     "text": [
      "\n",
      "\n",
      "Sorted array is\n",
      "1 5 2 6 3 7 4 8 "
     ]
    }
   ],
   "source": [
    "# Python program for Bitonic Sort. Note that this program\n",
    "# works only when size of input is a power of 2.\n",
    " \n",
    "# The parameter dir indicates the sorting direction, ASCENDING\n",
    "# or DESCENDING; if (a[i] > a[j]) agrees with the direction,\n",
    "# then a[i] and a[j] are interchanged.*/\n",
    "def compAndSwap(a, i, j, dire):\n",
    "    if (dire==1 and a[i] > a[j]) or (dire==0 and a[i] > a[j]):\n",
    "        a[i],a[j] = a[j],a[i]\n",
    " \n",
    "# It recursively sorts a bitonic sequence in ascending order,\n",
    "# if dir = 1, and in descending order otherwise (means dir=0).\n",
    "# The sequence to be sorted starts at index position low,\n",
    "# the parameter cnt is the number of elements to be sorted.\n",
    "def bitonicMerge(a, low, cnt, dire):\n",
    "    if cnt > 1:\n",
    "        k = cnt//2\n",
    "        for i in range(low , low+k):\n",
    "            compAndSwap(a, i, i+k, dire)\n",
    "        bitonicMerge(a, low, k, dire)\n",
    "        bitonicMerge(a, low+k, k, dire)\n",
    " \n",
    "# This function first produces a bitonic sequence by recursively\n",
    "# sorting its two halves in opposite sorting orders, and then\n",
    "# calls bitonicMerge to make them in the same order\n",
    "def bitonicSort(a, low, cnt,dire):\n",
    "    if cnt > 1:\n",
    "          k = cnt//2\n",
    "          bitonicSort(a, low, k, 1)\n",
    "          bitonicSort(a, low+k, k, 0)\n",
    "          bitonicMerge(a, low, cnt, dire)\n",
    " \n",
    "# Caller of bitonicSort for sorting the entire array of length N\n",
    "# in ASCENDING order\n",
    "def sort(a,N, up):\n",
    "    bitonicSort(a,0, N, up)\n",
    " \n",
    "# Driver code to test above\n",
    "a = [3, 7, 4, 8, 6, 2, 1, 5]\n",
    "n = len(a)\n",
    "up = 1\n",
    " \n",
    "sort(a, n, up)\n",
    "print (\"\\n\\nSorted array is\")\n",
    "for i in range(n):\n",
    "    print(\"%d\" %a[i],end=\" \")"
   ]
  },
  {
   "cell_type": "markdown",
   "id": "a6a213ea",
   "metadata": {},
   "source": [
    "#### 5.\tPython Program for Comb Sort."
   ]
  },
  {
   "cell_type": "code",
   "execution_count": 13,
   "id": "00bc2fdb",
   "metadata": {},
   "outputs": [
    {
     "name": "stdout",
     "output_type": "stream",
     "text": [
      "Before:  [75, 16, 55, 19, 48, 14, 2, 61, 22, 100]\n",
      "After:   [2, 14, 16, 19, 22, 48, 55, 61, 75, 100]\n"
     ]
    }
   ],
   "source": [
    "# Python's algorithm of Combsort sort\n",
    " \n",
    " \n",
    "def combsort(num):\n",
    "    gap = len(num)\n",
    "    swaps = True\n",
    "    while gap > 1 or swaps:\n",
    "        gap = max(1, int(gap / 1.25))  # minimum gap is 1\n",
    "        swaps = False\n",
    "        for i in range(len(num) - gap):\n",
    "            j = i+gap\n",
    "            if num[i] > num[j]:\n",
    "                num[i], num[j] = num[j], num[i]\n",
    "                swaps = True\n",
    " \n",
    "num_list = [75, 16, 55, 19, 48, 14, 2, 61, 22, 100]\n",
    "print(\"Before: \", num_list)\n",
    "combsort(num_list)\n",
    "print(\"After:  \", num_list)"
   ]
  },
  {
   "cell_type": "markdown",
   "id": "1fdc5185",
   "metadata": {},
   "source": [
    "#### 6.\tPython Program for Pigeonhole Sort."
   ]
  },
  {
   "cell_type": "code",
   "execution_count": 14,
   "id": "b83dabbb",
   "metadata": {},
   "outputs": [
    {
     "name": "stdout",
     "output_type": "stream",
     "text": [
      "The original array is:  [9, 7, 2, 3, 4, 8, 6]\n",
      "The Sorted order is :  2 3 4 6 7 8 9 "
     ]
    }
   ],
   "source": [
    "def pigeonhole_sort(a):\n",
    "    minimum = min(a)\n",
    "    maximum = max(a)\n",
    "    s = maximum - minimum + 1\n",
    "    h = [0] * s #holes\n",
    "    for x in a:\n",
    "        assert type(x) is int, \"integers only please\"\n",
    "        h[x - minimum] += 1\n",
    "    i = 0\n",
    "    for c in range(s):\n",
    "        while h[c] > 0:\n",
    "            h[c] -= 1\n",
    "            a[i] = c + minimum\n",
    "            i += 1\n",
    " \n",
    "# driver code\n",
    "array = [9, 7, 2, 3, 4, 8, 6]\n",
    "print(\"The original array is: \", array)\n",
    "print(\"The Sorted order is : \", end = ' ')\n",
    "pigeonhole_sort(array)      \n",
    "for i in range(0, len(array)):\n",
    "    print(array[i], end = ' ')"
   ]
  },
  {
   "cell_type": "markdown",
   "id": "e8856259",
   "metadata": {},
   "source": [
    "#### 7.\tPython Program for Cocktail Sort."
   ]
  },
  {
   "cell_type": "code",
   "execution_count": 15,
   "id": "dc65aaa1",
   "metadata": {},
   "outputs": [
    {
     "name": "stdout",
     "output_type": "stream",
     "text": [
      "Sorted array is:\n",
      "2 3 3 4 4 5 6 8 "
     ]
    }
   ],
   "source": [
    "# function\n",
    "def cocktailSort(a):\n",
    "   n = len(a)\n",
    "   flag = True\n",
    "   start = 0\n",
    "   end = n-1\n",
    "   while (flag==True):\n",
    "      # to ignore the result of the previous iteration\n",
    "      flag = False\n",
    "      # left to right traversal\n",
    "      for i in range (start, end):\n",
    "         if (a[i] > a[i+1]) :\n",
    "            a[i], a[i+1]= a[i+1], a[i]\n",
    "            flag=True\n",
    "      # if no swap takes place array remains sorted\n",
    "      if (flag==False):\n",
    "         break\n",
    "      # otherwise, reset the flag\n",
    "      flag = False\n",
    "      # last item is aldready sorted\n",
    "      end = end-1\n",
    "      # iteration from right to left\n",
    "      for i in range(end-1, start-1,-1):\n",
    "         if (a[i] > a[i+1]):\n",
    "            a[i], a[i+1] = a[i+1], a[i]\n",
    "            flag = True\n",
    "      # first element is already sorted\n",
    "      start = start+1\n",
    "# main\n",
    "a = [2,5,4,3,8,3,4,6]\n",
    "cocktailSort(a)\n",
    "print(\"Sorted array is:\")\n",
    "for i in range(len(a)):\n",
    "   print (a[i],end=\" \")"
   ]
  },
  {
   "cell_type": "markdown",
   "id": "a2963927",
   "metadata": {},
   "source": [
    "#### 8.\tPython Program for Gnome Sort."
   ]
  },
  {
   "cell_type": "code",
   "execution_count": 16,
   "id": "0a0e5114",
   "metadata": {},
   "outputs": [
    {
     "name": "stdout",
     "output_type": "stream",
     "text": [
      "Sorted sequence is:\n",
      "1 2 3 4 5 6 7 8 "
     ]
    }
   ],
   "source": [
    "def gnomeSort( arr, n):\n",
    "   index = 0\n",
    "   while index < n:\n",
    "      if index == 0:\n",
    "         index = index + 1\n",
    "      if arr[index] >= arr[index - 1]:\n",
    "         index = index + 1\n",
    "      else:\n",
    "         arr[index], arr[index-1] = arr[index-1], arr[index]\n",
    "         index = index - 1\n",
    "   return arr\n",
    "# main\n",
    "arr = [1,4,2,3,6,5,8,7]\n",
    "n = len(arr)\n",
    "arr = gnomeSort(arr, n)\n",
    "print (\"Sorted sequence is:\")\n",
    "for i in arr:\n",
    "   print (i,end=\" \")"
   ]
  },
  {
   "cell_type": "markdown",
   "id": "40d5a9e7",
   "metadata": {},
   "source": [
    "#### 9.\tPython Program for Odd-Even Sort / Brick Sort."
   ]
  },
  {
   "cell_type": "code",
   "execution_count": 17,
   "id": "aa7eb8f8",
   "metadata": {},
   "outputs": [
    {
     "name": "stdout",
     "output_type": "stream",
     "text": [
      "The original array is:  [5, 7, 3, 1, 4, 6, 2]\n",
      "The sorted array is:  [1, 2, 3, 4, 5, 6, 7]\n"
     ]
    }
   ],
   "source": [
    "def brick_sort(array, a):\n",
    "    # Unsorted array\n",
    "    Sorted = 0\n",
    "    while Sorted == 0:\n",
    "        Sorted = 1\n",
    "        temp = 0\n",
    "        for i in range(1, a-1, 2):\n",
    "            if array[i] > array[i+1]:\n",
    "                array[i], array[i+1] = array[i+1], array[i]\n",
    "                Sorted = 0\n",
    "                  \n",
    "        for i in range(0, a-1, 2):\n",
    "            if array[i] > array[i+1]:\n",
    "                array[i], array[i+1] = array[i+1], array[i]\n",
    "                Sorted = 0\n",
    "    return\n",
    "  \n",
    "#driver code\n",
    "array = [5, 7, 3, 1, 4, 6, 2]\n",
    "print(\"The original array is: \", array)\n",
    "a = len(array)\n",
    "  \n",
    "brick_sort(array, a);\n",
    "print(\"The sorted array is: \" ,array)"
   ]
  },
  {
   "cell_type": "markdown",
   "id": "0f29ac63",
   "metadata": {},
   "source": [
    "#### 10.\tPython Program for BogoSort or Permutation Sort."
   ]
  },
  {
   "cell_type": "code",
   "execution_count": 18,
   "id": "09763322",
   "metadata": {},
   "outputs": [
    {
     "name": "stdout",
     "output_type": "stream",
     "text": [
      "Sorted array :\n",
      "1 3 3 4 4 5 5 6 8 "
     ]
    }
   ],
   "source": [
    "# random module\n",
    "import random\n",
    "# Sort\n",
    "def bogoSort(a):\n",
    "   n = len(a)\n",
    "   while (is_sorted(a)== False):\n",
    "      shuffle(a)\n",
    "# check\n",
    "def is_sorted(a):\n",
    "   n = len(a)\n",
    "   for i in range(0, n-1):\n",
    "      if (a[i] > a[i+1] ):\n",
    "         return False\n",
    "   return True\n",
    "# permutation\n",
    "def shuffle(a):\n",
    "   n = len(a)\n",
    "   for i in range (0,n):\n",
    "      r = random.randint(0,n-1)\n",
    "      a[i], a[r] = a[r], a[i]\n",
    "# main\n",
    "a = [1,5,3,4,8,6,3,4,5]\n",
    "bogoSort(a)\n",
    "print(\"Sorted array :\")\n",
    "for i in range(len(a)):\n",
    "   print (a[i],end=\" \")"
   ]
  }
 ],
 "metadata": {
  "kernelspec": {
   "display_name": "Python 3 (ipykernel)",
   "language": "python",
   "name": "python3"
  },
  "language_info": {
   "codemirror_mode": {
    "name": "ipython",
    "version": 3
   },
   "file_extension": ".py",
   "mimetype": "text/x-python",
   "name": "python",
   "nbconvert_exporter": "python",
   "pygments_lexer": "ipython3",
   "version": "3.9.7"
  }
 },
 "nbformat": 4,
 "nbformat_minor": 5
}
