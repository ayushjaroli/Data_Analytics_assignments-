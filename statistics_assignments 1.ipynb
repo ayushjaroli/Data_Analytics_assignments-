{
 "cells": [
  {
   "cell_type": "markdown",
   "id": "bdcc5f3a",
   "metadata": {},
   "source": [
    "#### 1.\tHarvard Law School courses often have assigned seating to facilitate the “Socratic method.” Suppose that there are 100 first year Harvard Law students, and each takes two courses: Torts and Contracts. Both are held in the same lecture hall (which has 100 seats), and the seating is uniformly random and independent for the two courses. \n",
    "#### (a) Find the probability that no one has the same seat for both courses (exactly; you should   leave your answer as a sum). \n",
    "#### (b) Find a simple but accurate approximation to the probability that no one has the same seat for both courses. \n",
    "#### (c) Find a simple but accurate approximation to the probability that at least two students have the same seat for both courses.\n"
   ]
  },
  {
   "cell_type": "markdown",
   "id": "8bfe03c0",
   "metadata": {},
   "source": [
    "### Ans.1.(a) ≈ 0.367879441171442"
   ]
  },
  {
   "cell_type": "markdown",
   "id": "1b30e4fc",
   "metadata": {},
   "source": [
    "### (b) ≈37"
   ]
  },
  {
   "cell_type": "markdown",
   "id": "fd1e997c",
   "metadata": {},
   "source": [
    "### (c) ≈26"
   ]
  },
  {
   "cell_type": "markdown",
   "id": "72cfad7f",
   "metadata": {},
   "source": [
    "#### 2.\tThere are 100 passengers lined up to board an airplane with 100 seats (with each seat assigned to one of the passengers). The first passenger in line crazily decides to sit in a randomly chosen seat (with all seats equally likely). Each subsequent passenger takes his or her assigned seat if available, and otherwise sits in a random available seat. What is the probability that the last passenger in line gets to sit in his or her assigned seat?\n",
    "\n"
   ]
  },
  {
   "cell_type": "markdown",
   "id": "8d1a9e9d",
   "metadata": {},
   "source": [
    "### Ans.(2) =0.5"
   ]
  }
 ],
 "metadata": {
  "kernelspec": {
   "display_name": "Python 3 (ipykernel)",
   "language": "python",
   "name": "python3"
  },
  "language_info": {
   "codemirror_mode": {
    "name": "ipython",
    "version": 3
   },
   "file_extension": ".py",
   "mimetype": "text/x-python",
   "name": "python",
   "nbconvert_exporter": "python",
   "pygments_lexer": "ipython3",
   "version": "3.9.7"
  }
 },
 "nbformat": 4,
 "nbformat_minor": 5
}
