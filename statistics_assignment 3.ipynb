{
 "cells": [
  {
   "cell_type": "markdown",
   "id": "08cf4233",
   "metadata": {},
   "source": [
    "##### 1.\tFor a group of 7 people, find the probability that all 4 seasons (winter, spring, summer, fall) occur at least once each among their birthdays, assuming that all seasons are equally likely.\n",
    "\n",
    "\n"
   ]
  },
  {
   "cell_type": "markdown",
   "id": "e41e2510",
   "metadata": {},
   "source": [
    "#### Ans.(1) \n",
    "#### no birthday in winter=(3/4)^7\n",
    "#### no birthday in spring=(3/4)^7\n",
    "#### no birthday in summer=(3/4)^7\n",
    "#### no birthday in fall=(3/4)^7\n",
    "#### no birthday in any two seasons = (1/2)^7\n",
    "#### no birthday in any three seasons = (1/4)^7\n",
    "#### 4*(3/4)^7-6*(1/2)^7+4*(1/4)^7 = 0.513\n"
   ]
  },
  {
   "cell_type": "markdown",
   "id": "f7806c0c",
   "metadata": {},
   "source": [
    "##### 2.\tAlice attends a small college in which each class meets only once a week. She is deciding between 30 non-overlapping classes. There are 6 classes to choose from for each day of the week, Monday through Friday. Trusting in the benevolence of randomness, Alice decides to register for 7 randomly selected classes out of the 30, with all choices equally likely. What is the probability that she will have classes every day, Monday through Friday?"
   ]
  },
  {
   "cell_type": "markdown",
   "id": "ac597c62",
   "metadata": {},
   "source": [
    "#### Ans.(2) {(5C3)(6C2)*6^3  + (5C1)(6C3)6^4}/(30C7) = 0.302"
   ]
  }
 ],
 "metadata": {
  "kernelspec": {
   "display_name": "Python 3 (ipykernel)",
   "language": "python",
   "name": "python3"
  },
  "language_info": {
   "codemirror_mode": {
    "name": "ipython",
    "version": 3
   },
   "file_extension": ".py",
   "mimetype": "text/x-python",
   "name": "python",
   "nbconvert_exporter": "python",
   "pygments_lexer": "ipython3",
   "version": "3.9.7"
  }
 },
 "nbformat": 4,
 "nbformat_minor": 5
}
