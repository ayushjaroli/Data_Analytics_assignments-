{
 "cells": [
  {
   "cell_type": "markdown",
   "id": "d2fab4d5",
   "metadata": {},
   "source": [
    "#### 1.\tPython – Replace multiple words with K."
   ]
  },
  {
   "cell_type": "code",
   "execution_count": 3,
   "id": "b8aa42dc",
   "metadata": {},
   "outputs": [
    {
     "name": "stdout",
     "output_type": "stream",
     "text": [
      "ineuron has k k in k\n"
     ]
    }
   ],
   "source": [
    "test_string = 'ineuron has best tutorials in python'\n",
    "word_list = [\"best\", 'tutorials', 'python']\n",
    "replace_word = 'k'\n",
    "replaced_string = ' '.join([replace_word if i in word_list else i for i in test_string.split()])\n",
    "  \n",
    "print(str(replaced_string)) \n",
    "\n"
   ]
  },
  {
   "cell_type": "markdown",
   "id": "3f9c3731",
   "metadata": {},
   "source": [
    "#### 2.\tPython | Permutation of a given string using inbuilt function."
   ]
  },
  {
   "cell_type": "code",
   "execution_count": 1,
   "id": "a568a659",
   "metadata": {},
   "outputs": [
    {
     "name": "stdout",
     "output_type": "stream",
     "text": [
      "abc\n",
      "abc\n",
      "acb\n",
      "bac\n",
      "bca\n",
      "cab\n",
      "cba\n"
     ]
    }
   ],
   "source": [
    "from itertools import permutations\n",
    "import string\n",
    "\n",
    "s = str(input())\n",
    "a = string.ascii_letters\n",
    "p = permutations(s)\n",
    "d = []\n",
    "for i in list(p):\n",
    "    if (i not in d):\n",
    "        d.append(i)\n",
    "        print(''.join(i))\n"
   ]
  },
  {
   "cell_type": "markdown",
   "id": "7ffa4be9",
   "metadata": {},
   "source": [
    "#### 3.\tPython | Check for URL in a String."
   ]
  },
  {
   "cell_type": "code",
   "execution_count": 3,
   "id": "5b240e5d",
   "metadata": {},
   "outputs": [
    {
     "name": "stdout",
     "output_type": "stream",
     "text": [
      "Urls:  ['https://github.com/ayushjaroli/Data_Analytics_assignments-/blob/main/python_assignment%208.ipynb']\n"
     ]
    }
   ],
   "source": [
    "import re\n",
    "\n",
    "def Find(string):\n",
    "\n",
    "    regex = r\"(?i)\\b((?:https?://|www\\d{0,3}[.]|[a-z0-9.\\-]+[.][a-z]{2,4}/)(?:[^\\s()<>]+|\\(([^\\s()<>]+|(\\([^\\s()<>]+\\)))*\\))+(?:\\(([^\\s()<>]+|(\\([^\\s()<>]+\\)))*\\)|[^\\s`!()\\[\\]{};:'\\\".,<>?«»“”‘’]))\"\n",
    "    url = re.findall(regex,string)\t\n",
    "    return [x[0] for x in url]\n",
    "string = 'My Profile: https://github.com/ayushjaroli/Data_Analytics_assignments-/blob/main/python_assignment%208.ipynb'\n",
    "print(\"Urls: \", Find(string))\n"
   ]
  },
  {
   "cell_type": "markdown",
   "id": "5d154399",
   "metadata": {},
   "source": [
    "#### 4.\tExecute a String of Code in Python."
   ]
  },
  {
   "cell_type": "code",
   "execution_count": 7,
   "id": "2993043f",
   "metadata": {},
   "outputs": [
    {
     "data": {
      "text/plain": [
       "11"
      ]
     },
     "execution_count": 7,
     "metadata": {},
     "output_type": "execute_result"
    }
   ],
   "source": [
    "st=\"6+5\"\n",
    "x = eval(st)\n",
    "x"
   ]
  },
  {
   "cell_type": "markdown",
   "id": "d61be6fb",
   "metadata": {},
   "source": [
    "#### 5.\tString slicing in Python to rotate a string."
   ]
  },
  {
   "cell_type": "code",
   "execution_count": 4,
   "id": "ddbfc24b",
   "metadata": {},
   "outputs": [
    {
     "name": "stdout",
     "output_type": "stream",
     "text": [
      "Left Rotation :  cdefghab\n",
      "Right Rotation :  ghabcdef\n"
     ]
    }
   ],
   "source": [
    "input = \"abcdefgh\"\n",
    "d = 2\n",
    "Lfirst = input[0 : d] \n",
    "Lsecond = input[d :] \n",
    "Rfirst = input[0 : len(input)-d] \n",
    "Rsecond = input[len(input)-d : ] \n",
    "  \n",
    "print (\"Left Rotation : \", (Lsecond + Lfirst) )\n",
    "print (\"Right Rotation : \", (Rsecond + Rfirst)) \n",
    "  "
   ]
  },
  {
   "cell_type": "markdown",
   "id": "c8a1ef1c",
   "metadata": {},
   "source": [
    "#### 6.\tString slicing in Python to check if a string can become empty by recursive deletion."
   ]
  },
  {
   "cell_type": "code",
   "execution_count": 33,
   "id": "4401e367",
   "metadata": {},
   "outputs": [
    {
     "name": "stdout",
     "output_type": "stream",
     "text": [
      "true\n"
     ]
    }
   ],
   "source": [
    "input = \"pythonpythonpython\"\n",
    "pattern =\"python\"\n",
    "        \n",
    "if len(input)== 0 and len(pattern)== 0:\n",
    "    print('true')\n",
    "    \n",
    "if len(pattern)== 0: \n",
    "    print('true')\n",
    "    \n",
    "while (len(input) != 0): \n",
    "  \n",
    "    index = input.find(pattern) \n",
    "  \n",
    "    if (index ==(-1)): \n",
    "        print('false')\n",
    " \n",
    "    input = input[0:index] + input[index + len(pattern):]              \n",
    "\n",
    "print('true')\n",
    "    \n"
   ]
  },
  {
   "cell_type": "markdown",
   "id": "4a6a205c",
   "metadata": {},
   "source": [
    "#### 7.\tPython Counter| Find all duplicate characters in string."
   ]
  },
  {
   "cell_type": "code",
   "execution_count": 54,
   "id": "9e34f3e2",
   "metadata": {},
   "outputs": [
    {
     "name": "stdout",
     "output_type": "stream",
     "text": [
      "a s c\n"
     ]
    }
   ],
   "source": [
    "string = \"ascdfghkasc\"\n",
    "duplicates = []\n",
    "for char in string:\n",
    "    if string.count(char) > 1:\n",
    "        if char not in duplicates:\n",
    "            duplicates.append(char)\n",
    "print(*duplicates)"
   ]
  },
  {
   "cell_type": "markdown",
   "id": "5113d60f",
   "metadata": {},
   "source": [
    "#### 8.\tPython – Replace all occurrences of a substring in a string."
   ]
  },
  {
   "cell_type": "code",
   "execution_count": 39,
   "id": "8a41b826",
   "metadata": {},
   "outputs": [
    {
     "name": "stdout",
     "output_type": "stream",
     "text": [
      "i am best\n"
     ]
    }
   ],
   "source": [
    "input_string = \"i am good\"\n",
    "s1 = \"good\"\n",
    "s2 = \"best\"\n",
    "input_string = input_string.replace(s1, s2)\n",
    "print(input_string)"
   ]
  },
  {
   "cell_type": "markdown",
   "id": "1a10121a",
   "metadata": {},
   "source": [
    "#### 9.\tPython – Extract Unique values dictionary values."
   ]
  },
  {
   "cell_type": "code",
   "execution_count": 41,
   "id": "4c1a7911",
   "metadata": {},
   "outputs": [
    {
     "name": "stdout",
     "output_type": "stream",
     "text": [
      "The unique values list is : [1, 2, 5, 6, 7, 8, 10, 11, 12]\n"
     ]
    }
   ],
   "source": [
    "test_dict = {'a' : [5, 6, 7, 8],\n",
    "             'b' : [10, 11, 7, 5],\n",
    "             'c' : [6, 12, 10, 8],\n",
    "             'd' : [1, 2, 5]}\n",
    "res = list(sorted({ele for val in test_dict.values() for ele in val}))\n",
    "print(\"The unique values list is : \" + str(res)) "
   ]
  },
  {
   "cell_type": "markdown",
   "id": "bafd6292",
   "metadata": {},
   "source": [
    "#### 10.\tPython program to find the sum of all items in a dictionary."
   ]
  },
  {
   "cell_type": "code",
   "execution_count": 46,
   "id": "91722a54",
   "metadata": {},
   "outputs": [
    {
     "data": {
      "text/plain": [
       "1502"
      ]
     },
     "execution_count": 46,
     "metadata": {},
     "output_type": "execute_result"
    }
   ],
   "source": [
    "dict = {'a': 10, 'b': 514, 'c': 978}\n",
    "l = list(dict.values())\n",
    "sum_all = sum(l)\n",
    "sum_all"
   ]
  }
 ],
 "metadata": {
  "kernelspec": {
   "display_name": "Python 3 (ipykernel)",
   "language": "python",
   "name": "python3"
  },
  "language_info": {
   "codemirror_mode": {
    "name": "ipython",
    "version": 3
   },
   "file_extension": ".py",
   "mimetype": "text/x-python",
   "name": "python",
   "nbconvert_exporter": "python",
   "pygments_lexer": "ipython3",
   "version": "3.9.7"
  }
 },
 "nbformat": 4,
 "nbformat_minor": 5
}
