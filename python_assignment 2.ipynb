{
 "cells": [
  {
   "cell_type": "markdown",
   "id": "a335f1b4",
   "metadata": {},
   "source": [
    "#### 1.\tPython Program for n-th Fibonacci number."
   ]
  },
  {
   "cell_type": "code",
   "execution_count": 23,
   "id": "bd293584",
   "metadata": {},
   "outputs": [],
   "source": [
    "# Fibonacci numbers starting with 0\n",
    "def Fibonacci(n):\n",
    "    if n<= 0:\n",
    "        print(\"Incorrect input\")\n",
    "    elif n == 1:\n",
    "        return 0\n",
    "    elif n == 2:\n",
    "        return 1\n",
    "    else:\n",
    "        return Fibonacci(n-1)+Fibonacci(n-2)"
   ]
  },
  {
   "cell_type": "markdown",
   "id": "6d511e32",
   "metadata": {},
   "source": [
    "#### 2.\tPython Program for How to check if a given number is Fibonacci number?"
   ]
  },
  {
   "cell_type": "code",
   "execution_count": null,
   "id": "ff10faf0",
   "metadata": {},
   "outputs": [],
   "source": [
    "n=int(input(\"Enter the number: \"))\n",
    "c=0\n",
    "a=1\n",
    "b=1\n",
    "if n==0 or n==1:\n",
    "    print(\"Yes\")\n",
    "else:\n",
    "    while c<n:\n",
    "        c=a+b\n",
    "        b=a\n",
    "        a=c\n",
    "    if c==n:\n",
    "        print(\"Yes\")\n",
    "    else:\n",
    "        print(\"No\")"
   ]
  },
  {
   "cell_type": "markdown",
   "id": "08ba2761",
   "metadata": {},
   "source": [
    "#### 3.\tPython Program for n\\’th multiple of a number in Fibonacci Series."
   ]
  },
  {
   "cell_type": "code",
   "execution_count": 10,
   "id": "4110b795",
   "metadata": {},
   "outputs": [],
   "source": [
    "def findPosition(k, n):\n",
    "    f1 = 0\n",
    "    f2 = 1\n",
    "    i =2; \n",
    "    while i!=0:\n",
    "        f3 = f1 + f2;\n",
    "        f1 = f2;\n",
    "        f2 = f3;\n",
    " \n",
    "        if f2%k == 0:\n",
    "            return n*i\n",
    " \n",
    "        i+=1\n",
    "         \n",
    "    return\n",
    " \n",
    " "
   ]
  },
  {
   "cell_type": "code",
   "execution_count": 11,
   "id": "01cd4383",
   "metadata": {},
   "outputs": [
    {
     "data": {
      "text/plain": [
       "30"
      ]
     },
     "execution_count": 11,
     "metadata": {},
     "output_type": "execute_result"
    }
   ],
   "source": [
    "findPosition(4, 5)"
   ]
  },
  {
   "cell_type": "markdown",
   "id": "a1173861",
   "metadata": {},
   "source": [
    "#### 4.\tProgram to print ASCII Value of a character."
   ]
  },
  {
   "cell_type": "code",
   "execution_count": null,
   "id": "d3cf853f",
   "metadata": {},
   "outputs": [],
   "source": [
    "a = input(\"type in the character =\")\n",
    "print(ora = 0d(a))"
   ]
  },
  {
   "cell_type": "markdown",
   "id": "fb883557",
   "metadata": {},
   "source": [
    "#### 5.\tPython Program for Sum of squares of first n natural numbers."
   ]
  },
  {
   "cell_type": "code",
   "execution_count": null,
   "id": "9aa9b48a",
   "metadata": {},
   "outputs": [],
   "source": [
    "n = int(input(\"type in the value of n = \"))\n",
    "a = 0\n",
    "for i in range(1,n+1):\n",
    "    a += (i*i)\n",
    "print(\"sum of squares =\",a)"
   ]
  },
  {
   "cell_type": "markdown",
   "id": "09c0ba0a",
   "metadata": {},
   "source": [
    "#### 6.\tPython Program for cube sum of first n natural numbers."
   ]
  },
  {
   "cell_type": "code",
   "execution_count": null,
   "id": "5f21b2d1",
   "metadata": {},
   "outputs": [],
   "source": [
    "n = int(input(\"type in the value of n = \"))\n",
    "a = 0\n",
    "for i in range(1,n+1):\n",
    "    a += (i**3)\n",
    "print(\"sum of squares =\",a)"
   ]
  },
  {
   "cell_type": "markdown",
   "id": "adf40883",
   "metadata": {},
   "source": [
    "#### 7.\tPython Program to find sum of array."
   ]
  },
  {
   "cell_type": "code",
   "execution_count": 3,
   "id": "d74258ab",
   "metadata": {},
   "outputs": [
    {
     "name": "stdout",
     "output_type": "stream",
     "text": [
      "0\n"
     ]
    }
   ],
   "source": [
    "array = [20,30,80,10,54]\n",
    "a = sum(array)\n",
    "print(a)"
   ]
  },
  {
   "cell_type": "markdown",
   "id": "39484f2a",
   "metadata": {},
   "source": [
    "#### 8.\tPython Program to find largest element in an array."
   ]
  },
  {
   "cell_type": "code",
   "execution_count": 2,
   "id": "fcfab88e",
   "metadata": {},
   "outputs": [
    {
     "data": {
      "text/plain": [
       "80"
      ]
     },
     "execution_count": 2,
     "metadata": {},
     "output_type": "execute_result"
    }
   ],
   "source": [
    "array =[20,30,80,10,54]\n",
    "max(array)"
   ]
  },
  {
   "cell_type": "markdown",
   "id": "39afe105",
   "metadata": {},
   "source": [
    "#### 9.\tPython Program for array rotation."
   ]
  },
  {
   "cell_type": "code",
   "execution_count": 15,
   "id": "73bb2a1d",
   "metadata": {},
   "outputs": [
    {
     "name": "stdout",
     "output_type": "stream",
     "text": [
      "Array after left rotation is:  [61, 65, 53, 68, 5162, 6516, 26265, 16262, 1626, 51, 62]\n"
     ]
    }
   ],
   "source": [
    "def rotateArray(arr, n, d):\n",
    "    temp = []\n",
    "    i = 0\n",
    "    while (i < d):\n",
    "        temp.append(arr[i])\n",
    "        i = i + 1\n",
    "    i = 0\n",
    "    while (d < n):\n",
    "        arr[i] = arr[d]\n",
    "        i = i + 1\n",
    "        d = d + 1\n",
    "    arr[:] = arr[: i] + temp\n",
    "    return arr\n",
    " \n",
    " \n",
    "arr = [51,62,61,65,53,68,5162,6516,26265,16262,1626]\n",
    "print(\"Array after left rotation is: \", end=' ')\n",
    "print(rotateArray(arr, len(arr), 1))\n",
    "\n"
   ]
  },
  {
   "cell_type": "markdown",
   "id": "18d9bdb9",
   "metadata": {},
   "source": [
    "#### 10.\tPython Program for Reversal algorithm for array rotation."
   ]
  },
  {
   "cell_type": "code",
   "execution_count": 18,
   "id": "efbdbe68",
   "metadata": {},
   "outputs": [
    {
     "name": "stdout",
     "output_type": "stream",
     "text": [
      "Array after left rotation is:  [3, 4, 5, 6, 7, 8, 9, 1, 2]\n"
     ]
    }
   ],
   "source": [
    "def rotateArray(arr, n, d):\n",
    "    temp = []\n",
    "    i = 0\n",
    "    while (i < d):\n",
    "        temp.append(arr[i])\n",
    "        i = i + 1\n",
    "    i = 0\n",
    "    while (d < n):\n",
    "        arr[i] = arr[d]\n",
    "        i = i + 1\n",
    "        d = d + 1\n",
    "    arr[:] = arr[: i] + temp\n",
    "    return arr\n",
    " \n",
    " \n",
    "arr = [1,2,3,4,5,6,7,8,9]\n",
    "print(\"Array after left rotation is: \", end=' ')\n",
    "print(rotateArray(arr, len(arr), 2))"
   ]
  }
 ],
 "metadata": {
  "kernelspec": {
   "display_name": "Python 3 (ipykernel)",
   "language": "python",
   "name": "python3"
  },
  "language_info": {
   "codemirror_mode": {
    "name": "ipython",
    "version": 3
   },
   "file_extension": ".py",
   "mimetype": "text/x-python",
   "name": "python",
   "nbconvert_exporter": "python",
   "pygments_lexer": "ipython3",
   "version": "3.9.7"
  }
 },
 "nbformat": 4,
 "nbformat_minor": 5
}
