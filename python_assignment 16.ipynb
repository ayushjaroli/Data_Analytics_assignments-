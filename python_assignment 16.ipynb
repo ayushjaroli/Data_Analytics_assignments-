{
 "cells": [
  {
   "cell_type": "markdown",
   "id": "c1aa94f1",
   "metadata": {},
   "source": [
    "#### 1.\tPython Program for Cycle Sort."
   ]
  },
  {
   "cell_type": "code",
   "execution_count": 1,
   "id": "215d9513",
   "metadata": {},
   "outputs": [
    {
     "name": "stdout",
     "output_type": "stream",
     "text": [
      "The original array is: [2, 4, 5, 1, 3]\n",
      "The sorted array is:  [1, 2, 3, 4, 5]\n"
     ]
    }
   ],
   "source": [
    "def cycle_Sort(array):\n",
    "  write = 0\n",
    "   \n",
    "  for cycle in range(0, len(array) - 1):\n",
    "    ele = array[cycle]\n",
    "     \n",
    "    position = cycle\n",
    "    for i in range(cycle + 1, len(array)):\n",
    "      if array[i] < ele:\n",
    "        position += 1\n",
    "     \n",
    "    if position == cycle:\n",
    "      continue\n",
    "     \n",
    "    while ele == array[position]:\n",
    "      position += 1\n",
    "    array[position], ele = ele, array[position]\n",
    "    write += 1\n",
    "     \n",
    "    while position != cycle:\n",
    "       \n",
    "      position = cycle\n",
    "      for a in range(cycle + 1, len(array)):\n",
    "        if array[a] < ele:\n",
    "          position += 1\n",
    "       \n",
    "      while ele == array[position]:\n",
    "        position += 1\n",
    "      array[position], ele = ele, array[position]\n",
    "      write += 1\n",
    "   \n",
    "  return write\n",
    "   \n",
    "# driver code\n",
    "array = [2, 4, 5, 1, 3]\n",
    "print(\"The original array is:\", array)\n",
    "n = len(array)\n",
    "cycle_Sort(array)\n",
    "print(\"The sorted array is: \",array)"
   ]
  },
  {
   "cell_type": "markdown",
   "id": "3da84be9",
   "metadata": {},
   "source": [
    "#### 2.\tPython Program for Stooge Sort."
   ]
  },
  {
   "cell_type": "code",
   "execution_count": 2,
   "id": "83fbd1c7",
   "metadata": {},
   "outputs": [
    {
     "name": "stdout",
     "output_type": "stream",
     "text": [
      "Sorted sequence is:\n",
      "1 2 3 4 5 6 7 8 "
     ]
    }
   ],
   "source": [
    "def stoogesort(arr, l, h):\n",
    "   if l >= h:\n",
    "      return\n",
    "   # swap\n",
    "   if arr[l]>arr[h]:\n",
    "      t = arr[l]\n",
    "      arr[l] = arr[h]\n",
    "      arr[h] = t\n",
    "   # more than 2 elements\n",
    "   if h-l+1 > 2:\n",
    "      t = (int)((h-l+1)/3)\n",
    "      # sort first 2/3 elements\n",
    "      stoogesort(arr, l, (h-t))\n",
    "      # sort last 2/3 elements\n",
    "      stoogesort(arr, l+t, (h))\n",
    "      # sort first 2/3 elements again\n",
    "      stoogesort(arr, l, (h-t))\n",
    "# main\n",
    "arr = [1,4,2,3,6,5,8,7]\n",
    "n = len(arr)\n",
    "stoogesort(arr, 0, n-1)\n",
    "print (\"Sorted sequence is:\")\n",
    "for i in range(0, n):\n",
    "   print(arr[i], end = \" \")"
   ]
  },
  {
   "cell_type": "markdown",
   "id": "ba360dd0",
   "metadata": {},
   "source": [
    "#### 3.\tPython Program to print the pattern ‘G’."
   ]
  },
  {
   "cell_type": "code",
   "execution_count": 3,
   "id": "4a1caf72",
   "metadata": {},
   "outputs": [
    {
     "name": "stdout",
     "output_type": "stream",
     "text": [
      "  ***  \n",
      " *     \n",
      " *     \n",
      " * *** \n",
      " *   * \n",
      " *   * \n",
      "  ***  \n",
      "\n"
     ]
    }
   ],
   "source": [
    "def Pattern(line):\n",
    "    pat=\"\"\n",
    "    for i in range(0,line):   \n",
    "        for j in range(0,line):    \n",
    "            if ((j == 1 and i != 0 and i != line-1) or ((i == 0 or\n",
    "                i == line-1) and j > 1 and j < line-2) or (i == ((line-1)/2)\n",
    "                and j > line-5 and j < line-1) or (j == line-2 and\n",
    "                i != 0 and i != line-1 and i >=((line-1)/2))): \n",
    "                pat=pat+\"*\"  \n",
    "            else:     \n",
    "                pat=pat+\" \"  \n",
    "        pat=pat+\"\\n\"  \n",
    "    return pat\n",
    "  \n",
    "# Driver Code\n",
    "line = 7\n",
    "print(Pattern(line))"
   ]
  },
  {
   "cell_type": "markdown",
   "id": "3f0eb343",
   "metadata": {},
   "source": [
    "#### 4.\tPython Program to print an Inverted Star Pattern."
   ]
  },
  {
   "cell_type": "code",
   "execution_count": 9,
   "id": "82a21df9",
   "metadata": {},
   "outputs": [
    {
     "name": "stdout",
     "output_type": "stream",
     "text": [
      "Enter the number of rows: 4\n",
      "* * * *  \n",
      "* * *  \n",
      "* *  \n",
      "*  \n",
      " \n"
     ]
    }
   ],
   "source": [
    "rows = int(input(\"Enter the number of rows: \"))  \n",
    "for a in range(rows + 1, 0, -1):    \n",
    "    for b in range(0, a - 1):  \n",
    "        print(\"*\", end=' ')  \n",
    "    print(\" \")"
   ]
  },
  {
   "cell_type": "markdown",
   "id": "cb9fd701",
   "metadata": {},
   "source": [
    "#### 5.\tPython Program to print double sided stair-case pattern."
   ]
  },
  {
   "cell_type": "code",
   "execution_count": 11,
   "id": "69f02252",
   "metadata": {},
   "outputs": [
    {
     "name": "stdout",
     "output_type": "stream",
     "text": [
      "Please enter the size:20\n",
      "                                     *   * \n",
      "                                     *   * \n",
      "                                 *   *   *   * \n",
      "                                 *   *   *   * \n",
      "                             *   *   *   *   *   * \n",
      "                             *   *   *   *   *   * \n",
      "                         *   *   *   *   *   *   *   * \n",
      "                         *   *   *   *   *   *   *   * \n",
      "                     *   *   *   *   *   *   *   *   *   * \n",
      "                     *   *   *   *   *   *   *   *   *   * \n",
      "                 *   *   *   *   *   *   *   *   *   *   *   * \n",
      "                 *   *   *   *   *   *   *   *   *   *   *   * \n",
      "             *   *   *   *   *   *   *   *   *   *   *   *   *   * \n",
      "             *   *   *   *   *   *   *   *   *   *   *   *   *   * \n",
      "         *   *   *   *   *   *   *   *   *   *   *   *   *   *   *   * \n",
      "         *   *   *   *   *   *   *   *   *   *   *   *   *   *   *   * \n",
      "     *   *   *   *   *   *   *   *   *   *   *   *   *   *   *   *   *   * \n",
      "     *   *   *   *   *   *   *   *   *   *   *   *   *   *   *   *   *   * \n",
      " *   *   *   *   *   *   *   *   *   *   *   *   *   *   *   *   *   *   *   * \n",
      " *   *   *   *   *   *   *   *   *   *   *   *   *   *   *   *   *   *   *   * \n"
     ]
    }
   ],
   "source": [
    "def pattern(n):\n",
    "    for a in range(1,n+1):\n",
    "        c =a + 1 if(a % 2 != 0) else a\n",
    "        for b in range(c,n):\n",
    "            if b>=c:\n",
    "                print(end=\"  \")\n",
    "        for d in range(0,c):\n",
    "            if d == c - 1:\n",
    "                print(\" * \")\n",
    "            else:\n",
    "                print(\" * \", end = \" \")\n",
    "# Driver code\n",
    "n = int(input(\"Please enter the size:\"))\n",
    "if n<10:\n",
    "    print(\"Enter range above 10\")\n",
    "else:\n",
    "    pattern(n)"
   ]
  },
  {
   "cell_type": "markdown",
   "id": "4d712cea",
   "metadata": {},
   "source": [
    "#### 6.\tPython Program to print with your own font."
   ]
  },
  {
   "cell_type": "code",
   "execution_count": 14,
   "id": "8c0ec403",
   "metadata": {},
   "outputs": [
    {
     "name": "stdout",
     "output_type": "stream",
     "text": [
      "..######..\n",
      "..#....#..\n",
      "..######.. \n",
      "..#....#..\n",
      "..#....#..\n",
      "\n",
      "\n",
      "..#....#..\n",
      "...#..#...\n",
      "....##.... \n",
      "....##....\n",
      "....##....\n",
      "\n",
      "\n",
      "..#....#..\n",
      "..#....#..\n",
      "..#....#.. \n",
      "..#....#..\n",
      "..######..\n",
      "\n",
      "\n",
      "..######..\n",
      "..#.......\n",
      "..######.. \n",
      ".......#..\n",
      "..######..\n",
      "\n",
      "\n",
      "..#....#..\n",
      "..#....#..\n",
      "..######.. \n",
      "..#....#..\n",
      "..#....#..\n",
      "\n",
      "\n"
     ]
    }
   ],
   "source": [
    "name = \"AYUSH\"\n",
    "length = len(name)\n",
    "l = \"\"\n",
    " \n",
    "for x in range(0, length):\n",
    "    c = name[x]\n",
    "    c = c.upper()\n",
    "     \n",
    "    if (c == \"A\"):\n",
    "        print(\"..######..\\n..#....#..\\n..######..\", end = \" \")\n",
    "        print(\"\\n..#....#..\\n..#....#..\\n\\n\")\n",
    "         \n",
    "    elif (c == \"B\"):\n",
    "        print(\"..######..\\n..#....#..\\n..#####...\", end = \" \")\n",
    "        print(\"\\n..#....#..\\n..######..\\n\\n\")\n",
    "         \n",
    "    elif (c == \"C\"):\n",
    "        print(\"..######..\\n..#.......\\n..#.......\", end = \" \")\n",
    "        print(\"\\n..#.......\\n..######..\\n\\n\")\n",
    "         \n",
    "    elif (c == \"D\"):\n",
    "        print(\"..#####...\\n..#....#..\\n..#....#..\", end = \" \")\n",
    "        print(\"\\n..#....#..\\n..#####...\\n\\n\")\n",
    "         \n",
    "    elif (c == \"E\"):\n",
    "        print(\"..######..\\n..#.......\\n..#####...\", end = \" \")\n",
    "        print(\"\\n..#.......\\n..######..\\n\\n\")\n",
    "         \n",
    "    elif (c == \"F\"):\n",
    "        print(\"..######..\\n..#.......\\n..#####...\", end = \" \")\n",
    "        print(\"\\n..#.......\\n..#.......\\n\\n\")\n",
    "         \n",
    "    elif (c == \"G\"):\n",
    "        print(\"..######..\\n..#.......\\n..#.####..\", end = \" \")\n",
    "        print(\"\\n..#....#..\\n..#####...\\n\\n\")\n",
    "         \n",
    "    elif (c == \"H\"):\n",
    "        print(\"..#....#..\\n..#....#..\\n..######..\", end = \" \")\n",
    "        print(\"\\n..#....#..\\n..#....#..\\n\\n\")\n",
    "         \n",
    "    elif (c == \"I\"):\n",
    "        print(\"..######..\\n....##....\\n....##....\", end = \" \")\n",
    "        print(\"\\n....##....\\n..######..\\n\\n\")\n",
    "         \n",
    "    elif (c == \"J\"):\n",
    "        print(\"..######..\\n....##....\\n....##....\", end = \" \")\n",
    "        print(\"\\n..#.##....\\n..####....\\n\\n\")\n",
    "         \n",
    "    elif (c == \"K\"):\n",
    "        print(\"..#...#...\\n..#..#....\\n..##......\", end = \" \")\n",
    "        print(\"\\n..#..#....\\n..#...#...\\n\\n\")\n",
    "         \n",
    "    elif (c == \"L\"):\n",
    "        print(\"..#.......\\n..#.......\\n..#.......\", end = \" \")\n",
    "        print(\"\\n..#.......\\n..######..\\n\\n\")\n",
    "         \n",
    "    elif (c == \"M\"):\n",
    "        print(\"..#....#..\\n..##..##..\\n..#.##.#..\", end = \" \")\n",
    "        print(\"\\n..#....#..\\n..#....#..\\n\\n\")\n",
    "         \n",
    "    elif (c == \"N\"):\n",
    "        print(\"..#....#..\\n..##...#..\\n..#.#..#..\", end = \" \")\n",
    "        print(\"\\n..#..#.#..\\n..#...##..\\n\\n\")\n",
    "         \n",
    "    elif (c == \"O\"):\n",
    "        print(\"..######..\\n..#....#..\\n..#....#..\", end = \" \")\n",
    "        print(\"\\n..#....#..\\n..######..\\n\\n\")\n",
    "         \n",
    "    elif (c == \"P\"):\n",
    "        print(\"..######..\\n..#....#..\\n..######..\", end = \" \")\n",
    "        print(\"\\n..#.......\\n..#.......\\n\\n\")\n",
    "         \n",
    "    elif (c == \"Q\"):\n",
    "        print(\"..######..\\n..#....#..\\n..#.#..#..\", end = \" \")\n",
    "        print(\"\\n..#..#.#..\\n..######..\\n\\n\")\n",
    "         \n",
    "    elif (c == \"R\"):\n",
    "        print(\"..######..\\n..#....#..\\n..#.##...\", end = \" \")\n",
    "        print(\"\\n..#...#...\\n..#....#..\\n\\n\")\n",
    "         \n",
    "    elif (c == \"S\"):\n",
    "        print(\"..######..\\n..#.......\\n..######..\", end = \" \")\n",
    "        print(\"\\n.......#..\\n..######..\\n\\n\")\n",
    "         \n",
    "    elif (c == \"T\"):\n",
    "        print(\"..######..\\n....##....\\n....##....\", end = \" \")\n",
    "        print(\"\\n....##....\\n....##....\\n\\n\")\n",
    "         \n",
    "    elif (c == \"U\"):\n",
    "        print(\"..#....#..\\n..#....#..\\n..#....#..\", end = \" \")\n",
    "        print(\"\\n..#....#..\\n..######..\\n\\n\")\n",
    "         \n",
    "    elif (c == \"V\"):\n",
    "        print(\"..#....#..\\n..#....#..\\n..#....#..\", end = \" \")\n",
    "        print(\"\\n...#..#...\\n....##....\\n\\n\")\n",
    "         \n",
    "    elif (c == \"W\"):\n",
    "        print(\"..#....#..\\n..#....#..\\n..#.##.#..\", end = \" \")\n",
    "        print(\"\\n..##..##..\\n..#....#..\\n\\n\")\n",
    "         \n",
    "    elif (c == \"X\"):\n",
    "        print(\"..#....#..\\n...#..#...\\n....##....\", end = \" \")\n",
    "        print(\"\\n...#..#...\\n..#....#..\\n\\n\")\n",
    "         \n",
    "    elif (c == \"Y\"):\n",
    "        print(\"..#....#..\\n...#..#...\\n....##....\", end = \" \")\n",
    "        print(\"\\n....##....\\n....##....\\n\\n\")\n",
    "         \n",
    "    elif (c == \"Z\"):\n",
    "        print(\"..######..\\n......#...\\n.....#....\", end = \" \")\n",
    "        print(\"\\n....#.....\\n..######..\\n\\n\")\n",
    "         \n",
    "    elif (c == \" \"):\n",
    "        print(\"..........\\n..........\\n..........\", end = \" \")\n",
    "        print(\"\\n..........\\n\\n\")\n",
    "         \n",
    "    elif (c == \".\"):\n",
    "        print(\"----..----\\n\\n\")"
   ]
  },
  {
   "cell_type": "markdown",
   "id": "a3c7ff55",
   "metadata": {},
   "source": [
    "#### 7.\tGet Current Date and Time using Python."
   ]
  },
  {
   "cell_type": "code",
   "execution_count": 15,
   "id": "20f434cb",
   "metadata": {},
   "outputs": [
    {
     "name": "stdout",
     "output_type": "stream",
     "text": [
      "d1 = 20/05/2022\n",
      "d2 = May 20, 2022\n",
      "d3 = 05/20/22\n",
      "d4 = May-20-2022\n"
     ]
    }
   ],
   "source": [
    "from datetime import date\n",
    "\n",
    "today = date.today()\n",
    "\n",
    "# dd/mm/YY\n",
    "d1 = today.strftime(\"%d/%m/%Y\")\n",
    "print(\"d1 =\", d1)\n",
    "\n",
    "# Textual month, day and year\t\n",
    "d2 = today.strftime(\"%B %d, %Y\")\n",
    "print(\"d2 =\", d2)\n",
    "\n",
    "# mm/dd/y\n",
    "d3 = today.strftime(\"%m/%d/%y\")\n",
    "print(\"d3 =\", d3)\n",
    "\n",
    "# Month abbreviation, day and year\t\n",
    "d4 = today.strftime(\"%b-%d-%Y\")\n",
    "print(\"d4 =\", d4)\n"
   ]
  },
  {
   "cell_type": "markdown",
   "id": "b30d04c5",
   "metadata": {},
   "source": [
    "#### 8.\tPython | Find yesterday’s, today’s and tomorrow’s date."
   ]
  },
  {
   "cell_type": "code",
   "execution_count": 16,
   "id": "2d43882b",
   "metadata": {},
   "outputs": [
    {
     "name": "stdout",
     "output_type": "stream",
     "text": [
      "Yesterday was :\n",
      "19-05-2022\n",
      "Today is :\n",
      "20-05-2022\n",
      "Tomorrow would be :\n",
      "21-05-2022\n"
     ]
    }
   ],
   "source": [
    "from datetime import datetime, timedelta\n",
    "\n",
    "present = datetime.now()\n",
    "yesterday = present - timedelta(1)\n",
    "tomorrow = present + timedelta(1)\n",
    "\n",
    "print(\"Yesterday was :\")\n",
    "print(yesterday.strftime('%d-%m-%Y'))\n",
    "print(\"Today is :\")\n",
    "print(present.strftime('%d-%m-%Y'))\n",
    "print(\"Tomorrow would be :\")\n",
    "print(tomorrow.strftime('%d-%m-%Y'))"
   ]
  },
  {
   "cell_type": "markdown",
   "id": "878715be",
   "metadata": {},
   "source": [
    "#### 9.\tPython program to convert time from 12 hour to 24 hour format."
   ]
  },
  {
   "cell_type": "code",
   "execution_count": 29,
   "id": "70b45e25",
   "metadata": {},
   "outputs": [
    {
     "name": "stdout",
     "output_type": "stream",
     "text": [
      "12-hour Format time::  01:58:42 PM\n",
      "24-hour Format time :: 13:58:42\n"
     ]
    }
   ],
   "source": [
    "def convert(string):\n",
    "\n",
    "      if string[-2:] == \"AM\" and string[:2] == \"12\":\n",
    "         return \"00\" + string[2:-2]\n",
    "\n",
    "      elif string[-2:] == \"AM\":\n",
    "         return string[:-2]\n",
    "\n",
    "      elif string[-2:] == \"PM\" and string[:2] == \"12\":\n",
    "         return string[:-2]\n",
    "        \n",
    "      else:\n",
    "          return str(int(string[:2]) + 12) + string[2:8]\n",
    "\n",
    "#driver code\n",
    "time=\"01:58:42 PM\"\n",
    "print(\"12-hour Format time:: \", time)\n",
    "print(\"24-hour Format time ::\",convert(time))"
   ]
  }
 ],
 "metadata": {
  "kernelspec": {
   "display_name": "Python 3 (ipykernel)",
   "language": "python",
   "name": "python3"
  },
  "language_info": {
   "codemirror_mode": {
    "name": "ipython",
    "version": 3
   },
   "file_extension": ".py",
   "mimetype": "text/x-python",
   "name": "python",
   "nbconvert_exporter": "python",
   "pygments_lexer": "ipython3",
   "version": "3.9.7"
  }
 },
 "nbformat": 4,
 "nbformat_minor": 5
}
